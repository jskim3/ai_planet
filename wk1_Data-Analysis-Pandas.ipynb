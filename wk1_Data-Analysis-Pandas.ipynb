{
 "cells": [
  {
   "cell_type": "markdown",
   "id": "512a385c",
   "metadata": {},
   "source": [
    "# Data Analysis & Pandas\n",
    "## Pandas is a python package built on top of numpy\n",
    "### Advantage over numpy\n",
    "1. Flexibility (e.g. attaching labels to data)\n",
    "2. Element-wise broadcasting (e.g. groupings, pivots, etc.)\n"
   ]
  },
  {
   "cell_type": "code",
   "execution_count": 34,
   "id": "8f56870a",
   "metadata": {},
   "outputs": [
    {
     "name": "stdout",
     "output_type": "stream",
     "text": [
      "1.2.4\n"
     ]
    }
   ],
   "source": [
    "import pandas as pd\n",
    "import numpy as np\n",
    "\n",
    "print(pd.__version__)"
   ]
  },
  {
   "cell_type": "markdown",
   "id": "b742c741",
   "metadata": {},
   "source": [
    "## Pandas Objects\n"
   ]
  },
  {
   "cell_type": "markdown",
   "id": "9d52b8d4",
   "metadata": {},
   "source": [
    "### Creating a series using list of elements\n"
   ]
  },
  {
   "cell_type": "code",
   "execution_count": 35,
   "id": "6b2946ba",
   "metadata": {},
   "outputs": [
    {
     "name": "stdout",
     "output_type": "stream",
     "text": [
      "0     1\n",
      "1     1\n",
      "2     2\n",
      "3     3\n",
      "4     5\n",
      "5     8\n",
      "6    13\n",
      "dtype: int64\n",
      "<class 'list'>\n"
     ]
    }
   ],
   "source": [
    "l = [1,1,2,3,5,8,13]\n",
    "\n",
    "print(pd.Series(l))\n",
    "print(type(l))\n"
   ]
  },
  {
   "cell_type": "markdown",
   "id": "ba4976fc",
   "metadata": {},
   "source": [
    "### Creating a DataFrame from Python List\n"
   ]
  },
  {
   "cell_type": "code",
   "execution_count": 25,
   "id": "4fa00c9b",
   "metadata": {},
   "outputs": [
    {
     "name": "stdout",
     "output_type": "stream",
     "text": [
      "[[1000, 'Steve', 86.29], [1001, 'Mathew', 91.63], [1002, 'Jose', 72.9], [1003, 'Patty', 69.23], [1004, 'Vin', 88.3]]\n",
      "<class 'list'>\n",
      "   Regd. No    Name  Marks%]\n",
      "1      1000   Steve    86.29\n",
      "2      1001  Mathew    91.63\n",
      "3      1002    Jose    72.90\n",
      "4      1003   Patty    69.23\n",
      "5      1004     Vin    88.30\n",
      "<class 'pandas.core.frame.DataFrame'>\n"
     ]
    }
   ],
   "source": [
    "#create python list\n",
    "data = [[1000, 'Steve', 86.29], [1001, 'Mathew', 91.63], [1002, 'Jose', 72.90], [1003, 'Patty', 69.23], [1004, 'Vin', 88.30]]\n",
    "print(data)\n",
    "print(type(data))\n",
    "\n",
    "#create dataframe from python list\n",
    "data_df = pd.DataFrame(data, columns= ['Regd. No', 'Name', 'Marks%]'], index =[1,2,3,4,5])\n",
    "print(data_df)\n",
    "print(type(data_df))"
   ]
  },
  {
   "cell_type": "code",
   "execution_count": 26,
   "id": "36612d11",
   "metadata": {},
   "outputs": [
    {
     "name": "stdout",
     "output_type": "stream",
     "text": [
      "[['1000' 'Steve' '86.29']\n",
      " ['1001' 'Mathew' '91.63']\n",
      " ['1002' 'Jose' '72.9']\n",
      " ['1003' 'Patty' '69.23']\n",
      " ['1004' 'Vin' '88.3']]\n",
      "<class 'numpy.ndarray'>\n"
     ]
    }
   ],
   "source": [
    "#create numpy array from python list\n",
    "narray = np.array(data)\n",
    "print(narray)\n",
    "print(type(narray))\n"
   ]
  },
  {
   "cell_type": "code",
   "execution_count": 30,
   "id": "11cc3a77",
   "metadata": {},
   "outputs": [
    {
     "data": {
      "text/html": [
       "<div>\n",
       "<style scoped>\n",
       "    .dataframe tbody tr th:only-of-type {\n",
       "        vertical-align: middle;\n",
       "    }\n",
       "\n",
       "    .dataframe tbody tr th {\n",
       "        vertical-align: top;\n",
       "    }\n",
       "\n",
       "    .dataframe thead th {\n",
       "        text-align: right;\n",
       "    }\n",
       "</style>\n",
       "<table border=\"1\" class=\"dataframe\">\n",
       "  <thead>\n",
       "    <tr style=\"text-align: right;\">\n",
       "      <th></th>\n",
       "      <th>Regd. No</th>\n",
       "      <th>Names</th>\n",
       "      <th>Marks%</th>\n",
       "    </tr>\n",
       "  </thead>\n",
       "  <tbody>\n",
       "    <tr>\n",
       "      <th>0</th>\n",
       "      <td>1000</td>\n",
       "      <td>Steve</td>\n",
       "      <td>86.29</td>\n",
       "    </tr>\n",
       "    <tr>\n",
       "      <th>1</th>\n",
       "      <td>1001</td>\n",
       "      <td>Mathew</td>\n",
       "      <td>91.63</td>\n",
       "    </tr>\n",
       "    <tr>\n",
       "      <th>2</th>\n",
       "      <td>1002</td>\n",
       "      <td>Jose</td>\n",
       "      <td>72.90</td>\n",
       "    </tr>\n",
       "    <tr>\n",
       "      <th>3</th>\n",
       "      <td>1003</td>\n",
       "      <td>Patty</td>\n",
       "      <td>69.23</td>\n",
       "    </tr>\n",
       "    <tr>\n",
       "      <th>4</th>\n",
       "      <td>1004</td>\n",
       "      <td>Vin</td>\n",
       "      <td>88.30</td>\n",
       "    </tr>\n",
       "  </tbody>\n",
       "</table>\n",
       "</div>"
      ],
      "text/plain": [
       "   Regd. No   Names  Marks%\n",
       "0      1000   Steve   86.29\n",
       "1      1001  Mathew   91.63\n",
       "2      1002    Jose   72.90\n",
       "3      1003   Patty   69.23\n",
       "4      1004     Vin   88.30"
      ]
     },
     "execution_count": 30,
     "metadata": {},
     "output_type": "execute_result"
    }
   ],
   "source": [
    "### Creating a DataFrame from dictionary\n",
    "\n",
    "data_dict = {'Regd. No': [1000, 1001, 1002, 1003, 1004], 'Names': ['Steve', 'Mathew', 'Jose', 'Patty', 'Vin'], 'Marks%': [86.29,91.63,72.90,69.23,88.30]}\n",
    "\n",
    "pd.DataFrame(data_dict)"
   ]
  },
  {
   "cell_type": "code",
   "execution_count": 31,
   "id": "eb324269",
   "metadata": {},
   "outputs": [
    {
     "name": "stdout",
     "output_type": "stream",
     "text": [
      "<class 'dict'>\n"
     ]
    }
   ],
   "source": [
    "print(type(data_dict))"
   ]
  },
  {
   "cell_type": "markdown",
   "id": "5a205213",
   "metadata": {},
   "source": [
    "# Diving deep into Pandas"
   ]
  },
  {
   "cell_type": "code",
   "execution_count": 37,
   "id": "239228e0",
   "metadata": {},
   "outputs": [
    {
     "data": {
      "text/plain": [
       "0    0.25\n",
       "1    0.50\n",
       "2    0.75\n",
       "3    1.00\n",
       "dtype: float64"
      ]
     },
     "execution_count": 37,
     "metadata": {},
     "output_type": "execute_result"
    }
   ],
   "source": [
    "# An advantage of pandas series - index value is produced; numpy array does not include index values\n",
    "data = pd.Series([0.25,0.5,0.75,1.0])\n",
    "data"
   ]
  },
  {
   "cell_type": "code",
   "execution_count": 38,
   "id": "4fc28460",
   "metadata": {},
   "outputs": [
    {
     "data": {
      "text/plain": [
       "array([0.25, 0.5 , 0.75, 1.  ])"
      ]
     },
     "execution_count": 38,
     "metadata": {},
     "output_type": "execute_result"
    }
   ],
   "source": [
    "# Pandas .values is like a numpy array\n",
    "data.values"
   ]
  },
  {
   "cell_type": "code",
   "execution_count": 39,
   "id": "094f41f3",
   "metadata": {},
   "outputs": [
    {
     "data": {
      "text/plain": [
       "RangeIndex(start=0, stop=4, step=1)"
      ]
     },
     "execution_count": 39,
     "metadata": {},
     "output_type": "execute_result"
    }
   ],
   "source": [
    "# Pandas .index shows the index\n",
    "data.index"
   ]
  },
  {
   "cell_type": "code",
   "execution_count": 40,
   "id": "87a580db",
   "metadata": {},
   "outputs": [
    {
     "data": {
      "text/plain": [
       "0.5"
      ]
     },
     "execution_count": 40,
     "metadata": {},
     "output_type": "execute_result"
    }
   ],
   "source": [
    "data[1]"
   ]
  },
  {
   "cell_type": "code",
   "execution_count": 41,
   "id": "c4f5614d",
   "metadata": {},
   "outputs": [
    {
     "data": {
      "text/plain": [
       "1    0.50\n",
       "2    0.75\n",
       "dtype: float64"
      ]
     },
     "execution_count": 41,
     "metadata": {},
     "output_type": "execute_result"
    }
   ],
   "source": [
    "# splicing - when you index, start, stop (not included)\n",
    "data[1:3]"
   ]
  },
  {
   "cell_type": "code",
   "execution_count": 42,
   "id": "393fe45a",
   "metadata": {},
   "outputs": [
    {
     "data": {
      "text/plain": [
       "a    0.25\n",
       "b    0.50\n",
       "c    0.75\n",
       "d    1.00\n",
       "dtype: float64"
      ]
     },
     "execution_count": 42,
     "metadata": {},
     "output_type": "execute_result"
    }
   ],
   "source": [
    "# Creating a series\n",
    "# you can create any index you want - can be non-continuous\n",
    "data = pd.Series([0.25,0.5,0.75,1.0], index=['a','b','c','d'])\n",
    "data"
   ]
  },
  {
   "cell_type": "code",
   "execution_count": 43,
   "id": "1537c246",
   "metadata": {},
   "outputs": [
    {
     "data": {
      "text/plain": [
       "0.5"
      ]
     },
     "execution_count": 43,
     "metadata": {},
     "output_type": "execute_result"
    }
   ],
   "source": [
    "data['b']\n"
   ]
  },
  {
   "cell_type": "code",
   "execution_count": 44,
   "id": "a8b856be",
   "metadata": {},
   "outputs": [
    {
     "data": {
      "text/plain": [
       "CA    38332521\n",
       "TX    26448193\n",
       "NY    19651127\n",
       "FL    19552860\n",
       "IL    12882135\n",
       "dtype: int64"
      ]
     },
     "execution_count": 44,
     "metadata": {},
     "output_type": "execute_result"
    }
   ],
   "source": [
    "# Creating a series from a specialized dictionary\n",
    "pop_dict = {'CA': 38332521, 'TX': 26448193, 'NY': 19651127, 'FL': 19552860, 'IL': 12882135}\n",
    "population = pd.Series(pop_dict)\n",
    "population"
   ]
  },
  {
   "cell_type": "raw",
   "id": "aa4f56f2",
   "metadata": {},
   "source": []
  },
  {
   "cell_type": "code",
   "execution_count": 48,
   "id": "e7848c43",
   "metadata": {},
   "outputs": [
    {
     "data": {
      "text/plain": [
       "array([38332521, 26448193, 19651127, 19552860, 12882135])"
      ]
     },
     "execution_count": 48,
     "metadata": {},
     "output_type": "execute_result"
    }
   ],
   "source": [
    "population.values\n"
   ]
  },
  {
   "cell_type": "code",
   "execution_count": 49,
   "id": "4aea2561",
   "metadata": {},
   "outputs": [
    {
     "data": {
      "text/plain": [
       "Index(['CA', 'TX', 'NY', 'FL', 'IL'], dtype='object')"
      ]
     },
     "execution_count": 49,
     "metadata": {},
     "output_type": "execute_result"
    }
   ],
   "source": [
    "population.index"
   ]
  },
  {
   "cell_type": "code",
   "execution_count": 58,
   "id": "88428326",
   "metadata": {},
   "outputs": [
    {
     "name": "stdout",
     "output_type": "stream",
     "text": [
      "pop_dict is a <class 'dict'>\n",
      "38332521\n",
      "population is a <class 'pandas.core.series.Series'>\n",
      "38332521\n"
     ]
    }
   ],
   "source": [
    "print('pop_dict is a', type(pop_dict))\n",
    "print(pop_dict['CA']) #dictionary\n",
    "\n",
    "print('population is a', type(population))\n",
    "print(population['CA']) #series\n",
    "\n"
   ]
  },
  {
   "cell_type": "code",
   "execution_count": 65,
   "id": "acc87e9b",
   "metadata": {},
   "outputs": [
    {
     "name": "stdout",
     "output_type": "stream",
     "text": [
      "population is a <class 'pandas.core.series.Series'>\n",
      "CA    38332521\n",
      "TX    26448193\n",
      "NY    19651127\n",
      "FL    19552860\n",
      "IL    12882135\n",
      "dtype: int64\n",
      "pop_dict is a <class 'dict'>\n",
      "print(pop_dict['CA':'IL']) <--throws a TypeError: unhashable type: slice')\n"
     ]
    }
   ],
   "source": [
    "print('population is a', type(population))\n",
    "print(population['CA':'IL']) #series\n",
    "\n",
    "print('pop_dict is a', type(pop_dict))\n",
    "print(\"print(pop_dict['CA':'IL']) <--throws a TypeError: unhashable type: slice')\")"
   ]
  },
  {
   "cell_type": "code",
   "execution_count": 183,
   "id": "6c7c72c6",
   "metadata": {},
   "outputs": [
    {
     "data": {
      "text/plain": [
       "CA    423967\n",
       "TX    695662\n",
       "NY    141297\n",
       "FL    170312\n",
       "IL    149995\n",
       "dtype: int64"
      ]
     },
     "execution_count": 183,
     "metadata": {},
     "output_type": "execute_result"
    }
   ],
   "source": [
    "# Pandas DataFrame <-- think of as a 2D array - rows and columns\n",
    "area_dict = {'CA': 423967, 'TX': 695662, 'NY': 141297, 'FL': 170312, 'IL': 149995}\n",
    "\n",
    "area = pd.Series(area_dict)\n",
    "area"
   ]
  },
  {
   "cell_type": "code",
   "execution_count": 184,
   "id": "0bb38f1f",
   "metadata": {},
   "outputs": [
    {
     "data": {
      "text/html": [
       "<div>\n",
       "<style scoped>\n",
       "    .dataframe tbody tr th:only-of-type {\n",
       "        vertical-align: middle;\n",
       "    }\n",
       "\n",
       "    .dataframe tbody tr th {\n",
       "        vertical-align: top;\n",
       "    }\n",
       "\n",
       "    .dataframe thead th {\n",
       "        text-align: right;\n",
       "    }\n",
       "</style>\n",
       "<table border=\"1\" class=\"dataframe\">\n",
       "  <thead>\n",
       "    <tr style=\"text-align: right;\">\n",
       "      <th></th>\n",
       "      <th>population</th>\n",
       "      <th>area</th>\n",
       "    </tr>\n",
       "  </thead>\n",
       "  <tbody>\n",
       "    <tr>\n",
       "      <th>CA</th>\n",
       "      <td>38332521</td>\n",
       "      <td>423967</td>\n",
       "    </tr>\n",
       "    <tr>\n",
       "      <th>TX</th>\n",
       "      <td>26448193</td>\n",
       "      <td>695662</td>\n",
       "    </tr>\n",
       "    <tr>\n",
       "      <th>NY</th>\n",
       "      <td>19651127</td>\n",
       "      <td>141297</td>\n",
       "    </tr>\n",
       "    <tr>\n",
       "      <th>FL</th>\n",
       "      <td>19552860</td>\n",
       "      <td>170312</td>\n",
       "    </tr>\n",
       "    <tr>\n",
       "      <th>IL</th>\n",
       "      <td>12882135</td>\n",
       "      <td>149995</td>\n",
       "    </tr>\n",
       "  </tbody>\n",
       "</table>\n",
       "</div>"
      ],
      "text/plain": [
       "    population    area\n",
       "CA    38332521  423967\n",
       "TX    26448193  695662\n",
       "NY    19651127  141297\n",
       "FL    19552860  170312\n",
       "IL    12882135  149995"
      ]
     },
     "execution_count": 184,
     "metadata": {},
     "output_type": "execute_result"
    }
   ],
   "source": [
    "states = pd.DataFrame({'population': population, 'area': area})\n",
    "states"
   ]
  },
  {
   "cell_type": "code",
   "execution_count": 70,
   "id": "b5079770",
   "metadata": {},
   "outputs": [
    {
     "data": {
      "text/plain": [
       "Index(['CA', 'TX', 'NY', 'FL', 'IL'], dtype='object')"
      ]
     },
     "execution_count": 70,
     "metadata": {},
     "output_type": "execute_result"
    }
   ],
   "source": [
    "# DataFrame has an index attribute\n",
    "states.index"
   ]
  },
  {
   "cell_type": "code",
   "execution_count": 71,
   "id": "bbd80ad2",
   "metadata": {},
   "outputs": [
    {
     "data": {
      "text/plain": [
       "Index(['population', 'area'], dtype='object')"
      ]
     },
     "execution_count": 71,
     "metadata": {},
     "output_type": "execute_result"
    }
   ],
   "source": [
    "# DataFrame has columns attribute whihc is an index object holding the column labels\n",
    "states.columns"
   ]
  },
  {
   "cell_type": "code",
   "execution_count": 72,
   "id": "4a6ca746",
   "metadata": {},
   "outputs": [
    {
     "data": {
      "text/plain": [
       "Int64Index([2, 3, 5, 7, 11], dtype='int64')"
      ]
     },
     "execution_count": 72,
     "metadata": {},
     "output_type": "execute_result"
    }
   ],
   "source": [
    "# Pandas Index Object\n",
    "# Think of it as an immutable array\n",
    "\n",
    "ind = pd.Index([2,3,5,7,11])\n",
    "ind"
   ]
  },
  {
   "cell_type": "code",
   "execution_count": 73,
   "id": "8c587572",
   "metadata": {},
   "outputs": [
    {
     "data": {
      "text/plain": [
       "3"
      ]
     },
     "execution_count": 73,
     "metadata": {},
     "output_type": "execute_result"
    }
   ],
   "source": [
    "ind[1]"
   ]
  },
  {
   "cell_type": "code",
   "execution_count": 75,
   "id": "fcc281f5",
   "metadata": {},
   "outputs": [
    {
     "data": {
      "text/plain": [
       "Int64Index([2, 5, 11], dtype='int64')"
      ]
     },
     "execution_count": 75,
     "metadata": {},
     "output_type": "execute_result"
    }
   ],
   "source": [
    "ind[::2] # printing every second successive element - start = 0, stop: end, step = 2"
   ]
  },
  {
   "cell_type": "code",
   "execution_count": 76,
   "id": "9c3c7dc8",
   "metadata": {},
   "outputs": [
    {
     "name": "stdout",
     "output_type": "stream",
     "text": [
      "5 (5,) 1 int64\n"
     ]
    }
   ],
   "source": [
    "print(ind.size, ind.shape, ind.ndim, ind.dtype)"
   ]
  },
  {
   "cell_type": "code",
   "execution_count": 78,
   "id": "2e97b513",
   "metadata": {},
   "outputs": [
    {
     "name": "stdout",
     "output_type": "stream",
     "text": [
      "ind[1] = 0 throws TypeError: Index does not support mutable operations\n"
     ]
    }
   ],
   "source": [
    "print(\"ind[1] = 0 throws TypeError: Index does not support mutable operations\")"
   ]
  },
  {
   "cell_type": "markdown",
   "id": "e99d7af5",
   "metadata": {},
   "source": [
    "# Data Indexing and Selection\n",
    "## Data Selection in Series"
   ]
  },
  {
   "cell_type": "code",
   "execution_count": 79,
   "id": "bf4b81c8",
   "metadata": {},
   "outputs": [
    {
     "data": {
      "text/plain": [
       "a    0.25\n",
       "b    0.50\n",
       "c    0.75\n",
       "d    1.00\n",
       "dtype: float64"
      ]
     },
     "execution_count": 79,
     "metadata": {},
     "output_type": "execute_result"
    }
   ],
   "source": [
    "data = pd.Series([0.25,0.5,0.75,1.0], index=['a','b','c','d'])\n",
    "data"
   ]
  },
  {
   "cell_type": "code",
   "execution_count": 80,
   "id": "132b9616",
   "metadata": {},
   "outputs": [
    {
     "data": {
      "text/plain": [
       "a    0.25\n",
       "b    0.50\n",
       "c    0.75\n",
       "d    1.00\n",
       "e    1.25\n",
       "dtype: float64"
      ]
     },
     "execution_count": 80,
     "metadata": {},
     "output_type": "execute_result"
    }
   ],
   "source": [
    "data['e'] = 1.25 # appending\n",
    "data"
   ]
  },
  {
   "cell_type": "code",
   "execution_count": 82,
   "id": "f6cb11d0",
   "metadata": {},
   "outputs": [
    {
     "data": {
      "text/plain": [
       "a    0.25\n",
       "b    0.50\n",
       "c    0.75\n",
       "dtype: float64"
      ]
     },
     "execution_count": 82,
     "metadata": {},
     "output_type": "execute_result"
    }
   ],
   "source": [
    "# slicing by explicit index\n",
    "data['a':'c']"
   ]
  },
  {
   "cell_type": "code",
   "execution_count": 83,
   "id": "ed7a2daa",
   "metadata": {},
   "outputs": [
    {
     "data": {
      "text/plain": [
       "a    0.25\n",
       "b    0.50\n",
       "dtype: float64"
      ]
     },
     "execution_count": 83,
     "metadata": {},
     "output_type": "execute_result"
    }
   ],
   "source": [
    "# slicing by implicit integer index\n",
    "data[0:2]"
   ]
  },
  {
   "cell_type": "code",
   "execution_count": 85,
   "id": "628a6b01",
   "metadata": {},
   "outputs": [
    {
     "data": {
      "text/plain": [
       "a    0.25\n",
       "e    1.25\n",
       "b    0.50\n",
       "dtype: float64"
      ]
     },
     "execution_count": 85,
     "metadata": {},
     "output_type": "execute_result"
    }
   ],
   "source": [
    "# fancy indexing - extract specific index values\n",
    "data[['a','e', 'b']]"
   ]
  },
  {
   "cell_type": "markdown",
   "id": "bd087010",
   "metadata": {},
   "source": [
    "## Indexers: loc, iloc"
   ]
  },
  {
   "cell_type": "code",
   "execution_count": 170,
   "id": "9f5aa7b1",
   "metadata": {},
   "outputs": [
    {
     "data": {
      "text/plain": [
       "1    a\n",
       "2    b\n",
       "3    c\n",
       "5    d\n",
       "9    e\n",
       "dtype: object"
      ]
     },
     "execution_count": 170,
     "metadata": {},
     "output_type": "execute_result"
    }
   ],
   "source": [
    "data1 = pd.Series(['a', 'b', 'c', 'd', 'e'], index =[1,2,3,5,9])\n",
    "data1"
   ]
  },
  {
   "cell_type": "code",
   "execution_count": 171,
   "id": "4b213d6f",
   "metadata": {},
   "outputs": [
    {
     "data": {
      "text/plain": [
       "'a'"
      ]
     },
     "execution_count": 171,
     "metadata": {},
     "output_type": "execute_result"
    }
   ],
   "source": [
    "# loc attribute references the explicit index (data1 index = 1,3,5)\n",
    "data1.loc[1]"
   ]
  },
  {
   "cell_type": "code",
   "execution_count": 172,
   "id": "8a8dd3f5",
   "metadata": {},
   "outputs": [
    {
     "data": {
      "text/plain": [
       "'a'"
      ]
     },
     "execution_count": 172,
     "metadata": {},
     "output_type": "execute_result"
    }
   ],
   "source": [
    "data1[1]"
   ]
  },
  {
   "cell_type": "code",
   "execution_count": 173,
   "id": "db820147",
   "metadata": {},
   "outputs": [
    {
     "data": {
      "text/plain": [
       "1    a\n",
       "2    b\n",
       "3    c\n",
       "dtype: object"
      ]
     },
     "execution_count": 173,
     "metadata": {},
     "output_type": "execute_result"
    }
   ],
   "source": [
    "data1.loc[1:3]"
   ]
  },
  {
   "cell_type": "code",
   "execution_count": 166,
   "id": "fbdc6f52",
   "metadata": {},
   "outputs": [
    {
     "data": {
      "text/plain": [
       "array(['a', 'b', 'c', 'd', 'e'], dtype=object)"
      ]
     },
     "execution_count": 166,
     "metadata": {},
     "output_type": "execute_result"
    }
   ],
   "source": [
    "data1.values"
   ]
  },
  {
   "cell_type": "code",
   "execution_count": 169,
   "id": "8608b7f3",
   "metadata": {},
   "outputs": [
    {
     "data": {
      "text/plain": [
       "'b'"
      ]
     },
     "execution_count": 169,
     "metadata": {},
     "output_type": "execute_result"
    }
   ],
   "source": [
    "# iloc attribute references the implicit Python-style index - the location (0,1,2,etc.)\n",
    "data1.iloc[1]"
   ]
  },
  {
   "cell_type": "code",
   "execution_count": 142,
   "id": "88c4ebd6",
   "metadata": {},
   "outputs": [
    {
     "name": "stdout",
     "output_type": "stream",
     "text": [
      "data1 \n",
      " 1    a\n",
      "2    b\n",
      "3    c\n",
      "5    d\n",
      "9    e\n",
      "dtype: object <class 'pandas.core.series.Series'> \n",
      "\n",
      "data1.loc[1]= a --> value with index 1\n",
      "data1.iloc[1]= b --> value in the position 1\n"
     ]
    }
   ],
   "source": [
    "print('data1', '\\n',data1, type(data1), '\\n')\n",
    "\n",
    "print('data1.loc[1]=', data1.loc[1], '--> value with index 1')\n",
    "print('data1.iloc[1]=', data1.iloc[1], '--> value in the position 1')\n"
   ]
  },
  {
   "cell_type": "code",
   "execution_count": 145,
   "id": "023c2ad7",
   "metadata": {},
   "outputs": [
    {
     "name": "stdout",
     "output_type": "stream",
     "text": [
      "data1 \n",
      " 1    a\n",
      "2    b\n",
      "3    c\n",
      "5    d\n",
      "9    e\n",
      "dtype: object <class 'pandas.core.series.Series'> \n",
      "\n",
      "data1.loc[1:3]= \n",
      " 1    a\n",
      "2    b\n",
      "3    c\n",
      "dtype: object --> value with index 1 to 3 \n",
      "\n",
      "data1.iloc[1:3]= \n",
      " 2    b\n",
      "3    c\n",
      "dtype: object --> value in the position 1 through position 3 (not including 3)\n"
     ]
    }
   ],
   "source": [
    "print('data1', '\\n',data1, type(data1), '\\n')\n",
    "\n",
    "print('data1.loc[1:3]= \\n', data1.loc[1:3], '--> value with index 1 to 3', '\\n')\n",
    "print('data1.iloc[1:3]= \\n', data1.iloc[1:3], '--> value in the position 1 through position 3 (not including 3)')"
   ]
  },
  {
   "cell_type": "markdown",
   "id": "e320822e",
   "metadata": {},
   "source": [
    "## Data Selection in DataFrame"
   ]
  },
  {
   "cell_type": "code",
   "execution_count": 149,
   "id": "02d2eea3",
   "metadata": {},
   "outputs": [
    {
     "name": "stdout",
     "output_type": "stream",
     "text": [
      "CA    423967\n",
      "TX    695662\n",
      "NY    141297\n",
      "FL    170312\n",
      "IL     14995\n",
      "dtype: int64\n",
      "<class 'pandas.core.series.Series'>\n"
     ]
    }
   ],
   "source": [
    "print(area)\n",
    "print(type(area))"
   ]
  },
  {
   "cell_type": "code",
   "execution_count": 152,
   "id": "6faa22d8",
   "metadata": {},
   "outputs": [
    {
     "name": "stdout",
     "output_type": "stream",
     "text": [
      "CA    38332521\n",
      "TX    26448193\n",
      "NY    19651127\n",
      "FL    19552860\n",
      "IL    12882135\n",
      "dtype: int64\n",
      "<class 'pandas.core.series.Series'>\n"
     ]
    }
   ],
   "source": [
    "print(population)\n",
    "print(type(population))"
   ]
  },
  {
   "cell_type": "code",
   "execution_count": 186,
   "id": "dd47817b",
   "metadata": {},
   "outputs": [
    {
     "data": {
      "text/html": [
       "<div>\n",
       "<style scoped>\n",
       "    .dataframe tbody tr th:only-of-type {\n",
       "        vertical-align: middle;\n",
       "    }\n",
       "\n",
       "    .dataframe tbody tr th {\n",
       "        vertical-align: top;\n",
       "    }\n",
       "\n",
       "    .dataframe thead th {\n",
       "        text-align: right;\n",
       "    }\n",
       "</style>\n",
       "<table border=\"1\" class=\"dataframe\">\n",
       "  <thead>\n",
       "    <tr style=\"text-align: right;\">\n",
       "      <th></th>\n",
       "      <th>area</th>\n",
       "      <th>pop</th>\n",
       "    </tr>\n",
       "  </thead>\n",
       "  <tbody>\n",
       "    <tr>\n",
       "      <th>CA</th>\n",
       "      <td>423967</td>\n",
       "      <td>38332521</td>\n",
       "    </tr>\n",
       "    <tr>\n",
       "      <th>TX</th>\n",
       "      <td>695662</td>\n",
       "      <td>26448193</td>\n",
       "    </tr>\n",
       "    <tr>\n",
       "      <th>NY</th>\n",
       "      <td>141297</td>\n",
       "      <td>19651127</td>\n",
       "    </tr>\n",
       "    <tr>\n",
       "      <th>FL</th>\n",
       "      <td>170312</td>\n",
       "      <td>19552860</td>\n",
       "    </tr>\n",
       "    <tr>\n",
       "      <th>IL</th>\n",
       "      <td>149995</td>\n",
       "      <td>12882135</td>\n",
       "    </tr>\n",
       "  </tbody>\n",
       "</table>\n",
       "</div>"
      ],
      "text/plain": [
       "      area       pop\n",
       "CA  423967  38332521\n",
       "TX  695662  26448193\n",
       "NY  141297  19651127\n",
       "FL  170312  19552860\n",
       "IL  149995  12882135"
      ]
     },
     "execution_count": 186,
     "metadata": {},
     "output_type": "execute_result"
    }
   ],
   "source": [
    "pop_area = pd.DataFrame({'area': area, 'pop': population})\n",
    "pop_area"
   ]
  },
  {
   "cell_type": "code",
   "execution_count": 187,
   "id": "86e8c6c4",
   "metadata": {},
   "outputs": [
    {
     "data": {
      "text/plain": [
       "CA    423967\n",
       "TX    695662\n",
       "NY    141297\n",
       "FL    170312\n",
       "IL    149995\n",
       "Name: area, dtype: int64"
      ]
     },
     "execution_count": 187,
     "metadata": {},
     "output_type": "execute_result"
    }
   ],
   "source": [
    "pop_area['area'] #calling area column"
   ]
  },
  {
   "cell_type": "code",
   "execution_count": 188,
   "id": "57b424e2",
   "metadata": {},
   "outputs": [
    {
     "data": {
      "text/plain": [
       "CA    423967\n",
       "TX    695662\n",
       "NY    141297\n",
       "FL    170312\n",
       "IL    149995\n",
       "Name: area, dtype: int64"
      ]
     },
     "execution_count": 188,
     "metadata": {},
     "output_type": "execute_result"
    }
   ],
   "source": [
    "pop_area.area #calling area column"
   ]
  },
  {
   "cell_type": "code",
   "execution_count": 189,
   "id": "c94cee9f",
   "metadata": {},
   "outputs": [
    {
     "data": {
      "text/html": [
       "<div>\n",
       "<style scoped>\n",
       "    .dataframe tbody tr th:only-of-type {\n",
       "        vertical-align: middle;\n",
       "    }\n",
       "\n",
       "    .dataframe tbody tr th {\n",
       "        vertical-align: top;\n",
       "    }\n",
       "\n",
       "    .dataframe thead th {\n",
       "        text-align: right;\n",
       "    }\n",
       "</style>\n",
       "<table border=\"1\" class=\"dataframe\">\n",
       "  <thead>\n",
       "    <tr style=\"text-align: right;\">\n",
       "      <th></th>\n",
       "      <th>area</th>\n",
       "      <th>pop</th>\n",
       "      <th>density</th>\n",
       "    </tr>\n",
       "  </thead>\n",
       "  <tbody>\n",
       "    <tr>\n",
       "      <th>CA</th>\n",
       "      <td>423967</td>\n",
       "      <td>38332521</td>\n",
       "      <td>90.413926</td>\n",
       "    </tr>\n",
       "    <tr>\n",
       "      <th>TX</th>\n",
       "      <td>695662</td>\n",
       "      <td>26448193</td>\n",
       "      <td>38.018740</td>\n",
       "    </tr>\n",
       "    <tr>\n",
       "      <th>NY</th>\n",
       "      <td>141297</td>\n",
       "      <td>19651127</td>\n",
       "      <td>139.076746</td>\n",
       "    </tr>\n",
       "    <tr>\n",
       "      <th>FL</th>\n",
       "      <td>170312</td>\n",
       "      <td>19552860</td>\n",
       "      <td>114.806121</td>\n",
       "    </tr>\n",
       "    <tr>\n",
       "      <th>IL</th>\n",
       "      <td>149995</td>\n",
       "      <td>12882135</td>\n",
       "      <td>85.883763</td>\n",
       "    </tr>\n",
       "  </tbody>\n",
       "</table>\n",
       "</div>"
      ],
      "text/plain": [
       "      area       pop     density\n",
       "CA  423967  38332521   90.413926\n",
       "TX  695662  26448193   38.018740\n",
       "NY  141297  19651127  139.076746\n",
       "FL  170312  19552860  114.806121\n",
       "IL  149995  12882135   85.883763"
      ]
     },
     "execution_count": 189,
     "metadata": {},
     "output_type": "execute_result"
    }
   ],
   "source": [
    "pop_area['density'] = pop_area['pop']/pop_area['area']\n",
    "pop_area\n"
   ]
  },
  {
   "cell_type": "code",
   "execution_count": 190,
   "id": "ae70d0bf",
   "metadata": {},
   "outputs": [
    {
     "data": {
      "text/plain": [
       "CA     90.413926\n",
       "TX     38.018740\n",
       "NY    139.076746\n",
       "FL    114.806121\n",
       "IL     85.883763\n",
       "Name: density, dtype: float64"
      ]
     },
     "execution_count": 190,
     "metadata": {},
     "output_type": "execute_result"
    }
   ],
   "source": [
    "pop_area['density']"
   ]
  },
  {
   "cell_type": "code",
   "execution_count": 191,
   "id": "f3a63aae",
   "metadata": {},
   "outputs": [
    {
     "data": {
      "text/plain": [
       "array([[4.23967000e+05, 3.83325210e+07, 9.04139261e+01],\n",
       "       [6.95662000e+05, 2.64481930e+07, 3.80187404e+01],\n",
       "       [1.41297000e+05, 1.96511270e+07, 1.39076746e+02],\n",
       "       [1.70312000e+05, 1.95528600e+07, 1.14806121e+02],\n",
       "       [1.49995000e+05, 1.28821350e+07, 8.58837628e+01]])"
      ]
     },
     "execution_count": 191,
     "metadata": {},
     "output_type": "execute_result"
    }
   ],
   "source": [
    "pop_area.values"
   ]
  },
  {
   "cell_type": "code",
   "execution_count": 192,
   "id": "1246a192",
   "metadata": {},
   "outputs": [
    {
     "data": {
      "text/html": [
       "<div>\n",
       "<style scoped>\n",
       "    .dataframe tbody tr th:only-of-type {\n",
       "        vertical-align: middle;\n",
       "    }\n",
       "\n",
       "    .dataframe tbody tr th {\n",
       "        vertical-align: top;\n",
       "    }\n",
       "\n",
       "    .dataframe thead th {\n",
       "        text-align: right;\n",
       "    }\n",
       "</style>\n",
       "<table border=\"1\" class=\"dataframe\">\n",
       "  <thead>\n",
       "    <tr style=\"text-align: right;\">\n",
       "      <th></th>\n",
       "      <th>area</th>\n",
       "      <th>pop</th>\n",
       "    </tr>\n",
       "  </thead>\n",
       "  <tbody>\n",
       "    <tr>\n",
       "      <th>CA</th>\n",
       "      <td>423967</td>\n",
       "      <td>38332521</td>\n",
       "    </tr>\n",
       "    <tr>\n",
       "      <th>TX</th>\n",
       "      <td>695662</td>\n",
       "      <td>26448193</td>\n",
       "    </tr>\n",
       "    <tr>\n",
       "      <th>NY</th>\n",
       "      <td>141297</td>\n",
       "      <td>19651127</td>\n",
       "    </tr>\n",
       "  </tbody>\n",
       "</table>\n",
       "</div>"
      ],
      "text/plain": [
       "      area       pop\n",
       "CA  423967  38332521\n",
       "TX  695662  26448193\n",
       "NY  141297  19651127"
      ]
     },
     "execution_count": 192,
     "metadata": {},
     "output_type": "execute_result"
    }
   ],
   "source": [
    "pop_area.iloc[:3,:2] #all row until 3, all the columns until 2"
   ]
  },
  {
   "cell_type": "code",
   "execution_count": 193,
   "id": "d0c8aa45",
   "metadata": {},
   "outputs": [
    {
     "data": {
      "text/html": [
       "<div>\n",
       "<style scoped>\n",
       "    .dataframe tbody tr th:only-of-type {\n",
       "        vertical-align: middle;\n",
       "    }\n",
       "\n",
       "    .dataframe tbody tr th {\n",
       "        vertical-align: top;\n",
       "    }\n",
       "\n",
       "    .dataframe thead th {\n",
       "        text-align: right;\n",
       "    }\n",
       "</style>\n",
       "<table border=\"1\" class=\"dataframe\">\n",
       "  <thead>\n",
       "    <tr style=\"text-align: right;\">\n",
       "      <th></th>\n",
       "      <th>area</th>\n",
       "      <th>pop</th>\n",
       "    </tr>\n",
       "  </thead>\n",
       "  <tbody>\n",
       "    <tr>\n",
       "      <th>CA</th>\n",
       "      <td>423967</td>\n",
       "      <td>38332521</td>\n",
       "    </tr>\n",
       "    <tr>\n",
       "      <th>TX</th>\n",
       "      <td>695662</td>\n",
       "      <td>26448193</td>\n",
       "    </tr>\n",
       "    <tr>\n",
       "      <th>NY</th>\n",
       "      <td>141297</td>\n",
       "      <td>19651127</td>\n",
       "    </tr>\n",
       "    <tr>\n",
       "      <th>FL</th>\n",
       "      <td>170312</td>\n",
       "      <td>19552860</td>\n",
       "    </tr>\n",
       "    <tr>\n",
       "      <th>IL</th>\n",
       "      <td>149995</td>\n",
       "      <td>12882135</td>\n",
       "    </tr>\n",
       "  </tbody>\n",
       "</table>\n",
       "</div>"
      ],
      "text/plain": [
       "      area       pop\n",
       "CA  423967  38332521\n",
       "TX  695662  26448193\n",
       "NY  141297  19651127\n",
       "FL  170312  19552860\n",
       "IL  149995  12882135"
      ]
     },
     "execution_count": 193,
     "metadata": {},
     "output_type": "execute_result"
    }
   ],
   "source": [
    "pop_area.loc[:'IL', :'pop']"
   ]
  },
  {
   "cell_type": "code",
   "execution_count": 194,
   "id": "cb8fb201",
   "metadata": {},
   "outputs": [
    {
     "data": {
      "text/html": [
       "<div>\n",
       "<style scoped>\n",
       "    .dataframe tbody tr th:only-of-type {\n",
       "        vertical-align: middle;\n",
       "    }\n",
       "\n",
       "    .dataframe tbody tr th {\n",
       "        vertical-align: top;\n",
       "    }\n",
       "\n",
       "    .dataframe thead th {\n",
       "        text-align: right;\n",
       "    }\n",
       "</style>\n",
       "<table border=\"1\" class=\"dataframe\">\n",
       "  <thead>\n",
       "    <tr style=\"text-align: right;\">\n",
       "      <th></th>\n",
       "      <th>area</th>\n",
       "      <th>pop</th>\n",
       "      <th>density</th>\n",
       "    </tr>\n",
       "  </thead>\n",
       "  <tbody>\n",
       "    <tr>\n",
       "      <th>NY</th>\n",
       "      <td>141297</td>\n",
       "      <td>19651127</td>\n",
       "      <td>139.076746</td>\n",
       "    </tr>\n",
       "    <tr>\n",
       "      <th>FL</th>\n",
       "      <td>170312</td>\n",
       "      <td>19552860</td>\n",
       "      <td>114.806121</td>\n",
       "    </tr>\n",
       "  </tbody>\n",
       "</table>\n",
       "</div>"
      ],
      "text/plain": [
       "      area       pop     density\n",
       "NY  141297  19651127  139.076746\n",
       "FL  170312  19552860  114.806121"
      ]
     },
     "execution_count": 194,
     "metadata": {},
     "output_type": "execute_result"
    }
   ],
   "source": [
    "pop_area[pop_area.density > 100] #print density > 100"
   ]
  },
  {
   "cell_type": "markdown",
   "id": "eaf327b3",
   "metadata": {},
   "source": [
    "# Handling Missing Data\n",
    "\n",
    "## NaN and None in Pandas"
   ]
  },
  {
   "cell_type": "code",
   "execution_count": 226,
   "id": "830ed198",
   "metadata": {},
   "outputs": [],
   "source": [
    "# NaN and None are interchangeable in Pandas\n",
    "import numpy as np\n",
    "data1 = pd.Series ([1, np.nan, 2, None])\n",
    "# can perform mathematical operations on np.nan\n",
    "# cannot perform on None - think of it as an operand"
   ]
  },
  {
   "cell_type": "code",
   "execution_count": 228,
   "id": "e264d2ef",
   "metadata": {},
   "outputs": [
    {
     "name": "stdout",
     "output_type": "stream",
     "text": [
      "1.0\n",
      "nan\n",
      "nan\n"
     ]
    }
   ],
   "source": [
    "print(data1[0])\n",
    "print(data1[3])\n",
    "print(data1[0]+data1[3])"
   ]
  },
  {
   "cell_type": "code",
   "execution_count": 199,
   "id": "df6aced5",
   "metadata": {},
   "outputs": [
    {
     "data": {
      "text/plain": [
       "0    False\n",
       "1     True\n",
       "2    False\n",
       "3     True\n",
       "dtype: bool"
      ]
     },
     "execution_count": 199,
     "metadata": {},
     "output_type": "execute_result"
    }
   ],
   "source": [
    "#isnull(): boolean mask\n",
    "data = pd.Series([1, np.nan, 'hello', None])\n",
    "data.isnull()"
   ]
  },
  {
   "cell_type": "code",
   "execution_count": 201,
   "id": "87f9e13e",
   "metadata": {},
   "outputs": [
    {
     "data": {
      "text/plain": [
       "0        1\n",
       "2    hello\n",
       "dtype: object"
      ]
     },
     "execution_count": 201,
     "metadata": {},
     "output_type": "execute_result"
    }
   ],
   "source": [
    "#notnull(): Opposite of isnull\n",
    "data[data.notnull()]"
   ]
  },
  {
   "cell_type": "code",
   "execution_count": 202,
   "id": "91dcd26f",
   "metadata": {},
   "outputs": [
    {
     "data": {
      "text/plain": [
       "0        1\n",
       "2    hello\n",
       "dtype: object"
      ]
     },
     "execution_count": 202,
     "metadata": {},
     "output_type": "execute_result"
    }
   ],
   "source": [
    "#Dropping null values - removes null values\n",
    "data.dropna()"
   ]
  },
  {
   "cell_type": "code",
   "execution_count": 203,
   "id": "f43c7ee2",
   "metadata": {},
   "outputs": [
    {
     "data": {
      "text/plain": [
       "0        1\n",
       "1      NaN\n",
       "2    hello\n",
       "3     None\n",
       "dtype: object"
      ]
     },
     "execution_count": 203,
     "metadata": {},
     "output_type": "execute_result"
    }
   ],
   "source": [
    "data"
   ]
  },
  {
   "cell_type": "code",
   "execution_count": 207,
   "id": "d9a59f17",
   "metadata": {},
   "outputs": [
    {
     "data": {
      "text/html": [
       "<div>\n",
       "<style scoped>\n",
       "    .dataframe tbody tr th:only-of-type {\n",
       "        vertical-align: middle;\n",
       "    }\n",
       "\n",
       "    .dataframe tbody tr th {\n",
       "        vertical-align: top;\n",
       "    }\n",
       "\n",
       "    .dataframe thead th {\n",
       "        text-align: right;\n",
       "    }\n",
       "</style>\n",
       "<table border=\"1\" class=\"dataframe\">\n",
       "  <thead>\n",
       "    <tr style=\"text-align: right;\">\n",
       "      <th></th>\n",
       "      <th>0</th>\n",
       "      <th>1</th>\n",
       "      <th>2</th>\n",
       "    </tr>\n",
       "  </thead>\n",
       "  <tbody>\n",
       "    <tr>\n",
       "      <th>0</th>\n",
       "      <td>1.0</td>\n",
       "      <td>NaN</td>\n",
       "      <td>2</td>\n",
       "    </tr>\n",
       "    <tr>\n",
       "      <th>1</th>\n",
       "      <td>2.0</td>\n",
       "      <td>3.0</td>\n",
       "      <td>5</td>\n",
       "    </tr>\n",
       "    <tr>\n",
       "      <th>2</th>\n",
       "      <td>NaN</td>\n",
       "      <td>4.0</td>\n",
       "      <td>6</td>\n",
       "    </tr>\n",
       "  </tbody>\n",
       "</table>\n",
       "</div>"
      ],
      "text/plain": [
       "     0    1  2\n",
       "0  1.0  NaN  2\n",
       "1  2.0  3.0  5\n",
       "2  NaN  4.0  6"
      ]
     },
     "execution_count": 207,
     "metadata": {},
     "output_type": "execute_result"
    }
   ],
   "source": [
    "df = pd.DataFrame([[1,np.nan,2], [2,3,5],[np.nan,4,6]])\n",
    "df"
   ]
  },
  {
   "cell_type": "code",
   "execution_count": 209,
   "id": "1ae67c65",
   "metadata": {},
   "outputs": [
    {
     "data": {
      "text/html": [
       "<div>\n",
       "<style scoped>\n",
       "    .dataframe tbody tr th:only-of-type {\n",
       "        vertical-align: middle;\n",
       "    }\n",
       "\n",
       "    .dataframe tbody tr th {\n",
       "        vertical-align: top;\n",
       "    }\n",
       "\n",
       "    .dataframe thead th {\n",
       "        text-align: right;\n",
       "    }\n",
       "</style>\n",
       "<table border=\"1\" class=\"dataframe\">\n",
       "  <thead>\n",
       "    <tr style=\"text-align: right;\">\n",
       "      <th></th>\n",
       "      <th>0</th>\n",
       "      <th>1</th>\n",
       "      <th>2</th>\n",
       "    </tr>\n",
       "  </thead>\n",
       "  <tbody>\n",
       "    <tr>\n",
       "      <th>1</th>\n",
       "      <td>2.0</td>\n",
       "      <td>3.0</td>\n",
       "      <td>5</td>\n",
       "    </tr>\n",
       "  </tbody>\n",
       "</table>\n",
       "</div>"
      ],
      "text/plain": [
       "     0    1  2\n",
       "1  2.0  3.0  5"
      ]
     },
     "execution_count": 209,
     "metadata": {},
     "output_type": "execute_result"
    }
   ],
   "source": [
    "# We cannont drop single values from a DataFrame - only full rows or full columns\n",
    "df.dropna() #default drops rows"
   ]
  },
  {
   "cell_type": "code",
   "execution_count": 210,
   "id": "0b2c854f",
   "metadata": {},
   "outputs": [
    {
     "data": {
      "text/html": [
       "<div>\n",
       "<style scoped>\n",
       "    .dataframe tbody tr th:only-of-type {\n",
       "        vertical-align: middle;\n",
       "    }\n",
       "\n",
       "    .dataframe tbody tr th {\n",
       "        vertical-align: top;\n",
       "    }\n",
       "\n",
       "    .dataframe thead th {\n",
       "        text-align: right;\n",
       "    }\n",
       "</style>\n",
       "<table border=\"1\" class=\"dataframe\">\n",
       "  <thead>\n",
       "    <tr style=\"text-align: right;\">\n",
       "      <th></th>\n",
       "      <th>0</th>\n",
       "      <th>1</th>\n",
       "      <th>2</th>\n",
       "    </tr>\n",
       "  </thead>\n",
       "  <tbody>\n",
       "    <tr>\n",
       "      <th>1</th>\n",
       "      <td>2.0</td>\n",
       "      <td>3.0</td>\n",
       "      <td>5</td>\n",
       "    </tr>\n",
       "  </tbody>\n",
       "</table>\n",
       "</div>"
      ],
      "text/plain": [
       "     0    1  2\n",
       "1  2.0  3.0  5"
      ]
     },
     "execution_count": 210,
     "metadata": {},
     "output_type": "execute_result"
    }
   ],
   "source": [
    "df.dropna(axis=0) #drops rows"
   ]
  },
  {
   "cell_type": "code",
   "execution_count": 211,
   "id": "cbdd61e1",
   "metadata": {},
   "outputs": [
    {
     "data": {
      "text/html": [
       "<div>\n",
       "<style scoped>\n",
       "    .dataframe tbody tr th:only-of-type {\n",
       "        vertical-align: middle;\n",
       "    }\n",
       "\n",
       "    .dataframe tbody tr th {\n",
       "        vertical-align: top;\n",
       "    }\n",
       "\n",
       "    .dataframe thead th {\n",
       "        text-align: right;\n",
       "    }\n",
       "</style>\n",
       "<table border=\"1\" class=\"dataframe\">\n",
       "  <thead>\n",
       "    <tr style=\"text-align: right;\">\n",
       "      <th></th>\n",
       "      <th>2</th>\n",
       "    </tr>\n",
       "  </thead>\n",
       "  <tbody>\n",
       "    <tr>\n",
       "      <th>0</th>\n",
       "      <td>2</td>\n",
       "    </tr>\n",
       "    <tr>\n",
       "      <th>1</th>\n",
       "      <td>5</td>\n",
       "    </tr>\n",
       "    <tr>\n",
       "      <th>2</th>\n",
       "      <td>6</td>\n",
       "    </tr>\n",
       "  </tbody>\n",
       "</table>\n",
       "</div>"
      ],
      "text/plain": [
       "   2\n",
       "0  2\n",
       "1  5\n",
       "2  6"
      ]
     },
     "execution_count": 211,
     "metadata": {},
     "output_type": "execute_result"
    }
   ],
   "source": [
    "df.dropna(axis=1) #drops columnns"
   ]
  },
  {
   "cell_type": "code",
   "execution_count": 213,
   "id": "f7f68144",
   "metadata": {},
   "outputs": [
    {
     "data": {
      "text/html": [
       "<div>\n",
       "<style scoped>\n",
       "    .dataframe tbody tr th:only-of-type {\n",
       "        vertical-align: middle;\n",
       "    }\n",
       "\n",
       "    .dataframe tbody tr th {\n",
       "        vertical-align: top;\n",
       "    }\n",
       "\n",
       "    .dataframe thead th {\n",
       "        text-align: right;\n",
       "    }\n",
       "</style>\n",
       "<table border=\"1\" class=\"dataframe\">\n",
       "  <thead>\n",
       "    <tr style=\"text-align: right;\">\n",
       "      <th></th>\n",
       "      <th>0</th>\n",
       "      <th>1</th>\n",
       "      <th>2</th>\n",
       "      <th>3</th>\n",
       "    </tr>\n",
       "  </thead>\n",
       "  <tbody>\n",
       "    <tr>\n",
       "      <th>0</th>\n",
       "      <td>1.0</td>\n",
       "      <td>NaN</td>\n",
       "      <td>2</td>\n",
       "      <td>NaN</td>\n",
       "    </tr>\n",
       "    <tr>\n",
       "      <th>1</th>\n",
       "      <td>2.0</td>\n",
       "      <td>3.0</td>\n",
       "      <td>5</td>\n",
       "      <td>NaN</td>\n",
       "    </tr>\n",
       "    <tr>\n",
       "      <th>2</th>\n",
       "      <td>NaN</td>\n",
       "      <td>4.0</td>\n",
       "      <td>6</td>\n",
       "      <td>NaN</td>\n",
       "    </tr>\n",
       "  </tbody>\n",
       "</table>\n",
       "</div>"
      ],
      "text/plain": [
       "     0    1  2   3\n",
       "0  1.0  NaN  2 NaN\n",
       "1  2.0  3.0  5 NaN\n",
       "2  NaN  4.0  6 NaN"
      ]
     },
     "execution_count": 213,
     "metadata": {},
     "output_type": "execute_result"
    }
   ],
   "source": [
    "df[3]=np.nan\n",
    "df"
   ]
  },
  {
   "cell_type": "code",
   "execution_count": 214,
   "id": "5ff71ae4",
   "metadata": {},
   "outputs": [
    {
     "data": {
      "text/html": [
       "<div>\n",
       "<style scoped>\n",
       "    .dataframe tbody tr th:only-of-type {\n",
       "        vertical-align: middle;\n",
       "    }\n",
       "\n",
       "    .dataframe tbody tr th {\n",
       "        vertical-align: top;\n",
       "    }\n",
       "\n",
       "    .dataframe thead th {\n",
       "        text-align: right;\n",
       "    }\n",
       "</style>\n",
       "<table border=\"1\" class=\"dataframe\">\n",
       "  <thead>\n",
       "    <tr style=\"text-align: right;\">\n",
       "      <th></th>\n",
       "      <th>0</th>\n",
       "      <th>1</th>\n",
       "      <th>2</th>\n",
       "    </tr>\n",
       "  </thead>\n",
       "  <tbody>\n",
       "    <tr>\n",
       "      <th>0</th>\n",
       "      <td>1.0</td>\n",
       "      <td>NaN</td>\n",
       "      <td>2</td>\n",
       "    </tr>\n",
       "    <tr>\n",
       "      <th>1</th>\n",
       "      <td>2.0</td>\n",
       "      <td>3.0</td>\n",
       "      <td>5</td>\n",
       "    </tr>\n",
       "    <tr>\n",
       "      <th>2</th>\n",
       "      <td>NaN</td>\n",
       "      <td>4.0</td>\n",
       "      <td>6</td>\n",
       "    </tr>\n",
       "  </tbody>\n",
       "</table>\n",
       "</div>"
      ],
      "text/plain": [
       "     0    1  2\n",
       "0  1.0  NaN  2\n",
       "1  2.0  3.0  5\n",
       "2  NaN  4.0  6"
      ]
     },
     "execution_count": 214,
     "metadata": {},
     "output_type": "execute_result"
    }
   ],
   "source": [
    "df.dropna(axis='columns', how='all')"
   ]
  },
  {
   "cell_type": "code",
   "execution_count": 216,
   "id": "62aafabf",
   "metadata": {},
   "outputs": [],
   "source": [
    "#Fill null values\n",
    "data = pd.Series([1, np.nan, 2, None, 3], index=list('abcde'))"
   ]
  },
  {
   "cell_type": "code",
   "execution_count": 217,
   "id": "19577432",
   "metadata": {},
   "outputs": [
    {
     "data": {
      "text/plain": [
       "a    1.0\n",
       "b    7.0\n",
       "c    2.0\n",
       "d    7.0\n",
       "e    3.0\n",
       "dtype: float64"
      ]
     },
     "execution_count": 217,
     "metadata": {},
     "output_type": "execute_result"
    }
   ],
   "source": [
    "data.fillna(7) #replace null values with specified values"
   ]
  },
  {
   "cell_type": "code",
   "execution_count": 218,
   "id": "b69143eb",
   "metadata": {},
   "outputs": [
    {
     "data": {
      "text/plain": [
       "a    1.0\n",
       "b    1.0\n",
       "c    2.0\n",
       "d    2.0\n",
       "e    3.0\n",
       "dtype: float64"
      ]
     },
     "execution_count": 218,
     "metadata": {},
     "output_type": "execute_result"
    }
   ],
   "source": [
    "# forward-fill\n",
    "data.fillna(method='ffill') #replace null value with value that is above it"
   ]
  },
  {
   "cell_type": "code",
   "execution_count": 220,
   "id": "6eedff87",
   "metadata": {},
   "outputs": [
    {
     "name": "stdout",
     "output_type": "stream",
     "text": [
      "a    1.0\n",
      "b    NaN\n",
      "c    2.0\n",
      "d    NaN\n",
      "e    3.0\n",
      "dtype: float64\n"
     ]
    },
    {
     "data": {
      "text/plain": [
       "a    1.0\n",
       "b    2.0\n",
       "c    2.0\n",
       "d    3.0\n",
       "e    3.0\n",
       "dtype: float64"
      ]
     },
     "execution_count": 220,
     "metadata": {},
     "output_type": "execute_result"
    }
   ],
   "source": [
    "# back-fill\n",
    "print(data)\n",
    "data.fillna(method='bfill') # replace null value with value that is below it"
   ]
  },
  {
   "cell_type": "code",
   "execution_count": 221,
   "id": "f2911a5a",
   "metadata": {},
   "outputs": [
    {
     "data": {
      "text/html": [
       "<div>\n",
       "<style scoped>\n",
       "    .dataframe tbody tr th:only-of-type {\n",
       "        vertical-align: middle;\n",
       "    }\n",
       "\n",
       "    .dataframe tbody tr th {\n",
       "        vertical-align: top;\n",
       "    }\n",
       "\n",
       "    .dataframe thead th {\n",
       "        text-align: right;\n",
       "    }\n",
       "</style>\n",
       "<table border=\"1\" class=\"dataframe\">\n",
       "  <thead>\n",
       "    <tr style=\"text-align: right;\">\n",
       "      <th></th>\n",
       "      <th>0</th>\n",
       "      <th>1</th>\n",
       "      <th>2</th>\n",
       "      <th>3</th>\n",
       "    </tr>\n",
       "  </thead>\n",
       "  <tbody>\n",
       "    <tr>\n",
       "      <th>0</th>\n",
       "      <td>1.0</td>\n",
       "      <td>NaN</td>\n",
       "      <td>2</td>\n",
       "      <td>NaN</td>\n",
       "    </tr>\n",
       "    <tr>\n",
       "      <th>1</th>\n",
       "      <td>2.0</td>\n",
       "      <td>3.0</td>\n",
       "      <td>5</td>\n",
       "      <td>NaN</td>\n",
       "    </tr>\n",
       "    <tr>\n",
       "      <th>2</th>\n",
       "      <td>NaN</td>\n",
       "      <td>4.0</td>\n",
       "      <td>6</td>\n",
       "      <td>NaN</td>\n",
       "    </tr>\n",
       "  </tbody>\n",
       "</table>\n",
       "</div>"
      ],
      "text/plain": [
       "     0    1  2   3\n",
       "0  1.0  NaN  2 NaN\n",
       "1  2.0  3.0  5 NaN\n",
       "2  NaN  4.0  6 NaN"
      ]
     },
     "execution_count": 221,
     "metadata": {},
     "output_type": "execute_result"
    }
   ],
   "source": [
    "df"
   ]
  },
  {
   "cell_type": "code",
   "execution_count": 223,
   "id": "a43187f1",
   "metadata": {},
   "outputs": [
    {
     "data": {
      "text/html": [
       "<div>\n",
       "<style scoped>\n",
       "    .dataframe tbody tr th:only-of-type {\n",
       "        vertical-align: middle;\n",
       "    }\n",
       "\n",
       "    .dataframe tbody tr th {\n",
       "        vertical-align: top;\n",
       "    }\n",
       "\n",
       "    .dataframe thead th {\n",
       "        text-align: right;\n",
       "    }\n",
       "</style>\n",
       "<table border=\"1\" class=\"dataframe\">\n",
       "  <thead>\n",
       "    <tr style=\"text-align: right;\">\n",
       "      <th></th>\n",
       "      <th>0</th>\n",
       "      <th>1</th>\n",
       "      <th>2</th>\n",
       "      <th>3</th>\n",
       "    </tr>\n",
       "  </thead>\n",
       "  <tbody>\n",
       "    <tr>\n",
       "      <th>0</th>\n",
       "      <td>1.0</td>\n",
       "      <td>1.0</td>\n",
       "      <td>2.0</td>\n",
       "      <td>2.0</td>\n",
       "    </tr>\n",
       "    <tr>\n",
       "      <th>1</th>\n",
       "      <td>2.0</td>\n",
       "      <td>3.0</td>\n",
       "      <td>5.0</td>\n",
       "      <td>5.0</td>\n",
       "    </tr>\n",
       "    <tr>\n",
       "      <th>2</th>\n",
       "      <td>NaN</td>\n",
       "      <td>4.0</td>\n",
       "      <td>6.0</td>\n",
       "      <td>6.0</td>\n",
       "    </tr>\n",
       "  </tbody>\n",
       "</table>\n",
       "</div>"
      ],
      "text/plain": [
       "     0    1    2    3\n",
       "0  1.0  1.0  2.0  2.0\n",
       "1  2.0  3.0  5.0  5.0\n",
       "2  NaN  4.0  6.0  6.0"
      ]
     },
     "execution_count": 223,
     "metadata": {},
     "output_type": "execute_result"
    }
   ],
   "source": [
    "df.fillna(method='ffill', axis=1) # if there is no column before - remains null"
   ]
  },
  {
   "cell_type": "code",
   "execution_count": 224,
   "id": "62acdae6",
   "metadata": {},
   "outputs": [
    {
     "data": {
      "text/html": [
       "<div>\n",
       "<style scoped>\n",
       "    .dataframe tbody tr th:only-of-type {\n",
       "        vertical-align: middle;\n",
       "    }\n",
       "\n",
       "    .dataframe tbody tr th {\n",
       "        vertical-align: top;\n",
       "    }\n",
       "\n",
       "    .dataframe thead th {\n",
       "        text-align: right;\n",
       "    }\n",
       "</style>\n",
       "<table border=\"1\" class=\"dataframe\">\n",
       "  <thead>\n",
       "    <tr style=\"text-align: right;\">\n",
       "      <th></th>\n",
       "      <th>0</th>\n",
       "      <th>1</th>\n",
       "      <th>2</th>\n",
       "      <th>3</th>\n",
       "    </tr>\n",
       "  </thead>\n",
       "  <tbody>\n",
       "    <tr>\n",
       "      <th>0</th>\n",
       "      <td>1.0</td>\n",
       "      <td>2.0</td>\n",
       "      <td>2.0</td>\n",
       "      <td>NaN</td>\n",
       "    </tr>\n",
       "    <tr>\n",
       "      <th>1</th>\n",
       "      <td>2.0</td>\n",
       "      <td>3.0</td>\n",
       "      <td>5.0</td>\n",
       "      <td>NaN</td>\n",
       "    </tr>\n",
       "    <tr>\n",
       "      <th>2</th>\n",
       "      <td>4.0</td>\n",
       "      <td>4.0</td>\n",
       "      <td>6.0</td>\n",
       "      <td>NaN</td>\n",
       "    </tr>\n",
       "  </tbody>\n",
       "</table>\n",
       "</div>"
      ],
      "text/plain": [
       "     0    1    2   3\n",
       "0  1.0  2.0  2.0 NaN\n",
       "1  2.0  3.0  5.0 NaN\n",
       "2  4.0  4.0  6.0 NaN"
      ]
     },
     "execution_count": 224,
     "metadata": {},
     "output_type": "execute_result"
    }
   ],
   "source": [
    "df.fillna(method='bfill', axis=1) # if there is no column after - remains null"
   ]
  },
  {
   "cell_type": "markdown",
   "id": "64736878",
   "metadata": {},
   "source": [
    "# Pandas String Operations"
   ]
  },
  {
   "cell_type": "code",
   "execution_count": 238,
   "id": "4d844a5e",
   "metadata": {},
   "outputs": [
    {
     "data": {
      "text/plain": [
       "['Peter', 'Paul', 'Mary', 'Guido']"
      ]
     },
     "execution_count": 238,
     "metadata": {},
     "output_type": "execute_result"
    }
   ],
   "source": [
    "data = ['peter', 'Paul', 'MARY', 'gUIDO']\n",
    "[s.capitalize() for s in data] # capitalize the first letter of each string"
   ]
  },
  {
   "cell_type": "code",
   "execution_count": 239,
   "id": "121eaab9",
   "metadata": {},
   "outputs": [
    {
     "name": "stdout",
     "output_type": "stream",
     "text": [
      "['peter', 'Paul', None, 'MARY', 'gUIDO']\n",
      "[s.capitalize() for s in data] # capitalize the first letter of each string <-- throws error 'NoneType' object has no attribute 'capitalize'\n"
     ]
    }
   ],
   "source": [
    "data_n = ['peter', 'Paul', None, 'MARY', 'gUIDO']\n",
    "print(data_n)\n",
    "print(\"[s.capitalize() for s in data_n] <-- throws AttributeError: 'NoneType' object has no attribute 'capitalize'\")"
   ]
  },
  {
   "cell_type": "code",
   "execution_count": 243,
   "id": "e5722563",
   "metadata": {},
   "outputs": [
    {
     "name": "stdout",
     "output_type": "stream",
     "text": [
      "['peter', 'Paul', nan, 'MARY', 'gUIDO']\n",
      "[s.capitalize() for s in data_nan] <-- throws AttributeError: 'float' object has no attribute 'capitlize'\n"
     ]
    }
   ],
   "source": [
    "data_nan = ['peter', 'Paul', np.nan, 'MARY', 'gUIDO']\n",
    "print(data_nan)\n",
    "print(\"[s.capitalize() for s in data_nan] <-- throws AttributeError: 'float' object has no attribute 'capitlize'\")"
   ]
  },
  {
   "cell_type": "code",
   "execution_count": 285,
   "id": "0dc162de",
   "metadata": {},
   "outputs": [
    {
     "name": "stdout",
     "output_type": "stream",
     "text": [
      "0\n",
      "1\n",
      "2\n",
      "3\n",
      "4\n",
      "5\n"
     ]
    },
    {
     "data": {
      "text/plain": [
       "[3, 3, 4, 5, 6, nan]"
      ]
     },
     "execution_count": 285,
     "metadata": {},
     "output_type": "execute_result"
    }
   ],
   "source": [
    "nums = [2,2,3,4,5, np.nan]\n",
    "nums_add = []\n",
    "j=0\n",
    "while j < len(nums):\n",
    "    print(j)\n",
    "    nums_add.append(nums[j] + 1)\n",
    "    j = j+1\n",
    "nums_add"
   ]
  },
  {
   "cell_type": "code",
   "execution_count": 290,
   "id": "52df7760",
   "metadata": {},
   "outputs": [],
   "source": [
    "#nums = [2,2,3,4,5, None] \n",
    "#nums_add = []\n",
    "#j=0\n",
    "#while j < len(nums):\n",
    "#    print(j)\n",
    "#    nums_add.append(nums[j] + 1)\n",
    "#    j = j+1\n",
    "#nums_add\n",
    "\n",
    "# Throws TypeError: unsupported operand type(s) for +: 'NoneType' and 'int'"
   ]
  },
  {
   "cell_type": "code",
   "execution_count": 280,
   "id": "db370469",
   "metadata": {},
   "outputs": [
    {
     "data": {
      "text/plain": [
       "[2, 2, 3, 4, 5, 6, 6]"
      ]
     },
     "execution_count": 280,
     "metadata": {},
     "output_type": "execute_result"
    }
   ],
   "source": [
    "nums.append(6)\n",
    "nums"
   ]
  },
  {
   "cell_type": "markdown",
   "id": "00f522ce",
   "metadata": {},
   "source": [
    "## Look at Python string methods\n",
    "list.str.lower() returns each list item in lowercase\n",
    "list.str.len() returns length of each list item\n",
    "list.str.split() returns each item separated by a comma where there was a space\n",
    "\n",
    "## Concat and Append\n",
    "pd.concat([ser1, ser2]) where ser1 and ser 2 are lists <--merges in series"
   ]
  },
  {
   "cell_type": "code",
   "execution_count": 3,
   "id": "b036b551",
   "metadata": {},
   "outputs": [],
   "source": [
    "import pandas as pd\n",
    "import numpy as np\n",
    "names = pd.Series(['Jenny Kim', 'Sora Lim', 'Jenny Lee', 'Miae Kim'])\n"
   ]
  },
  {
   "cell_type": "code",
   "execution_count": 4,
   "id": "b2a172c9",
   "metadata": {},
   "outputs": [
    {
     "ename": "AttributeError",
     "evalue": "'Series' object has no attribute 'upper'",
     "output_type": "error",
     "traceback": [
      "\u001b[0;31m---------------------------------------------------------------------------\u001b[0m",
      "\u001b[0;31mAttributeError\u001b[0m                            Traceback (most recent call last)",
      "\u001b[0;32m<ipython-input-4-e90c1bdf044e>\u001b[0m in \u001b[0;36m<module>\u001b[0;34m\u001b[0m\n\u001b[0;32m----> 1\u001b[0;31m \u001b[0mnames\u001b[0m\u001b[0;34m.\u001b[0m\u001b[0mupper\u001b[0m\u001b[0;34m(\u001b[0m\u001b[0;34m)\u001b[0m\u001b[0;34m\u001b[0m\u001b[0;34m\u001b[0m\u001b[0m\n\u001b[0m",
      "\u001b[0;32m/opt/anaconda3/lib/python3.8/site-packages/pandas/core/generic.py\u001b[0m in \u001b[0;36m__getattr__\u001b[0;34m(self, name)\u001b[0m\n\u001b[1;32m   5463\u001b[0m             \u001b[0;32mif\u001b[0m \u001b[0mself\u001b[0m\u001b[0;34m.\u001b[0m\u001b[0m_info_axis\u001b[0m\u001b[0;34m.\u001b[0m\u001b[0m_can_hold_identifiers_and_holds_name\u001b[0m\u001b[0;34m(\u001b[0m\u001b[0mname\u001b[0m\u001b[0;34m)\u001b[0m\u001b[0;34m:\u001b[0m\u001b[0;34m\u001b[0m\u001b[0;34m\u001b[0m\u001b[0m\n\u001b[1;32m   5464\u001b[0m                 \u001b[0;32mreturn\u001b[0m \u001b[0mself\u001b[0m\u001b[0;34m[\u001b[0m\u001b[0mname\u001b[0m\u001b[0;34m]\u001b[0m\u001b[0;34m\u001b[0m\u001b[0;34m\u001b[0m\u001b[0m\n\u001b[0;32m-> 5465\u001b[0;31m             \u001b[0;32mreturn\u001b[0m \u001b[0mobject\u001b[0m\u001b[0;34m.\u001b[0m\u001b[0m__getattribute__\u001b[0m\u001b[0;34m(\u001b[0m\u001b[0mself\u001b[0m\u001b[0;34m,\u001b[0m \u001b[0mname\u001b[0m\u001b[0;34m)\u001b[0m\u001b[0;34m\u001b[0m\u001b[0;34m\u001b[0m\u001b[0m\n\u001b[0m\u001b[1;32m   5466\u001b[0m \u001b[0;34m\u001b[0m\u001b[0m\n\u001b[1;32m   5467\u001b[0m     \u001b[0;32mdef\u001b[0m \u001b[0m__setattr__\u001b[0m\u001b[0;34m(\u001b[0m\u001b[0mself\u001b[0m\u001b[0;34m,\u001b[0m \u001b[0mname\u001b[0m\u001b[0;34m:\u001b[0m \u001b[0mstr\u001b[0m\u001b[0;34m,\u001b[0m \u001b[0mvalue\u001b[0m\u001b[0;34m)\u001b[0m \u001b[0;34m->\u001b[0m \u001b[0;32mNone\u001b[0m\u001b[0;34m:\u001b[0m\u001b[0;34m\u001b[0m\u001b[0;34m\u001b[0m\u001b[0m\n",
      "\u001b[0;31mAttributeError\u001b[0m: 'Series' object has no attribute 'upper'"
     ]
    }
   ],
   "source": [
    "names.upper()"
   ]
  },
  {
   "cell_type": "markdown",
   "id": "aa45d2ee",
   "metadata": {},
   "source": [
    "# Exercise 1"
   ]
  },
  {
   "cell_type": "markdown",
   "id": "2ec7fdee",
   "metadata": {},
   "source": [
    "Consider the following lists:\n",
    "\n",
    "    lst1 = [1, 2, 3, 5, 8]\n",
    "    lst2 = [8, 5, 3, 2, 1]\n",
    "\n",
    "1. Create and display two individual Series objects s1 and s2 from the data available on each list.\n",
    "2. Perform the following operations with the two series (element-wise):  \n",
    "    A. Add s1 and s2 and store the result in a new variable s3_add  \n",
    "    B. Subtract s2 from s1 and store the result in a new variable s3_sub  \n",
    "    C. Multiply s1 and s2 and store the result in a new variable s3_mul  \n",
    "    D. Divide s1 by s2 and store the result in a new variable s3_div"
   ]
  },
  {
   "cell_type": "code",
   "execution_count": 17,
   "id": "946de763",
   "metadata": {},
   "outputs": [
    {
     "name": "stdout",
     "output_type": "stream",
     "text": [
      "s1  <class 'pandas.core.series.Series'> \n",
      " [1 2 3 5 8]\n",
      "s2  <class 'pandas.core.series.Series'> \n",
      " [8 5 3 2 1]\n",
      "add \n",
      " [9 7 6 7 9]\n",
      "sub \n",
      " [ 7  3  0 -3 -7]\n",
      "mul \n",
      " [ 8 10  9 10  8]\n",
      "div\n",
      " [0.125 0.4   1.    2.5   8.   ]\n"
     ]
    }
   ],
   "source": [
    "import numpy as np\n",
    "import pandas as pd\n",
    "\n",
    "lst1 = [1, 2, 3, 5, 8]\n",
    "lst2 = [8, 5, 3, 2, 1]\n",
    "\n",
    "# Ex 1:1\n",
    "# 1. Create and display two individual Series objects s1 and s2 from the data available on each list.\n",
    "\n",
    "s1 = pd.Series(lst1)\n",
    "s2 = pd.Series(lst2)\n",
    "\n",
    "print('s1 ', type(s1), '\\n', s1.values)\n",
    "print('s2 ', type(s2), '\\n', s2.values)\n",
    "\n",
    "# Ex 1:2:A\n",
    "# Perform the following operations with the two series (element-wise):\n",
    "# A. Add s1 and s2 and store the result in a new variable s3_add\n",
    "\n",
    "s3_add = s1+s2\n",
    "\n",
    "# B. Subtract s2 from s1 and store the result in a new variable s3_sub\n",
    "\n",
    "s3_sub = s2-s1\n",
    "\n",
    "# C. Multiply s1 and s2 and store the result in a new variable s3_mul\n",
    "\n",
    "s3_mul = s1*s2\n",
    "\n",
    "# D. Divide s1 by s2 and store the result in a new variable s3_div\n",
    "\n",
    "s3_div = s1/s2\n",
    "\n",
    "print('add \\n', s3_add.values)\n",
    "print('sub \\n', s3_sub.values)\n",
    "print('mul \\n', s3_mul.values)\n",
    "print('div\\n', s3_div.values)\n"
   ]
  },
  {
   "cell_type": "markdown",
   "id": "44f24de2",
   "metadata": {},
   "source": [
    "# Exercise 2\n",
    "\n",
    "Consider the following Series object:\n",
    "\n",
    "    0    45000  \n",
    "    1    37872  \n",
    "    2    57923  \n",
    "    3    68979  \n",
    "    4    78934  \n",
    "    5    69897  \n",
    "    6    56701  \n",
    "    Name: Amazon_Reviews, dtype: int64\n",
    "\n",
    "1. Create and display the Amazon_Reviews Series.\n",
    "\n",
    "2. Get the last three values from Amazon_Reviews using negative indexing."
   ]
  },
  {
   "cell_type": "code",
   "execution_count": 26,
   "id": "52055876",
   "metadata": {},
   "outputs": [
    {
     "data": {
      "text/plain": [
       "0    45000\n",
       "1    37872\n",
       "2    57923\n",
       "3    68979\n",
       "4    78934\n",
       "5    69897\n",
       "6    56701\n",
       "dtype: int64"
      ]
     },
     "execution_count": 26,
     "metadata": {},
     "output_type": "execute_result"
    }
   ],
   "source": [
    "import pandas as pd\n",
    "import numpy as np\n",
    "\n",
    "# Ex 2:1\n",
    "# Create and display the Amazon_Reviews Series.\n",
    "Amazon_Reviews = pd.Series([45000,37872,57923,68979,78934,69897,56701])\n",
    "Amazon_Reviews"
   ]
  },
  {
   "cell_type": "code",
   "execution_count": 27,
   "id": "4ff16611",
   "metadata": {},
   "outputs": [
    {
     "data": {
      "text/plain": [
       "4    78934\n",
       "5    69897\n",
       "6    56701\n",
       "dtype: int64"
      ]
     },
     "execution_count": 27,
     "metadata": {},
     "output_type": "execute_result"
    }
   ],
   "source": [
    "# Ex 2:2\n",
    "# Get the last three values from Amazon_Reviews using negative indexing.\n",
    "\n",
    "Amazon_Reviews.iloc[-3:]"
   ]
  },
  {
   "cell_type": "markdown",
   "id": "38ea9026",
   "metadata": {},
   "source": [
    "# Exercise 3\n",
    "Consider the following dictionary which is relating the area in sq units of some USA states:  \n",
    "\n",
    "    area_dict = {'California': 423967, 'Texas': 695662, 'New York': 141297,\n",
    "             'Florida': 170312, 'Illinois': 149995}  \n",
    "1. Create a Series using the given dictionary\n",
    "2. Extract areas for 'Texas', 'New York', and 'Florida' from the created series"
   ]
  },
  {
   "cell_type": "code",
   "execution_count": 31,
   "id": "e7e6df7c",
   "metadata": {},
   "outputs": [
    {
     "name": "stdout",
     "output_type": "stream",
     "text": [
      "California    423967\n",
      "Texas         695662\n",
      "New York      141297\n",
      "Florida       170312\n",
      "Illinois      149995\n",
      "dtype: int64\n"
     ]
    },
    {
     "data": {
      "text/plain": [
       "Texas       695662\n",
       "New York    141297\n",
       "Florida     170312\n",
       "dtype: int64"
      ]
     },
     "execution_count": 31,
     "metadata": {},
     "output_type": "execute_result"
    }
   ],
   "source": [
    "import pandas as pd\n",
    "\n",
    "#Consider the following dictionary which is relating the area in sq units of some USA states:  \n",
    "\n",
    "area_dict = {'California': 423967, 'Texas': 695662, 'New York': 141297,'Florida': 170312, 'Illinois': 149995}  \n",
    "\n",
    "# 1. Create a Series using the given dictionary\n",
    "\n",
    "area_ser = pd.Series(area_dict)\n",
    "print(area_ser)\n",
    "\n",
    "# 2. Extract areas for 'Texas', 'New York', and 'Florida' from the created series\n",
    "\n",
    "area_ser.loc['Texas':'Florida']"
   ]
  },
  {
   "cell_type": "markdown",
   "id": "1cc4323f",
   "metadata": {},
   "source": [
    "# Exercise 4\n",
    "\n",
    "Consider below DPhi Bootcamp's information about different batches:  \n",
    "\n",
    "    Total_Candidates = {'absolute_beginners': 785, 'beginners': 825, 'intermediat_advanced': 602} # this is true data  \n",
    "    Active_Candidates = {'absolute_beginners': 500, 'beginners': 425, 'intermediat_advanced': 300}  # this is hypothetical data  \n",
    "    \n",
    "1. Create a Pandas DataFrame using above information (name your Dataframe as DPhi)\n",
    "2. Get all the columns in DPhi.\n",
    "3. Get the information of total candidates present in each batches using dictionary-style indexing.\n",
    "4. Find the number of candidates for each batches who are not active and add this information to the dataframe DPhi.\n",
    "5. Also, find the percent of candidates that are active in each batches and add this information to the DPhi dataframe (hint: $percent = (active / total)* 100$)\n",
    "6. Get all the batches where percentage of active candidates are greater than 60%"
   ]
  },
  {
   "cell_type": "code",
   "execution_count": 45,
   "id": "e0bbfd4d",
   "metadata": {},
   "outputs": [
    {
     "name": "stdout",
     "output_type": "stream",
     "text": [
      "DPhi data frame: \n",
      "                       Total  Active\n",
      "absolute_beginners      785     500\n",
      "beginners               825     425\n",
      "intermediat_advanced    602     300 \n",
      "\n",
      "DPhi columns: \n",
      " Index(['Total', 'Active'], dtype='object') \n",
      "\n",
      "DPhi Total candidats: \n",
      " absolute_beginners      785\n",
      "beginners               825\n",
      "intermediat_advanced    602\n",
      "Name: Total, dtype: int64 \n",
      "\n",
      "DPhi Not Active data frame: \n",
      "                       Total  Active  Not Active\n",
      "absolute_beginners      785     500         285\n",
      "beginners               825     425         400\n",
      "intermediat_advanced    602     300         302 \n",
      "\n",
      "DPhi % Active data frame: \n",
      "                       Total  Active  Not Active   % active\n",
      "absolute_beginners      785     500         285  63.694268\n",
      "beginners               825     425         400  51.515152\n",
      "intermediat_advanced    602     300         302  49.833887 \n",
      "\n",
      "DPhi % Active > 60: \n",
      " absolute_beginners       True\n",
      "beginners               False\n",
      "intermediat_advanced    False\n",
      "Name: % active, dtype: bool \n",
      "\n"
     ]
    }
   ],
   "source": [
    "import pandas as pd\n",
    "\n",
    "# Consider below DPhi Bootcamp's information about different batches:  \n",
    "\n",
    "Total_Candidates = pd.Series({'absolute_beginners': 785, 'beginners': 825, 'intermediat_advanced': 602}) # this is true data \n",
    "Active_Candidates = pd.Series({'absolute_beginners': 500, 'beginners': 425, 'intermediat_advanced': 300})  # this is hypothetical data  \n",
    "    \n",
    "# 1. Create a Pandas DataFrame using above information (name your Dataframe as DPhi)\n",
    "\n",
    "DPhi = pd.DataFrame({'Total': Total_Candidates, 'Active': Active_Candidates})\n",
    "print('DPhi data frame: \\n', DPhi, '\\n')\n",
    "\n",
    "# 2. Get all the columns in DPhi.\n",
    "print('DPhi columns: \\n', DPhi.columns, '\\n')\n",
    "\n",
    "# 3. Get the information of total candidates present in each batches using dictionary-style indexing.\n",
    "\n",
    "print('DPhi Total candidats: \\n', DPhi['Total'],'\\n')\n",
    "\n",
    "# 4. Find the number of candidates for each batches who are not active and add this information to the dataframe DPhi.\n",
    "\n",
    "DPhi['Not Active'] = DPhi['Total'] - DPhi['Active']\n",
    "print('DPhi Not Active data frame: \\n', DPhi, '\\n')\n",
    "\n",
    "# 5. Also, find the percent of candidates that are active in each batches and add this information to the DPhi dataframe (hint: $percent = (active / total)* 100$)\n",
    "\n",
    "DPhi ['% active'] = (DPhi['Active']/DPhi['Total'])*100\n",
    "print('DPhi % Active data frame: \\n', DPhi, '\\n')\n",
    "\n",
    "# 6. Get all the batches where percentage of active candidates are greater than 60%\n",
    "\n",
    "g60 = DPhi['% active']>60\n",
    "print('DPhi % Active > 60: \\n', g60, '\\n')\n"
   ]
  },
  {
   "cell_type": "markdown",
   "id": "3a1f7c10",
   "metadata": {},
   "source": [
    "# Exercise 5\n",
    "\n",
    "Consider the following lists:\n",
    "\n",
    "    country = ['Netherland', 'Germany', 'Peru', 'Israel', 'Madagascar']\n",
    "    year = [2002, 2002, 1957, 2007, 1967]\n",
    "    population = [16122830.0, np.nan, 9146100.0, 6426679.0, 6334556.0]\n",
    "    continent = ['Europe', 'europe', 'Americas', 'asia', 'Africa']\n",
    "\n",
    "1. Create a Dataframe object which contains all the lists values as Series. The final DataFrame should be named as country_info, containing 4 columns and 5 rows.\n",
    "2. Delete the rows which contains missing values\n",
    "3. Capitalize all the continents in continent column.\n",
    "4. Get the length of each country's names."
   ]
  },
  {
   "cell_type": "code",
   "execution_count": 6,
   "id": "d97fa1d0",
   "metadata": {},
   "outputs": [
    {
     "data": {
      "text/html": [
       "<div>\n",
       "<style scoped>\n",
       "    .dataframe tbody tr th:only-of-type {\n",
       "        vertical-align: middle;\n",
       "    }\n",
       "\n",
       "    .dataframe tbody tr th {\n",
       "        vertical-align: top;\n",
       "    }\n",
       "\n",
       "    .dataframe thead th {\n",
       "        text-align: right;\n",
       "    }\n",
       "</style>\n",
       "<table border=\"1\" class=\"dataframe\">\n",
       "  <thead>\n",
       "    <tr style=\"text-align: right;\">\n",
       "      <th></th>\n",
       "      <th>country</th>\n",
       "      <th>year</th>\n",
       "      <th>pop</th>\n",
       "      <th>continent</th>\n",
       "    </tr>\n",
       "  </thead>\n",
       "  <tbody>\n",
       "    <tr>\n",
       "      <th>0</th>\n",
       "      <td>Netherland</td>\n",
       "      <td>2002</td>\n",
       "      <td>16122830.0</td>\n",
       "      <td>Europe</td>\n",
       "    </tr>\n",
       "    <tr>\n",
       "      <th>1</th>\n",
       "      <td>Germany</td>\n",
       "      <td>2002</td>\n",
       "      <td>NaN</td>\n",
       "      <td>europe</td>\n",
       "    </tr>\n",
       "    <tr>\n",
       "      <th>2</th>\n",
       "      <td>Peru</td>\n",
       "      <td>1957</td>\n",
       "      <td>9146100.0</td>\n",
       "      <td>Americas</td>\n",
       "    </tr>\n",
       "    <tr>\n",
       "      <th>3</th>\n",
       "      <td>Israel</td>\n",
       "      <td>2007</td>\n",
       "      <td>6426679.0</td>\n",
       "      <td>asia</td>\n",
       "    </tr>\n",
       "    <tr>\n",
       "      <th>4</th>\n",
       "      <td>Madagascar</td>\n",
       "      <td>1967</td>\n",
       "      <td>6334556.0</td>\n",
       "      <td>Africa</td>\n",
       "    </tr>\n",
       "  </tbody>\n",
       "</table>\n",
       "</div>"
      ],
      "text/plain": [
       "      country  year         pop continent\n",
       "0  Netherland  2002  16122830.0    Europe\n",
       "1     Germany  2002         NaN    europe\n",
       "2        Peru  1957   9146100.0  Americas\n",
       "3      Israel  2007   6426679.0      asia\n",
       "4  Madagascar  1967   6334556.0    Africa"
      ]
     },
     "execution_count": 6,
     "metadata": {},
     "output_type": "execute_result"
    }
   ],
   "source": [
    "import pandas as pd\n",
    "import numpy as np\n",
    "    \n",
    "country = pd.Series(['Netherland', 'Germany', 'Peru', 'Israel', 'Madagascar'])\n",
    "year = pd.Series([2002, 2002, 1957, 2007, 1967])\n",
    "population = pd.Series([16122830.0, np.nan, 9146100.0, 6426679.0, 6334556.0])\n",
    "continent = pd.Series(['Europe', 'europe', 'Americas', 'asia', 'Africa'])\n",
    "\n",
    "# 1. Create a Dataframe object which contains all the lists values as Series. The final DataFrame should be named as country_info, containing 4 columns and 5 rows.\n",
    "\n",
    "country_info = pd.DataFrame({'country':country, 'year':year, 'pop': population, 'continent':continent})\n",
    "#print('country_info data frame \\n \\n', country_info)\n",
    "country_info"
   ]
  },
  {
   "cell_type": "code",
   "execution_count": 7,
   "id": "ad68177c",
   "metadata": {},
   "outputs": [
    {
     "data": {
      "text/html": [
       "<div>\n",
       "<style scoped>\n",
       "    .dataframe tbody tr th:only-of-type {\n",
       "        vertical-align: middle;\n",
       "    }\n",
       "\n",
       "    .dataframe tbody tr th {\n",
       "        vertical-align: top;\n",
       "    }\n",
       "\n",
       "    .dataframe thead th {\n",
       "        text-align: right;\n",
       "    }\n",
       "</style>\n",
       "<table border=\"1\" class=\"dataframe\">\n",
       "  <thead>\n",
       "    <tr style=\"text-align: right;\">\n",
       "      <th></th>\n",
       "      <th>country</th>\n",
       "      <th>year</th>\n",
       "      <th>pop</th>\n",
       "      <th>continent</th>\n",
       "    </tr>\n",
       "  </thead>\n",
       "  <tbody>\n",
       "    <tr>\n",
       "      <th>0</th>\n",
       "      <td>Netherland</td>\n",
       "      <td>2002</td>\n",
       "      <td>16122830.0</td>\n",
       "      <td>Europe</td>\n",
       "    </tr>\n",
       "    <tr>\n",
       "      <th>2</th>\n",
       "      <td>Peru</td>\n",
       "      <td>1957</td>\n",
       "      <td>9146100.0</td>\n",
       "      <td>Americas</td>\n",
       "    </tr>\n",
       "    <tr>\n",
       "      <th>3</th>\n",
       "      <td>Israel</td>\n",
       "      <td>2007</td>\n",
       "      <td>6426679.0</td>\n",
       "      <td>asia</td>\n",
       "    </tr>\n",
       "    <tr>\n",
       "      <th>4</th>\n",
       "      <td>Madagascar</td>\n",
       "      <td>1967</td>\n",
       "      <td>6334556.0</td>\n",
       "      <td>Africa</td>\n",
       "    </tr>\n",
       "  </tbody>\n",
       "</table>\n",
       "</div>"
      ],
      "text/plain": [
       "      country  year         pop continent\n",
       "0  Netherland  2002  16122830.0    Europe\n",
       "2        Peru  1957   9146100.0  Americas\n",
       "3      Israel  2007   6426679.0      asia\n",
       "4  Madagascar  1967   6334556.0    Africa"
      ]
     },
     "execution_count": 7,
     "metadata": {},
     "output_type": "execute_result"
    }
   ],
   "source": [
    "# 2. Delete the rows which contains missing values\n",
    "\n",
    "drop = country_info.dropna()\n",
    "#print('\\n drop row with missing values \\n \\n', drop)\n",
    "drop\n"
   ]
  },
  {
   "cell_type": "code",
   "execution_count": 8,
   "id": "61c03370",
   "metadata": {},
   "outputs": [
    {
     "data": {
      "text/html": [
       "<div>\n",
       "<style scoped>\n",
       "    .dataframe tbody tr th:only-of-type {\n",
       "        vertical-align: middle;\n",
       "    }\n",
       "\n",
       "    .dataframe tbody tr th {\n",
       "        vertical-align: top;\n",
       "    }\n",
       "\n",
       "    .dataframe thead th {\n",
       "        text-align: right;\n",
       "    }\n",
       "</style>\n",
       "<table border=\"1\" class=\"dataframe\">\n",
       "  <thead>\n",
       "    <tr style=\"text-align: right;\">\n",
       "      <th></th>\n",
       "      <th>country</th>\n",
       "      <th>year</th>\n",
       "      <th>pop</th>\n",
       "      <th>continent</th>\n",
       "    </tr>\n",
       "  </thead>\n",
       "  <tbody>\n",
       "    <tr>\n",
       "      <th>0</th>\n",
       "      <td>Netherland</td>\n",
       "      <td>2002</td>\n",
       "      <td>16122830.0</td>\n",
       "      <td>Europe</td>\n",
       "    </tr>\n",
       "    <tr>\n",
       "      <th>1</th>\n",
       "      <td>Germany</td>\n",
       "      <td>2002</td>\n",
       "      <td>NaN</td>\n",
       "      <td>Europe</td>\n",
       "    </tr>\n",
       "    <tr>\n",
       "      <th>2</th>\n",
       "      <td>Peru</td>\n",
       "      <td>1957</td>\n",
       "      <td>9146100.0</td>\n",
       "      <td>Americas</td>\n",
       "    </tr>\n",
       "    <tr>\n",
       "      <th>3</th>\n",
       "      <td>Israel</td>\n",
       "      <td>2007</td>\n",
       "      <td>6426679.0</td>\n",
       "      <td>Asia</td>\n",
       "    </tr>\n",
       "    <tr>\n",
       "      <th>4</th>\n",
       "      <td>Madagascar</td>\n",
       "      <td>1967</td>\n",
       "      <td>6334556.0</td>\n",
       "      <td>Africa</td>\n",
       "    </tr>\n",
       "  </tbody>\n",
       "</table>\n",
       "</div>"
      ],
      "text/plain": [
       "      country  year         pop continent\n",
       "0  Netherland  2002  16122830.0    Europe\n",
       "1     Germany  2002         NaN    Europe\n",
       "2        Peru  1957   9146100.0  Americas\n",
       "3      Israel  2007   6426679.0      Asia\n",
       "4  Madagascar  1967   6334556.0    Africa"
      ]
     },
     "execution_count": 8,
     "metadata": {},
     "output_type": "execute_result"
    }
   ],
   "source": [
    "# 3. Capitalize all the continents in continent column.\n",
    "\n",
    "#continent.str.capitalize() #capitalizes the continent series\n",
    "country_info['continent'] = country_info['continent'].str.capitalize()\n",
    "country_info\n"
   ]
  },
  {
   "cell_type": "code",
   "execution_count": 9,
   "id": "c4fb5a3d",
   "metadata": {},
   "outputs": [
    {
     "name": "stdout",
     "output_type": "stream",
     "text": [
      "\n",
      " length of country name \n",
      " \n",
      " 0    10\n",
      "1     7\n",
      "2     4\n",
      "3     6\n",
      "4    10\n",
      "dtype: int64\n"
     ]
    }
   ],
   "source": [
    "# 4. Get the length of each country's names.\n",
    "\n",
    "print('\\n length of country name \\n \\n', country.str.len())\n"
   ]
  },
  {
   "cell_type": "markdown",
   "id": "518ba93e",
   "metadata": {},
   "source": [
    "# Exercise 6\n",
    "Consider the following lists:\n",
    "\n",
    "country = ['Netherland', 'Germany', 'Peru', 'Israel', 'Madagascar']\n",
    "gdp_per_cap = [33724.757780, 30035.801980, 4245.256698, 25523.277100, 1634.047282]\n",
    "1. Create a Dataframe object which contains all the lists values as Series. The final DataFrame should be named as country_gdp, containing 2 columns and 5 rows.\n",
    "2. Concatenate the two dataframes: country_info and country_gdp with axis=0 and name it concat_data\n",
    "3. Check if there are any null values in concat_data\n",
    "4. Find total numer of missing values in each column. hint: Use .isnull() and .sum() functions"
   ]
  },
  {
   "cell_type": "code",
   "execution_count": 12,
   "id": "1c9ca56e",
   "metadata": {},
   "outputs": [
    {
     "data": {
      "text/html": [
       "<div>\n",
       "<style scoped>\n",
       "    .dataframe tbody tr th:only-of-type {\n",
       "        vertical-align: middle;\n",
       "    }\n",
       "\n",
       "    .dataframe tbody tr th {\n",
       "        vertical-align: top;\n",
       "    }\n",
       "\n",
       "    .dataframe thead th {\n",
       "        text-align: right;\n",
       "    }\n",
       "</style>\n",
       "<table border=\"1\" class=\"dataframe\">\n",
       "  <thead>\n",
       "    <tr style=\"text-align: right;\">\n",
       "      <th></th>\n",
       "      <th>country</th>\n",
       "      <th>GDP</th>\n",
       "    </tr>\n",
       "  </thead>\n",
       "  <tbody>\n",
       "    <tr>\n",
       "      <th>0</th>\n",
       "      <td>Netherland</td>\n",
       "      <td>33724.757780</td>\n",
       "    </tr>\n",
       "    <tr>\n",
       "      <th>1</th>\n",
       "      <td>Germany</td>\n",
       "      <td>30035.801980</td>\n",
       "    </tr>\n",
       "    <tr>\n",
       "      <th>2</th>\n",
       "      <td>Peru</td>\n",
       "      <td>4245.256698</td>\n",
       "    </tr>\n",
       "    <tr>\n",
       "      <th>3</th>\n",
       "      <td>Israel</td>\n",
       "      <td>25523.277100</td>\n",
       "    </tr>\n",
       "    <tr>\n",
       "      <th>4</th>\n",
       "      <td>Madagascar</td>\n",
       "      <td>1634.047282</td>\n",
       "    </tr>\n",
       "  </tbody>\n",
       "</table>\n",
       "</div>"
      ],
      "text/plain": [
       "      country           GDP\n",
       "0  Netherland  33724.757780\n",
       "1     Germany  30035.801980\n",
       "2        Peru   4245.256698\n",
       "3      Israel  25523.277100\n",
       "4  Madagascar   1634.047282"
      ]
     },
     "execution_count": 12,
     "metadata": {},
     "output_type": "execute_result"
    }
   ],
   "source": [
    "import pandas as pd\n",
    "\n",
    "# Create a Dataframe object which contains all the lists values as Series. The final DataFrame should be named as country_gdp, containing 2 columns and 5 rows.\n",
    "\n",
    "country = pd.Series(['Netherland', 'Germany', 'Peru', 'Israel', 'Madagascar'])\n",
    "gdp_per_cap = pd.Series([33724.757780, 30035.801980, 4245.256698, 25523.277100, 1634.047282])\n",
    "\n",
    "country_gdp = pd.DataFrame({\"country\": country, \"GDP\": gdp_per_cap})\n",
    "country_gdp"
   ]
  },
  {
   "cell_type": "code",
   "execution_count": 23,
   "id": "63e29cbf",
   "metadata": {},
   "outputs": [
    {
     "data": {
      "text/html": [
       "<div>\n",
       "<style scoped>\n",
       "    .dataframe tbody tr th:only-of-type {\n",
       "        vertical-align: middle;\n",
       "    }\n",
       "\n",
       "    .dataframe tbody tr th {\n",
       "        vertical-align: top;\n",
       "    }\n",
       "\n",
       "    .dataframe thead th {\n",
       "        text-align: right;\n",
       "    }\n",
       "</style>\n",
       "<table border=\"1\" class=\"dataframe\">\n",
       "  <thead>\n",
       "    <tr style=\"text-align: right;\">\n",
       "      <th></th>\n",
       "      <th>country</th>\n",
       "      <th>year</th>\n",
       "      <th>pop</th>\n",
       "      <th>continent</th>\n",
       "      <th>GDP</th>\n",
       "    </tr>\n",
       "  </thead>\n",
       "  <tbody>\n",
       "    <tr>\n",
       "      <th>0</th>\n",
       "      <td>Netherland</td>\n",
       "      <td>2002.0</td>\n",
       "      <td>16122830.0</td>\n",
       "      <td>Europe</td>\n",
       "      <td>NaN</td>\n",
       "    </tr>\n",
       "    <tr>\n",
       "      <th>1</th>\n",
       "      <td>Germany</td>\n",
       "      <td>2002.0</td>\n",
       "      <td>NaN</td>\n",
       "      <td>Europe</td>\n",
       "      <td>NaN</td>\n",
       "    </tr>\n",
       "    <tr>\n",
       "      <th>2</th>\n",
       "      <td>Peru</td>\n",
       "      <td>1957.0</td>\n",
       "      <td>9146100.0</td>\n",
       "      <td>Americas</td>\n",
       "      <td>NaN</td>\n",
       "    </tr>\n",
       "    <tr>\n",
       "      <th>3</th>\n",
       "      <td>Israel</td>\n",
       "      <td>2007.0</td>\n",
       "      <td>6426679.0</td>\n",
       "      <td>Asia</td>\n",
       "      <td>NaN</td>\n",
       "    </tr>\n",
       "    <tr>\n",
       "      <th>4</th>\n",
       "      <td>Madagascar</td>\n",
       "      <td>1967.0</td>\n",
       "      <td>6334556.0</td>\n",
       "      <td>Africa</td>\n",
       "      <td>NaN</td>\n",
       "    </tr>\n",
       "    <tr>\n",
       "      <th>0</th>\n",
       "      <td>Netherland</td>\n",
       "      <td>NaN</td>\n",
       "      <td>NaN</td>\n",
       "      <td>NaN</td>\n",
       "      <td>33724.757780</td>\n",
       "    </tr>\n",
       "    <tr>\n",
       "      <th>1</th>\n",
       "      <td>Germany</td>\n",
       "      <td>NaN</td>\n",
       "      <td>NaN</td>\n",
       "      <td>NaN</td>\n",
       "      <td>30035.801980</td>\n",
       "    </tr>\n",
       "    <tr>\n",
       "      <th>2</th>\n",
       "      <td>Peru</td>\n",
       "      <td>NaN</td>\n",
       "      <td>NaN</td>\n",
       "      <td>NaN</td>\n",
       "      <td>4245.256698</td>\n",
       "    </tr>\n",
       "    <tr>\n",
       "      <th>3</th>\n",
       "      <td>Israel</td>\n",
       "      <td>NaN</td>\n",
       "      <td>NaN</td>\n",
       "      <td>NaN</td>\n",
       "      <td>25523.277100</td>\n",
       "    </tr>\n",
       "    <tr>\n",
       "      <th>4</th>\n",
       "      <td>Madagascar</td>\n",
       "      <td>NaN</td>\n",
       "      <td>NaN</td>\n",
       "      <td>NaN</td>\n",
       "      <td>1634.047282</td>\n",
       "    </tr>\n",
       "  </tbody>\n",
       "</table>\n",
       "</div>"
      ],
      "text/plain": [
       "      country    year         pop continent           GDP\n",
       "0  Netherland  2002.0  16122830.0    Europe           NaN\n",
       "1     Germany  2002.0         NaN    Europe           NaN\n",
       "2        Peru  1957.0   9146100.0  Americas           NaN\n",
       "3      Israel  2007.0   6426679.0      Asia           NaN\n",
       "4  Madagascar  1967.0   6334556.0    Africa           NaN\n",
       "0  Netherland     NaN         NaN       NaN  33724.757780\n",
       "1     Germany     NaN         NaN       NaN  30035.801980\n",
       "2        Peru     NaN         NaN       NaN   4245.256698\n",
       "3      Israel     NaN         NaN       NaN  25523.277100\n",
       "4  Madagascar     NaN         NaN       NaN   1634.047282"
      ]
     },
     "execution_count": 23,
     "metadata": {},
     "output_type": "execute_result"
    }
   ],
   "source": [
    "# 2. Concatenate the two dataframes: country_info and country_gdp with axis=0 and name it concat_data\n",
    "concat_data = pd.concat([country_info, country_gdp], axis=0)\n",
    "#, columns=['country', 'continent', 'year', 'pop', 'gdp'])\n",
    "concat_data"
   ]
  },
  {
   "cell_type": "code",
   "execution_count": 17,
   "id": "42bd0287",
   "metadata": {},
   "outputs": [
    {
     "data": {
      "text/html": [
       "<div>\n",
       "<style scoped>\n",
       "    .dataframe tbody tr th:only-of-type {\n",
       "        vertical-align: middle;\n",
       "    }\n",
       "\n",
       "    .dataframe tbody tr th {\n",
       "        vertical-align: top;\n",
       "    }\n",
       "\n",
       "    .dataframe thead th {\n",
       "        text-align: right;\n",
       "    }\n",
       "</style>\n",
       "<table border=\"1\" class=\"dataframe\">\n",
       "  <thead>\n",
       "    <tr style=\"text-align: right;\">\n",
       "      <th></th>\n",
       "      <th>country</th>\n",
       "      <th>year</th>\n",
       "      <th>pop</th>\n",
       "      <th>continent</th>\n",
       "      <th>GDP</th>\n",
       "    </tr>\n",
       "  </thead>\n",
       "  <tbody>\n",
       "    <tr>\n",
       "      <th>0</th>\n",
       "      <td>False</td>\n",
       "      <td>False</td>\n",
       "      <td>False</td>\n",
       "      <td>False</td>\n",
       "      <td>True</td>\n",
       "    </tr>\n",
       "    <tr>\n",
       "      <th>1</th>\n",
       "      <td>False</td>\n",
       "      <td>False</td>\n",
       "      <td>True</td>\n",
       "      <td>False</td>\n",
       "      <td>True</td>\n",
       "    </tr>\n",
       "    <tr>\n",
       "      <th>2</th>\n",
       "      <td>False</td>\n",
       "      <td>False</td>\n",
       "      <td>False</td>\n",
       "      <td>False</td>\n",
       "      <td>True</td>\n",
       "    </tr>\n",
       "    <tr>\n",
       "      <th>3</th>\n",
       "      <td>False</td>\n",
       "      <td>False</td>\n",
       "      <td>False</td>\n",
       "      <td>False</td>\n",
       "      <td>True</td>\n",
       "    </tr>\n",
       "    <tr>\n",
       "      <th>4</th>\n",
       "      <td>False</td>\n",
       "      <td>False</td>\n",
       "      <td>False</td>\n",
       "      <td>False</td>\n",
       "      <td>True</td>\n",
       "    </tr>\n",
       "    <tr>\n",
       "      <th>0</th>\n",
       "      <td>False</td>\n",
       "      <td>True</td>\n",
       "      <td>True</td>\n",
       "      <td>True</td>\n",
       "      <td>False</td>\n",
       "    </tr>\n",
       "    <tr>\n",
       "      <th>1</th>\n",
       "      <td>False</td>\n",
       "      <td>True</td>\n",
       "      <td>True</td>\n",
       "      <td>True</td>\n",
       "      <td>False</td>\n",
       "    </tr>\n",
       "    <tr>\n",
       "      <th>2</th>\n",
       "      <td>False</td>\n",
       "      <td>True</td>\n",
       "      <td>True</td>\n",
       "      <td>True</td>\n",
       "      <td>False</td>\n",
       "    </tr>\n",
       "    <tr>\n",
       "      <th>3</th>\n",
       "      <td>False</td>\n",
       "      <td>True</td>\n",
       "      <td>True</td>\n",
       "      <td>True</td>\n",
       "      <td>False</td>\n",
       "    </tr>\n",
       "    <tr>\n",
       "      <th>4</th>\n",
       "      <td>False</td>\n",
       "      <td>True</td>\n",
       "      <td>True</td>\n",
       "      <td>True</td>\n",
       "      <td>False</td>\n",
       "    </tr>\n",
       "  </tbody>\n",
       "</table>\n",
       "</div>"
      ],
      "text/plain": [
       "   country   year    pop  continent    GDP\n",
       "0    False  False  False      False   True\n",
       "1    False  False   True      False   True\n",
       "2    False  False  False      False   True\n",
       "3    False  False  False      False   True\n",
       "4    False  False  False      False   True\n",
       "0    False   True   True       True  False\n",
       "1    False   True   True       True  False\n",
       "2    False   True   True       True  False\n",
       "3    False   True   True       True  False\n",
       "4    False   True   True       True  False"
      ]
     },
     "execution_count": 17,
     "metadata": {},
     "output_type": "execute_result"
    }
   ],
   "source": [
    "# 3. Check if there are any null values in concat_data\n",
    "pd.isnull(concat_data)"
   ]
  },
  {
   "cell_type": "code",
   "execution_count": 29,
   "id": "8abeae20",
   "metadata": {},
   "outputs": [
    {
     "data": {
      "text/html": [
       "<div>\n",
       "<style scoped>\n",
       "    .dataframe tbody tr th:only-of-type {\n",
       "        vertical-align: middle;\n",
       "    }\n",
       "\n",
       "    .dataframe tbody tr th {\n",
       "        vertical-align: top;\n",
       "    }\n",
       "\n",
       "    .dataframe thead th {\n",
       "        text-align: right;\n",
       "    }\n",
       "</style>\n",
       "<table border=\"1\" class=\"dataframe\">\n",
       "  <thead>\n",
       "    <tr style=\"text-align: right;\">\n",
       "      <th></th>\n",
       "      <th>country</th>\n",
       "      <th>year</th>\n",
       "      <th>pop</th>\n",
       "      <th>continent</th>\n",
       "      <th>GDP</th>\n",
       "    </tr>\n",
       "  </thead>\n",
       "  <tbody>\n",
       "    <tr>\n",
       "      <th>0</th>\n",
       "      <td>Netherland</td>\n",
       "      <td>2002</td>\n",
       "      <td>16122830.0</td>\n",
       "      <td>Europe</td>\n",
       "      <td>33724.757780</td>\n",
       "    </tr>\n",
       "    <tr>\n",
       "      <th>1</th>\n",
       "      <td>Germany</td>\n",
       "      <td>2002</td>\n",
       "      <td>NaN</td>\n",
       "      <td>Europe</td>\n",
       "      <td>30035.801980</td>\n",
       "    </tr>\n",
       "    <tr>\n",
       "      <th>2</th>\n",
       "      <td>Peru</td>\n",
       "      <td>1957</td>\n",
       "      <td>9146100.0</td>\n",
       "      <td>Americas</td>\n",
       "      <td>4245.256698</td>\n",
       "    </tr>\n",
       "    <tr>\n",
       "      <th>3</th>\n",
       "      <td>Israel</td>\n",
       "      <td>2007</td>\n",
       "      <td>6426679.0</td>\n",
       "      <td>Asia</td>\n",
       "      <td>25523.277100</td>\n",
       "    </tr>\n",
       "    <tr>\n",
       "      <th>4</th>\n",
       "      <td>Madagascar</td>\n",
       "      <td>1967</td>\n",
       "      <td>6334556.0</td>\n",
       "      <td>Africa</td>\n",
       "      <td>1634.047282</td>\n",
       "    </tr>\n",
       "  </tbody>\n",
       "</table>\n",
       "</div>"
      ],
      "text/plain": [
       "      country  year         pop continent           GDP\n",
       "0  Netherland  2002  16122830.0    Europe  33724.757780\n",
       "1     Germany  2002         NaN    Europe  30035.801980\n",
       "2        Peru  1957   9146100.0  Americas   4245.256698\n",
       "3      Israel  2007   6426679.0      Asia  25523.277100\n",
       "4  Madagascar  1967   6334556.0    Africa   1634.047282"
      ]
     },
     "execution_count": 29,
     "metadata": {},
     "output_type": "execute_result"
    }
   ],
   "source": [
    "merge_outer = pd.merge(country_info, country_gdp, how=\"outer\")\n",
    "merge_outer"
   ]
  },
  {
   "cell_type": "code",
   "execution_count": 30,
   "id": "e0e2fe6c",
   "metadata": {},
   "outputs": [
    {
     "data": {
      "text/html": [
       "<div>\n",
       "<style scoped>\n",
       "    .dataframe tbody tr th:only-of-type {\n",
       "        vertical-align: middle;\n",
       "    }\n",
       "\n",
       "    .dataframe tbody tr th {\n",
       "        vertical-align: top;\n",
       "    }\n",
       "\n",
       "    .dataframe thead th {\n",
       "        text-align: right;\n",
       "    }\n",
       "</style>\n",
       "<table border=\"1\" class=\"dataframe\">\n",
       "  <thead>\n",
       "    <tr style=\"text-align: right;\">\n",
       "      <th></th>\n",
       "      <th>country</th>\n",
       "      <th>year</th>\n",
       "      <th>pop</th>\n",
       "      <th>continent</th>\n",
       "      <th>GDP</th>\n",
       "    </tr>\n",
       "  </thead>\n",
       "  <tbody>\n",
       "    <tr>\n",
       "      <th>0</th>\n",
       "      <td>Netherland</td>\n",
       "      <td>2002</td>\n",
       "      <td>16122830.0</td>\n",
       "      <td>Europe</td>\n",
       "      <td>33724.757780</td>\n",
       "    </tr>\n",
       "    <tr>\n",
       "      <th>1</th>\n",
       "      <td>Germany</td>\n",
       "      <td>2002</td>\n",
       "      <td>NaN</td>\n",
       "      <td>Europe</td>\n",
       "      <td>30035.801980</td>\n",
       "    </tr>\n",
       "    <tr>\n",
       "      <th>2</th>\n",
       "      <td>Peru</td>\n",
       "      <td>1957</td>\n",
       "      <td>9146100.0</td>\n",
       "      <td>Americas</td>\n",
       "      <td>4245.256698</td>\n",
       "    </tr>\n",
       "    <tr>\n",
       "      <th>3</th>\n",
       "      <td>Israel</td>\n",
       "      <td>2007</td>\n",
       "      <td>6426679.0</td>\n",
       "      <td>Asia</td>\n",
       "      <td>25523.277100</td>\n",
       "    </tr>\n",
       "    <tr>\n",
       "      <th>4</th>\n",
       "      <td>Madagascar</td>\n",
       "      <td>1967</td>\n",
       "      <td>6334556.0</td>\n",
       "      <td>Africa</td>\n",
       "      <td>1634.047282</td>\n",
       "    </tr>\n",
       "  </tbody>\n",
       "</table>\n",
       "</div>"
      ],
      "text/plain": [
       "      country  year         pop continent           GDP\n",
       "0  Netherland  2002  16122830.0    Europe  33724.757780\n",
       "1     Germany  2002         NaN    Europe  30035.801980\n",
       "2        Peru  1957   9146100.0  Americas   4245.256698\n",
       "3      Israel  2007   6426679.0      Asia  25523.277100\n",
       "4  Madagascar  1967   6334556.0    Africa   1634.047282"
      ]
     },
     "execution_count": 30,
     "metadata": {},
     "output_type": "execute_result"
    }
   ],
   "source": [
    "merge_inner = pd.merge(country_info, country_gdp, how=\"inner\")\n",
    "merge_inner"
   ]
  },
  {
   "cell_type": "code",
   "execution_count": 32,
   "id": "e551d730",
   "metadata": {},
   "outputs": [
    {
     "data": {
      "text/html": [
       "<div>\n",
       "<style scoped>\n",
       "    .dataframe tbody tr th:only-of-type {\n",
       "        vertical-align: middle;\n",
       "    }\n",
       "\n",
       "    .dataframe tbody tr th {\n",
       "        vertical-align: top;\n",
       "    }\n",
       "\n",
       "    .dataframe thead th {\n",
       "        text-align: right;\n",
       "    }\n",
       "</style>\n",
       "<table border=\"1\" class=\"dataframe\">\n",
       "  <thead>\n",
       "    <tr style=\"text-align: right;\">\n",
       "      <th></th>\n",
       "      <th>country</th>\n",
       "      <th>year</th>\n",
       "      <th>pop</th>\n",
       "      <th>continent</th>\n",
       "      <th>GDP</th>\n",
       "    </tr>\n",
       "  </thead>\n",
       "  <tbody>\n",
       "    <tr>\n",
       "      <th>0</th>\n",
       "      <td>False</td>\n",
       "      <td>False</td>\n",
       "      <td>False</td>\n",
       "      <td>False</td>\n",
       "      <td>True</td>\n",
       "    </tr>\n",
       "    <tr>\n",
       "      <th>1</th>\n",
       "      <td>False</td>\n",
       "      <td>False</td>\n",
       "      <td>True</td>\n",
       "      <td>False</td>\n",
       "      <td>True</td>\n",
       "    </tr>\n",
       "    <tr>\n",
       "      <th>2</th>\n",
       "      <td>False</td>\n",
       "      <td>False</td>\n",
       "      <td>False</td>\n",
       "      <td>False</td>\n",
       "      <td>True</td>\n",
       "    </tr>\n",
       "    <tr>\n",
       "      <th>3</th>\n",
       "      <td>False</td>\n",
       "      <td>False</td>\n",
       "      <td>False</td>\n",
       "      <td>False</td>\n",
       "      <td>True</td>\n",
       "    </tr>\n",
       "    <tr>\n",
       "      <th>4</th>\n",
       "      <td>False</td>\n",
       "      <td>False</td>\n",
       "      <td>False</td>\n",
       "      <td>False</td>\n",
       "      <td>True</td>\n",
       "    </tr>\n",
       "    <tr>\n",
       "      <th>0</th>\n",
       "      <td>False</td>\n",
       "      <td>True</td>\n",
       "      <td>True</td>\n",
       "      <td>True</td>\n",
       "      <td>False</td>\n",
       "    </tr>\n",
       "    <tr>\n",
       "      <th>1</th>\n",
       "      <td>False</td>\n",
       "      <td>True</td>\n",
       "      <td>True</td>\n",
       "      <td>True</td>\n",
       "      <td>False</td>\n",
       "    </tr>\n",
       "    <tr>\n",
       "      <th>2</th>\n",
       "      <td>False</td>\n",
       "      <td>True</td>\n",
       "      <td>True</td>\n",
       "      <td>True</td>\n",
       "      <td>False</td>\n",
       "    </tr>\n",
       "    <tr>\n",
       "      <th>3</th>\n",
       "      <td>False</td>\n",
       "      <td>True</td>\n",
       "      <td>True</td>\n",
       "      <td>True</td>\n",
       "      <td>False</td>\n",
       "    </tr>\n",
       "    <tr>\n",
       "      <th>4</th>\n",
       "      <td>False</td>\n",
       "      <td>True</td>\n",
       "      <td>True</td>\n",
       "      <td>True</td>\n",
       "      <td>False</td>\n",
       "    </tr>\n",
       "  </tbody>\n",
       "</table>\n",
       "</div>"
      ],
      "text/plain": [
       "   country   year    pop  continent    GDP\n",
       "0    False  False  False      False   True\n",
       "1    False  False   True      False   True\n",
       "2    False  False  False      False   True\n",
       "3    False  False  False      False   True\n",
       "4    False  False  False      False   True\n",
       "0    False   True   True       True  False\n",
       "1    False   True   True       True  False\n",
       "2    False   True   True       True  False\n",
       "3    False   True   True       True  False\n",
       "4    False   True   True       True  False"
      ]
     },
     "execution_count": 32,
     "metadata": {},
     "output_type": "execute_result"
    }
   ],
   "source": [
    "# 4. Find total numer of missing values in each column. hint: Use .isnull() and .sum() functions\n",
    "null_data = pd.isnull(concat_data)\n",
    "null_data"
   ]
  },
  {
   "cell_type": "code",
   "execution_count": 33,
   "id": "b2571fd0",
   "metadata": {},
   "outputs": [
    {
     "data": {
      "text/plain": [
       "country      0\n",
       "year         5\n",
       "pop          6\n",
       "continent    5\n",
       "GDP          5\n",
       "dtype: int64"
      ]
     },
     "execution_count": 33,
     "metadata": {},
     "output_type": "execute_result"
    }
   ],
   "source": [
    "# 4. Find total numer of missing values in each column. hint: Use .isnull() and .sum() functions\n",
    "null_data.sum()"
   ]
  },
  {
   "cell_type": "code",
   "execution_count": null,
   "id": "57f1ff84",
   "metadata": {},
   "outputs": [],
   "source": []
  }
 ],
 "metadata": {
  "kernelspec": {
   "display_name": "Python 3",
   "language": "python",
   "name": "python3"
  },
  "language_info": {
   "codemirror_mode": {
    "name": "ipython",
    "version": 3
   },
   "file_extension": ".py",
   "mimetype": "text/x-python",
   "name": "python",
   "nbconvert_exporter": "python",
   "pygments_lexer": "ipython3",
   "version": "3.8.8"
  }
 },
 "nbformat": 4,
 "nbformat_minor": 5
}
