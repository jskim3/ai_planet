{
 "cells": [
  {
   "cell_type": "markdown",
   "id": "17cb53ea",
   "metadata": {},
   "source": [
    "# Conditional Statements\n",
    "- Cause and effect\n",
    "- If this...then...do that\n",
    "- Allows for **conditional execution of a statment** or group of statements **based on the value of an expression**\n",
    "\n",
    "## if statement\n",
    "**Syntax**: \n",
    "`if` text expression/condition:<br/>\n",
    "&nbsp;&nbsp;&nbsp;&nbsp;do this\n",
    "\n",
    "- Need colon after statement\n",
    "- Actions must be indented (first unindented line markes the end)\n",
    "- Actions executed only if expression is True\n",
    "    - True:\n",
    "        - Any non-zero value interpreted as True (even negative values)\n",
    "    - False:\n",
    "        - None\n",
    "        - 0\n",
    "        - Empty: strings, lists, dicts, tuples, sets\n",
    "- If expression is False - exit\n",
    "\n",
    "## if-else statement\n",
    "**Syntax**:\n",
    "`if` text expression:<br/>\n",
    "&nbsp;&nbsp;&nbsp;&nbsp;body of `if`  \n",
    "`else`:  \n",
    "&nbsp;&nbsp;&nbsp;&nbsp;body of `else`  \n",
    "\n",
    "- `if` and `else` must both be followed by colon\n",
    "- `if` and `else` are inline vertically\n",
    "- body of each must be indented\n",
    "- `else` does not require a test expression\n",
    "- If expression is False, body of `else` is executed\n",
    "\n",
    "## if-elif-else statement\n",
    "**Syntax**:  \n",
    "`if` text expression:<br/>\n",
    "&nbsp;&nbsp;&nbsp;&nbsp;body of `if`  \n",
    "`elif` test expression:<br/>. \n",
    "&nbsp;&nbsp;&nbsp;&nbsp;body of `elif`  \n",
    "`else`:  \n",
    "&nbsp;&nbsp;&nbsp;&nbsp;body of `else`  \n",
    "\n",
    "- `elif` short for else if\n",
    "- allows multiple expressions to be checked\n",
    "- only one block among the several will be executed\n",
    "- expressions are checked in order\n",
    "- if all conditions are False, body of `else` is executed\n",
    "- only one `else` block allowed\n",
    "- can have multipe `elif` blocks\n",
    "\n",
    "# Loops\n",
    "A sequence of instructions that is continuously repeated until a certain condition is reached\n",
    "\n",
    "## For Loop\n",
    "**Synatx**:  \n",
    "`for` variable `in` sequence:  \n",
    "&nbsp;&nbsp;&nbsp;&nbsp;expression. \n",
    "\n",
    "- Used for iterating over a sequence\n",
    "- Actions must be indented\n",
    "- Some iterable objects:\n",
    "    - lists\n",
    "    - strings\n",
    "\n",
    "### Enumerate example\n",
    "- Enumerate function iterates over the elements of a list and associates an index with them\n",
    "- Use two variables to store the values given by `enumerate`\n",
    "\n",
    "`for` index,height `in` enumerate(fam_heights):  \n",
    "&nbsp;&nbsp;&nbsp;&nbsp;print('index' + str(index) + ' : ' + str(height))\n",
    "\n",
    "## While Loop\n",
    "**Syntax**:  \n",
    "`while` condition:  \n",
    "&nbsp;&nbsp;&nbsp;&nbsp;statements(s)  \n",
    "\n",
    "- Executes set of statements repeatedly as long as condition is true\n",
    "- Indented statements considered part of a single block to be executed\n",
    "\n",
    "## Range function\n",
    "- range( ) generates a series of numbers within a given range\n",
    "- only works with integers\n",
    "\n",
    "Three ways to call range function:\n",
    "- range(stop) - takes 1 argument (default start at 0 and step 1)\n",
    "- range(start,stop) - takes 2 arguments (default step 1)\n",
    "- range(start, stop, step) - takes 3 arguments\n",
    "\n",
    "**--note--** upper limit not included in range\n",
    "  \n",
    "- default print statments prints on different lines\n",
    "- pass end=', ' argument to print output inline separated by comma"
   ]
  },
  {
   "cell_type": "code",
   "execution_count": 1,
   "id": "a93675e4",
   "metadata": {},
   "outputs": [
    {
     "name": "stdout",
     "output_type": "stream",
     "text": [
      "0, 1, 2, 3, 4, "
     ]
    }
   ],
   "source": [
    "# Example with 1 argument\n",
    "# Print first 5 numbers using range function\n",
    "for i in range(5):\n",
    "    print(i, end=', ')"
   ]
  },
  {
   "cell_type": "code",
   "execution_count": 2,
   "id": "136927d2",
   "metadata": {},
   "outputs": [
    {
     "name": "stdout",
     "output_type": "stream",
     "text": [
      "5,6,7,8,9,"
     ]
    }
   ],
   "source": [
    "# Example 2 arguments\n",
    "# Print integeres within given start and stop number using range()\n",
    "for i in range(5,10):\n",
    "    print(i, end=',')"
   ]
  },
  {
   "cell_type": "markdown",
   "id": "fb926a17",
   "metadata": {},
   "source": [
    "## Break & Continue Keywords\n",
    "- Use to stop/exit for and while loops\n",
    "\n",
    "### For Loop & break Keyword\n",
    "Given list = [1,3,2,5,4,6,8], get the first even number"
   ]
  },
  {
   "cell_type": "code",
   "execution_count": 4,
   "id": "28949f32",
   "metadata": {},
   "outputs": [
    {
     "name": "stdout",
     "output_type": "stream",
     "text": [
      "2\n",
      "4\n",
      "6\n",
      "8\n"
     ]
    }
   ],
   "source": [
    "# Without using break keyword - all even numbers printed\n",
    "numbers = [1,3,2,5,4,6,8]\n",
    "for number in numbers:\n",
    "    if number%2 == 0:\n",
    "        print(number)"
   ]
  },
  {
   "cell_type": "code",
   "execution_count": 5,
   "id": "a8396ae0",
   "metadata": {},
   "outputs": [
    {
     "name": "stdout",
     "output_type": "stream",
     "text": [
      "2\n"
     ]
    }
   ],
   "source": [
    "# Break out of for loop\n",
    "numbers = [1,3,2,5,4,6,8]\n",
    "for number in numbers:\n",
    "    if number%2 == 0:\n",
    "        print(number)\n",
    "        break"
   ]
  },
  {
   "cell_type": "markdown",
   "id": "9f5bfe04",
   "metadata": {},
   "source": [
    "### While Loop & break Keyword"
   ]
  },
  {
   "cell_type": "code",
   "execution_count": 6,
   "id": "f259d8a9",
   "metadata": {},
   "outputs": [
    {
     "name": "stdout",
     "output_type": "stream",
     "text": [
      "1\n",
      "2\n",
      "3\n"
     ]
    }
   ],
   "source": [
    "# Break out of while loop\n",
    "i=1\n",
    "while i<9:\n",
    "    print(i)\n",
    "    if i==3:\n",
    "        break\n",
    "    i+=1"
   ]
  },
  {
   "cell_type": "markdown",
   "id": "69a440f7",
   "metadata": {},
   "source": [
    "## Continue Keyword\n",
    "- Skips/ends current iteration of both for and while loops and starts next iteration\n",
    "\n",
    "### For Loop & continue Keyword"
   ]
  },
  {
   "cell_type": "code",
   "execution_count": 8,
   "id": "eac862fb",
   "metadata": {},
   "outputs": [
    {
     "name": "stdout",
     "output_type": "stream",
     "text": [
      "1\n",
      "3\n",
      "5\n"
     ]
    }
   ],
   "source": [
    "numbers = [1,3,2,5,4,6,8]\n",
    "\n",
    "# Get odd numbers only\n",
    "for number in numbers:\n",
    "    if number%2==0:\n",
    "        continue\n",
    "    else:\n",
    "        print(number)"
   ]
  },
  {
   "cell_type": "markdown",
   "id": "a9c4a7d8",
   "metadata": {},
   "source": [
    "### While Loop & continue Keyword"
   ]
  },
  {
   "cell_type": "code",
   "execution_count": 9,
   "id": "6e8d1594",
   "metadata": {},
   "outputs": [
    {
     "name": "stdout",
     "output_type": "stream",
     "text": [
      "1\n",
      "2\n",
      "4\n",
      "5\n",
      "6\n",
      "7\n",
      "8\n",
      "9\n"
     ]
    }
   ],
   "source": [
    "# print all numbers in numbers except 3\n",
    "i = 0\n",
    "while i < 9:\n",
    "    i+=1\n",
    "    if i==3:\n",
    "        continue\n",
    "    print(i)"
   ]
  },
  {
   "cell_type": "code",
   "execution_count": 32,
   "id": "b8c70835",
   "metadata": {},
   "outputs": [
    {
     "name": "stdout",
     "output_type": "stream",
     "text": [
      "21\n"
     ]
    }
   ],
   "source": [
    "dphi = 10\n",
    "for i in range(10):\n",
    "    for j in range(2, 10, 1): # no iteration happens in this for loop bc of continue\n",
    "        if dphi % 2 == 0:\n",
    "            continue # this stops dphi from being iterated within if statement\n",
    "            dphi += 1\n",
    "    dphi+=1\n",
    "else:\n",
    "    dphi+=1\n",
    "print(dphi)"
   ]
  },
  {
   "cell_type": "code",
   "execution_count": 33,
   "id": "8bbed7d9",
   "metadata": {},
   "outputs": [
    {
     "name": "stdout",
     "output_type": "stream",
     "text": [
      "D\n",
      "A\n",
      "T\n",
      "A\n",
      "S\n",
      "C\n",
      "I\n",
      "E\n",
      "N\n",
      "C\n",
      "E\n"
     ]
    }
   ],
   "source": [
    "# Remeber output will be on separate lines unless end= argument is passed\n",
    "x = 'datascience'\n",
    "for i in x:\n",
    "    print(i.upper())"
   ]
  },
  {
   "cell_type": "markdown",
   "id": "6c5ea63b",
   "metadata": {},
   "source": [
    "# Sets - A Data Structure in Python\n",
    "- A set is a collection of elements/things\n",
    "- A set contains all unique elements\n",
    "- *Example Use* Storing student registration numbers - must be unique\n",
    "\n",
    "## Exercise\n",
    "- How can you remove duplicates and have unique elements only? \n",
    "    - list1 = [10, 20, 51, 60, 20, 10, 23, 25, 23, 51, 25]"
   ]
  },
  {
   "cell_type": "code",
   "execution_count": 85,
   "id": "d8793cf5",
   "metadata": {},
   "outputs": [
    {
     "name": "stdout",
     "output_type": "stream",
     "text": [
      "i= 10\n",
      "i= 51\n",
      "i= 20\n",
      "i= 23\n",
      "i= 23\n",
      "i= 25\n",
      "[60, 20, 10, 51, 25]\n"
     ]
    }
   ],
   "source": [
    "# My personal try before reading on\n",
    "list1 = [10, 20, 51, 60, 20, 10, 23, 25, 23, 51, 25]\n",
    "length = ((len(list1))-1)\n",
    "for i in list1:\n",
    "    print('i=',i)\n",
    "    list1.remove(i)\n",
    "        \n",
    "print(list1)"
   ]
  },
  {
   "cell_type": "markdown",
   "id": "cc85f575",
   "metadata": {},
   "source": [
    "### Approach to Solve The Previous Problem\n",
    "1. Define an empty list to store all unique values - list2\n",
    "2. Iterate over list 1 (use for loop)\n",
    "3. Check if an item is present in list 2 or not:\n",
    "    - if item is present, continue\n",
    "    - if item not present, append item to list2\n",
    "4. print list2\n",
    "\n",
    "### 'in' Keyword in Python\n",
    "1. The **in** keyword is used ot check if a value is present in a collection of items or a sequence (list, string, dict, set, etc.) or not\n",
    "2. The **in** keyword also used to iterate through sequence of items in a for loop\n",
    "\n",
    "### Python Code to Solve the Previous Problem"
   ]
  },
  {
   "cell_type": "code",
   "execution_count": 83,
   "id": "2cc0f4cf",
   "metadata": {},
   "outputs": [
    {
     "name": "stdout",
     "output_type": "stream",
     "text": [
      "[10, 20, 51, 60, 23, 25]\n"
     ]
    }
   ],
   "source": [
    "list1 = [10, 20, 51, 60, 20, 10, 23, 25, 23, 51, 25]\n",
    "list2 = []\n",
    "\n",
    "for item in list1:\n",
    "    if item in list2:\n",
    "        continue\n",
    "    else:\n",
    "        list2.append(item)\n",
    "print(list2)"
   ]
  },
  {
   "cell_type": "markdown",
   "id": "e585aa01",
   "metadata": {},
   "source": [
    "## Defining a Set in Python\n",
    "- A set is define using curly brackets, i.e.,{ }\n",
    "- set([ ])"
   ]
  },
  {
   "cell_type": "code",
   "execution_count": 134,
   "id": "c29e667b",
   "metadata": {},
   "outputs": [
    {
     "name": "stdout",
     "output_type": "stream",
     "text": [
      "{'dphi', 'DPhi', 'learn', 'practice', 'discuss'}\n"
     ]
    }
   ],
   "source": [
    "s1 = {'DPhi', 'dphi', 'learn', 'practice', 'discuss'}\n",
    "print(s1)"
   ]
  },
  {
   "cell_type": "code",
   "execution_count": 135,
   "id": "bff5e27f",
   "metadata": {},
   "outputs": [
    {
     "data": {
      "text/plain": [
       "{'DPhi', 'discuss', 'dphi', 'learn', 'practice'}"
      ]
     },
     "execution_count": 135,
     "metadata": {},
     "output_type": "execute_result"
    }
   ],
   "source": [
    "s1"
   ]
  },
  {
   "cell_type": "markdown",
   "id": "5d851fea",
   "metadata": {},
   "source": [
    "A set is an **unordered collection of elements**"
   ]
  },
  {
   "cell_type": "code",
   "execution_count": 137,
   "id": "12672704",
   "metadata": {},
   "outputs": [
    {
     "name": "stdout",
     "output_type": "stream",
     "text": [
      "{'dphi', 'DPhi', 'learn', 'practice', 'discuss'}\n"
     ]
    }
   ],
   "source": [
    "s2 = set(['DPhi', 'dphi', 'learn', 'practice', 'discuss'])\n",
    "print(s2)"
   ]
  },
  {
   "cell_type": "markdown",
   "id": "52c350b0",
   "metadata": {},
   "source": [
    "## Accessing Items of a Set in Python\n",
    "We cannot acces an item in a set using the index of elements"
   ]
  },
  {
   "cell_type": "code",
   "execution_count": 88,
   "id": "9af2ffda",
   "metadata": {},
   "outputs": [
    {
     "name": "stdout",
     "output_type": "stream",
     "text": [
      "{'dphi', 'DPhi', 'learn', 'practice', 'discuss'}\n"
     ]
    }
   ],
   "source": [
    "print(s)"
   ]
  },
  {
   "cell_type": "code",
   "execution_count": 89,
   "id": "68c6cabc",
   "metadata": {},
   "outputs": [
    {
     "ename": "TypeError",
     "evalue": "'set' object is not subscriptable",
     "output_type": "error",
     "traceback": [
      "\u001b[0;31m---------------------------------------------------------------------------\u001b[0m",
      "\u001b[0;31mTypeError\u001b[0m                                 Traceback (most recent call last)",
      "\u001b[0;32m<ipython-input-89-ba450c8db6e8>\u001b[0m in \u001b[0;36m<module>\u001b[0;34m\u001b[0m\n\u001b[1;32m      1\u001b[0m \u001b[0;31m# accesing first element from s\u001b[0m\u001b[0;34m\u001b[0m\u001b[0;34m\u001b[0m\u001b[0;34m\u001b[0m\u001b[0m\n\u001b[0;32m----> 2\u001b[0;31m \u001b[0mprint\u001b[0m\u001b[0;34m(\u001b[0m\u001b[0ms\u001b[0m\u001b[0;34m[\u001b[0m\u001b[0;36m0\u001b[0m\u001b[0;34m]\u001b[0m\u001b[0;34m)\u001b[0m\u001b[0;34m\u001b[0m\u001b[0;34m\u001b[0m\u001b[0m\n\u001b[0m",
      "\u001b[0;31mTypeError\u001b[0m: 'set' object is not subscriptable"
     ]
    }
   ],
   "source": [
    "# accesing first element from s\n",
    "print(s[0])"
   ]
  },
  {
   "cell_type": "markdown",
   "id": "d3379e14",
   "metadata": {},
   "source": [
    "### How can you get a single element at a time from a set?\n",
    "Use a 'for' loop"
   ]
  },
  {
   "cell_type": "code",
   "execution_count": 91,
   "id": "20c320c2",
   "metadata": {},
   "outputs": [
    {
     "name": "stdout",
     "output_type": "stream",
     "text": [
      "dphi\n",
      "DPhi\n",
      "learn\n",
      "practice\n",
      "discuss\n"
     ]
    }
   ],
   "source": [
    "for item in s:\n",
    "    print(item)"
   ]
  },
  {
   "cell_type": "markdown",
   "id": "0a971131",
   "metadata": {},
   "source": [
    "Can also ask if a specific element is present in set with **'in'** keyword"
   ]
  },
  {
   "cell_type": "code",
   "execution_count": 93,
   "id": "0143e734",
   "metadata": {},
   "outputs": [
    {
     "name": "stdout",
     "output_type": "stream",
     "text": [
      "'dphi' is present in s\n"
     ]
    }
   ],
   "source": [
    "if 'dphi' in s:\n",
    "    print(\"'dphi' is present in s\")\n",
    "else:\n",
    "    print(\"'dphi' is not present in s\")"
   ]
  },
  {
   "cell_type": "code",
   "execution_count": 94,
   "id": "49b906c7",
   "metadata": {},
   "outputs": [
    {
     "name": "stdout",
     "output_type": "stream",
     "text": [
      "'bootcamp' is not present in s\n"
     ]
    }
   ],
   "source": [
    "if 'bootcamp' in s:\n",
    "    print(\"'bootcamp' is present in s\")\n",
    "else:\n",
    "    print(\"'bootcamp' is not present in s\")"
   ]
  },
  {
   "cell_type": "markdown",
   "id": "9889cc61",
   "metadata": {},
   "source": [
    "## Changing the Items of a Set\n",
    "### Add and Item In a Set: add( )"
   ]
  },
  {
   "cell_type": "code",
   "execution_count": 95,
   "id": "4b23caaa",
   "metadata": {},
   "outputs": [
    {
     "name": "stdout",
     "output_type": "stream",
     "text": [
      "{'dphi', 'DPhi', 'learn', 'practice', 'discuss'}\n"
     ]
    }
   ],
   "source": [
    "print(s)"
   ]
  },
  {
   "cell_type": "code",
   "execution_count": 96,
   "id": "872f938d",
   "metadata": {},
   "outputs": [
    {
     "name": "stdout",
     "output_type": "stream",
     "text": [
      "{'bootcamp', 'dphi', 'DPhi', 'learn', 'practice', 'discuss'}\n"
     ]
    }
   ],
   "source": [
    "# Add an item 'bootcamp' to set s, using add() method\n",
    "s.add('bootcamp')\n",
    "print(s)"
   ]
  },
  {
   "cell_type": "markdown",
   "id": "193c6f54",
   "metadata": {},
   "source": [
    "### Add More Than One Item to a Set: update( )"
   ]
  },
  {
   "cell_type": "code",
   "execution_count": 106,
   "id": "09a95255",
   "metadata": {},
   "outputs": [
    {
     "name": "stdout",
     "output_type": "stream",
     "text": [
      "{'dphi', 'learn data science', 'data science', 'DPhi', 'learn', 'practice', 'discuss'}\n"
     ]
    }
   ],
   "source": [
    "# Add multiple items to a set using update() method\n",
    "s.update(['learn data science', 'data science'])\n",
    "print(s)"
   ]
  },
  {
   "cell_type": "code",
   "execution_count": 107,
   "id": "5bdc9f5f",
   "metadata": {},
   "outputs": [
    {
     "name": "stdout",
     "output_type": "stream",
     "text": [
      "{'bootcamp', 'dphi', 'learn data science', 'data science', 'DPhi', 'learn', 'practice', 'discuss'}\n"
     ]
    }
   ],
   "source": [
    "# Same item will not be added\n",
    "s.add('bootcamp')\n",
    "print(s)"
   ]
  },
  {
   "cell_type": "markdown",
   "id": "b07e4bad",
   "metadata": {},
   "source": [
    "### Remove an Item from a Set: remove( ) or discard( )"
   ]
  },
  {
   "cell_type": "code",
   "execution_count": 108,
   "id": "142c8b34",
   "metadata": {},
   "outputs": [
    {
     "name": "stdout",
     "output_type": "stream",
     "text": [
      "{'bootcamp', 'dphi', 'data science', 'DPhi', 'learn', 'practice', 'discuss'}\n"
     ]
    }
   ],
   "source": [
    "# Remove 'learn data science' from set s\n",
    "s.remove('learn data science')\n",
    "print(s)"
   ]
  },
  {
   "cell_type": "code",
   "execution_count": 109,
   "id": "c7d4e7e3",
   "metadata": {},
   "outputs": [
    {
     "ename": "KeyError",
     "evalue": "'jenny'",
     "output_type": "error",
     "traceback": [
      "\u001b[0;31m---------------------------------------------------------------------------\u001b[0m",
      "\u001b[0;31mKeyError\u001b[0m                                  Traceback (most recent call last)",
      "\u001b[0;32m<ipython-input-109-48c6413e1fdb>\u001b[0m in \u001b[0;36m<module>\u001b[0;34m\u001b[0m\n\u001b[1;32m      1\u001b[0m \u001b[0;31m# Trying to remove item that is not present throws an error\u001b[0m\u001b[0;34m\u001b[0m\u001b[0;34m\u001b[0m\u001b[0;34m\u001b[0m\u001b[0m\n\u001b[0;32m----> 2\u001b[0;31m \u001b[0ms\u001b[0m\u001b[0;34m.\u001b[0m\u001b[0mremove\u001b[0m\u001b[0;34m(\u001b[0m\u001b[0;34m'jenny'\u001b[0m\u001b[0;34m)\u001b[0m\u001b[0;34m\u001b[0m\u001b[0;34m\u001b[0m\u001b[0m\n\u001b[0m",
      "\u001b[0;31mKeyError\u001b[0m: 'jenny'"
     ]
    }
   ],
   "source": [
    "# Trying to remove item that is not present throws an error\n",
    "s.remove('jenny')"
   ]
  },
  {
   "cell_type": "markdown",
   "id": "a339cfaa",
   "metadata": {},
   "source": [
    "#### If item is not present in the set, the discard( ) mehtod will not raise an error"
   ]
  },
  {
   "cell_type": "code",
   "execution_count": 110,
   "id": "3870c9c6",
   "metadata": {},
   "outputs": [],
   "source": [
    "s.discard('jenny')"
   ]
  },
  {
   "cell_type": "code",
   "execution_count": 111,
   "id": "3586fd16",
   "metadata": {},
   "outputs": [
    {
     "name": "stdout",
     "output_type": "stream",
     "text": [
      "{'bootcamp', 'dphi', 'data science', 'DPhi', 'learn', 'practice', 'discuss'}\n"
     ]
    }
   ],
   "source": [
    "print(s)"
   ]
  },
  {
   "cell_type": "code",
   "execution_count": 112,
   "id": "ef5b3d1a",
   "metadata": {},
   "outputs": [
    {
     "name": "stdout",
     "output_type": "stream",
     "text": [
      "{'bootcamp', 'dphi', 'DPhi', 'learn', 'practice', 'discuss'}\n"
     ]
    }
   ],
   "source": [
    "# Remove 'data science' from s using discard()\n",
    "s.discard('data science')\n",
    "print(s)"
   ]
  },
  {
   "cell_type": "markdown",
   "id": "d4224e11",
   "metadata": {},
   "source": [
    "## Getting the Length of a Set: len( )"
   ]
  },
  {
   "cell_type": "code",
   "execution_count": 113,
   "id": "ad2a341c",
   "metadata": {},
   "outputs": [
    {
     "name": "stdout",
     "output_type": "stream",
     "text": [
      "6\n",
      "{'bootcamp', 'dphi', 'DPhi', 'learn', 'practice', 'discuss'}\n"
     ]
    }
   ],
   "source": [
    "print(len(s))\n",
    "print(s)"
   ]
  },
  {
   "cell_type": "markdown",
   "id": "e2b725f5",
   "metadata": {},
   "source": [
    "## Joining Two Sets: Multiple Methods\n",
    "- **update( )**: add itemss of one set to another\n",
    "    - s1.update(s2)\n",
    "- **union( )**: returns a new set containing all items appearing in either one set, the other or both sets\n",
    "    - s3 = s1.union(s2)\n",
    "    - can also use a pipe: s3 = s1|s2\n",
    "- **intersection( )**: returns a new set containing all the common elements of the two sets\n",
    "    - s3 = s1.intersection(s2)\n",
    "    - can also use &: s3 = s1 & s2"
   ]
  },
  {
   "cell_type": "code",
   "execution_count": 115,
   "id": "407cba1e",
   "metadata": {},
   "outputs": [
    {
     "name": "stdout",
     "output_type": "stream",
     "text": [
      "{1, 2, 3, 4, 5, 6, 7, 8, 9, 10}\n",
      "{1, 3, 5, 7, 9}\n"
     ]
    }
   ],
   "source": [
    "# update() method - add s2 to s1\n",
    "s1 = {2,4,6,8,10}\n",
    "s2 = {1,3,5,7,9}\n",
    "\n",
    "s1.update(s2)\n",
    "print(s1)\n",
    "print(s2)"
   ]
  },
  {
   "cell_type": "code",
   "execution_count": 120,
   "id": "5f480fca",
   "metadata": {},
   "outputs": [
    {
     "name": "stdout",
     "output_type": "stream",
     "text": [
      "{1, 2, 3, 4, 5, 6, 7, 8, 9, 10}\n"
     ]
    }
   ],
   "source": [
    "# union () method - create a new set containing everything from both sets\n",
    "s1 = {2,4,6,8,10}\n",
    "s2 = {1,3,5,7,9}\n",
    "s3 = s1|s2\n",
    "#s3 = s1.union(s2)\n",
    "print(s3)"
   ]
  },
  {
   "cell_type": "code",
   "execution_count": 123,
   "id": "7159cf3a",
   "metadata": {},
   "outputs": [
    {
     "name": "stdout",
     "output_type": "stream",
     "text": [
      "S1= {1, 2, 3, 4, 5}\n",
      "S2= {1, 2, 3, 5, 6, 7}\n",
      "{1, 2, 3, 4, 5, 6, 7}\n"
     ]
    }
   ],
   "source": [
    "S1 = {1,1,2,5,4,3,3}\n",
    "S2 = {2,2,3,1,5,6,7}\n",
    "print('S1=',S1)\n",
    "print('S2=', S2)\n",
    "S3 = S1|S2\n",
    "print(S3)"
   ]
  },
  {
   "cell_type": "code",
   "execution_count": 126,
   "id": "aa91cb7c",
   "metadata": {},
   "outputs": [
    {
     "name": "stdout",
     "output_type": "stream",
     "text": [
      "set()\n"
     ]
    }
   ],
   "source": [
    "# intersection() method\n",
    "s1 = {2,4,6,8,10}\n",
    "s2 = {1,3,5,7,9}\n",
    "s3 = s1.intersection(s2)\n",
    "print(s3)\n",
    "# empty bc nothing in common"
   ]
  },
  {
   "cell_type": "code",
   "execution_count": 127,
   "id": "9d0ee689",
   "metadata": {},
   "outputs": [
    {
     "name": "stdout",
     "output_type": "stream",
     "text": [
      "{2}\n"
     ]
    }
   ],
   "source": [
    "# intersection() method\n",
    "s1 = {2,4,6,8,10}\n",
    "s2 = {1,2,5,7,9}\n",
    "s3 = s1 & s2\n",
    "#s3 = s1.intersection(s2)\n",
    "print(s3)"
   ]
  },
  {
   "cell_type": "code",
   "execution_count": 143,
   "id": "252b8165",
   "metadata": {},
   "outputs": [
    {
     "name": "stdout",
     "output_type": "stream",
     "text": [
      "{1, 2, 3, 5}\n"
     ]
    }
   ],
   "source": [
    "S1 = {1,1,2,5,4,3,3}\n",
    "S2 = {2,2,3,1,5,6,7}\n",
    "S3 = S1 & S2\n",
    "print(S3)"
   ]
  },
  {
   "cell_type": "code",
   "execution_count": 147,
   "id": "eaa930b5",
   "metadata": {},
   "outputs": [
    {
     "name": "stdout",
     "output_type": "stream",
     "text": [
      "{1, 2, 3, 'b', 'c', 'a'}\n"
     ]
    }
   ],
   "source": [
    "s1 = {1,2,3}\n",
    "s2 = {'a','b','c'}\n",
    "s3 = s1|s2\n",
    "print(s3)"
   ]
  },
  {
   "cell_type": "code",
   "execution_count": 152,
   "id": "557dd241",
   "metadata": {},
   "outputs": [
    {
     "name": "stdout",
     "output_type": "stream",
     "text": [
      "{'dphi', 'science', 'learning', 'deep', 'data', 'bootcamp'}\n"
     ]
    }
   ],
   "source": [
    "# can create a set from a list\n",
    "listl = ['dphi', 'data', 'science', 'bootcamp', 'dphi', 'deep', 'learning', 'bootcamp']\n",
    "print(set(listl))"
   ]
  },
  {
   "cell_type": "markdown",
   "id": "062daf87",
   "metadata": {},
   "source": [
    "# List Comprehensions and Functional Programming\n",
    "- Comprehensions are short and concise ways to construct a sequence using another sequence that is already defined\n",
    "- Generally faster than normal functions and for loops\n",
    "  \n",
    "**syntax**: ['output expression' 'for value in list' 'filtering conditions']\n"
   ]
  },
  {
   "cell_type": "code",
   "execution_count": 12,
   "id": "f6d8d526",
   "metadata": {},
   "outputs": [
    {
     "name": "stdout",
     "output_type": "stream",
     "text": [
      "0.0012594869999702496\n"
     ]
    }
   ],
   "source": [
    "# this module is used to calculate the time of execution for given python program\n",
    "import timeit\n",
    "\n",
    "# number is the total number of executions of this python program we want\n",
    "# in this case, program will be executed one time\n",
    "t = timeit.timeit(stmt = \"\"\"\n",
    "lst =[]\n",
    "for value in range(1,10000):\n",
    "    lst.append(value*value)\n",
    "\"\"\",number=1)\n",
    "\n",
    "print(t)"
   ]
  },
  {
   "cell_type": "code",
   "execution_count": 14,
   "id": "f6e9c73b",
   "metadata": {},
   "outputs": [
    {
     "name": "stdout",
     "output_type": "stream",
     "text": [
      "0.0008250670000506943\n"
     ]
    }
   ],
   "source": [
    "# list comprehension format\n",
    "t = timeit.timeit('''lst=[value*value for value in range(1,10000)]''', number=1)\n",
    "print(t)"
   ]
  },
  {
   "cell_type": "code",
   "execution_count": 19,
   "id": "91e27642",
   "metadata": {},
   "outputs": [
    {
     "name": "stdout",
     "output_type": "stream",
     "text": [
      "[2, 6, 10, 14, 18, 22]\n"
     ]
    }
   ],
   "source": [
    "# given a\n",
    "a = [1,3,5,7,9,11]\n",
    "\n",
    "# create b = [2,6,10,14,18,22]\n",
    "# b = a[i]*2\n",
    "b=[]\n",
    "#for loop method\n",
    "for i in a:\n",
    "    b.append(i*2)\n",
    "print(b)"
   ]
  },
  {
   "cell_type": "code",
   "execution_count": 17,
   "id": "c060407b",
   "metadata": {},
   "outputs": [
    {
     "name": "stdout",
     "output_type": "stream",
     "text": [
      "[2, 6, 10, 14, 18, 22]\n"
     ]
    }
   ],
   "source": [
    "# list comprehension method\n",
    "# simpler syntax\n",
    "c = [x*2 for x in a]\n",
    "print(c)"
   ]
  },
  {
   "cell_type": "code",
   "execution_count": 27,
   "id": "f682c4e2",
   "metadata": {},
   "outputs": [
    {
     "name": "stdout",
     "output_type": "stream",
     "text": [
      "d= [1, 4, 9, 16, 25, 36]\n",
      "e= [1, 4, 9, 16, 25, 36]\n"
     ]
    }
   ],
   "source": [
    "# create list [1,4,9,16,25,36]\n",
    "# 1-6 squared\n",
    "\n",
    "# for loop method\n",
    "d=[]\n",
    "for i in range(1,7):\n",
    "    d.append(i**2)\n",
    "print('d=',d)\n",
    "\n",
    "# list comprehension method\n",
    "e=[x**2 for x in range(1,7)]\n",
    "print('e=', e)"
   ]
  },
  {
   "cell_type": "code",
   "execution_count": 28,
   "id": "607faa91",
   "metadata": {},
   "outputs": [
    {
     "name": "stdout",
     "output_type": "stream",
     "text": [
      "d_rev= [36, 25, 16, 9, 4, 1]\n",
      "e_rev= [36, 25, 16, 9, 4, 1]\n"
     ]
    }
   ],
   "source": [
    "# Create [36,25,16,9,4,1] - previous list in reverse\n",
    "# for loop method\n",
    "d_rev = []\n",
    "for i in range(6,0,-1):\n",
    "    d_rev.append(i**2)\n",
    "print(\"d_rev=\", d_rev)\n",
    "\n",
    "# list comprehension method\n",
    "e_rev=[x**2 for x in range(6,0,-1)]\n",
    "print('e_rev=', e_rev)"
   ]
  },
  {
   "cell_type": "markdown",
   "id": "1edef0b2",
   "metadata": {},
   "source": [
    "## List comprehension with filtering"
   ]
  },
  {
   "cell_type": "code",
   "execution_count": 37,
   "id": "1423c68e",
   "metadata": {},
   "outputs": [
    {
     "name": "stdout",
     "output_type": "stream",
     "text": [
      "l_squares= [100, 225, 400, 625, 900, 1225, 1600, 1225]\n",
      "l_even= [10, 20, 30, 40]\n"
     ]
    }
   ],
   "source": [
    "l = [10,15,20,25,30,35,40,35]\n",
    "\n",
    "# create a list of the squares of the values in l\n",
    "l_squares = [value*value for value in l]\n",
    "print('l_squares=', l_squares)\n",
    "\n",
    "# create a list of the even numbers in l\n",
    "l_even = [value for value in l if value%2==0]\n",
    "print('l_even=', l_even)"
   ]
  },
  {
   "cell_type": "code",
   "execution_count": 39,
   "id": "4fa6148a",
   "metadata": {},
   "outputs": [
    {
     "name": "stdout",
     "output_type": "stream",
     "text": [
      "lst_len= [3, 4, 8, 13]\n"
     ]
    }
   ],
   "source": [
    "# Find the length of all the string present in list:\n",
    "lst = ['abc', 'abcd', 'aabbccdd', 'eeeeeeaaaaaaa']\n",
    "\n",
    "lst_len = [len(value) for value in lst]\n",
    "print('lst_len=', lst_len)"
   ]
  },
  {
   "cell_type": "markdown",
   "id": "f2103886",
   "metadata": {},
   "source": [
    "### Dictionary and Set comprehensions possible but not commonly used"
   ]
  },
  {
   "cell_type": "code",
   "execution_count": 40,
   "id": "3d17d26e",
   "metadata": {},
   "outputs": [
    {
     "data": {
      "text/plain": [
       "{1, 2, 3, 4, 5}"
      ]
     },
     "execution_count": 40,
     "metadata": {},
     "output_type": "execute_result"
    }
   ],
   "source": [
    "s=set([1,2,3,2,3,4,5])\n",
    "s"
   ]
  },
  {
   "cell_type": "code",
   "execution_count": 42,
   "id": "58ea7da9",
   "metadata": {},
   "outputs": [
    {
     "name": "stdout",
     "output_type": "stream",
     "text": [
      "{0, 2, 4, 6, 8, 10}\n"
     ]
    }
   ],
   "source": [
    "even={i for i in range(0,11) if i%2==0}\n",
    "print(even)"
   ]
  },
  {
   "cell_type": "markdown",
   "id": "275ee023",
   "metadata": {},
   "source": [
    "### zip( ) plus dictionary comprehension\n",
    "**sytax**: zip(iterator1, iterator2)  \n",
    "- combines first item from iterator1 with first item from iterator 2 and so on"
   ]
  },
  {
   "cell_type": "code",
   "execution_count": 50,
   "id": "e7d96f9a",
   "metadata": {},
   "outputs": [
    {
     "name": "stdout",
     "output_type": "stream",
     "text": [
      "('mumbai', 'india')\n",
      "('new york', 'usa')\n",
      "('paris', 'france')\n",
      "z is a <class 'zip'>\n"
     ]
    }
   ],
   "source": [
    "cities=['mumbai', 'new york', 'paris']\n",
    "countries=['india', 'usa', 'france']\n",
    "\n",
    "# zip() function creates a zip object\n",
    "z=zip(cities, countries)\n",
    "for a in z:\n",
    "    print(a)\n",
    "print('z is a', type(z))"
   ]
  },
  {
   "cell_type": "code",
   "execution_count": 47,
   "id": "b21b0182",
   "metadata": {},
   "outputs": [
    {
     "data": {
      "text/plain": [
       "{'mumbai': 'india', 'new york': 'usa', 'paris': 'france'}"
      ]
     },
     "execution_count": 47,
     "metadata": {},
     "output_type": "execute_result"
    }
   ],
   "source": [
    "d={city:country for city, country in zip(cities, countries)}\n",
    "d"
   ]
  },
  {
   "cell_type": "markdown",
   "id": "2bae2111",
   "metadata": {},
   "source": [
    "## Functional Programming\n",
    "- A coding paradigm in which we define what to do instead of performing actions\n",
    "- We define the inputs that go into the function and the output that we expect from it\n",
    "- Good for repeating actions - don't have to re-write same code multiple times\n",
    "    - Instead just call the defined function\n",
    "- Keeps code more managable and organized\n",
    "\n",
    "## map( )\n",
    "**syntax**: map(function, iterable)\n",
    "- Built-in Python function that takes two arguments:\n",
    "    1. a function\n",
    "    2. an iterable (i.e. sequence/collection of elements list list, tuple, etc.)\n",
    "- Applies given function for each item in iterable\n",
    "- Can provide mor than one iterable\n",
    "- Returns a list of the results"
   ]
  },
  {
   "cell_type": "markdown",
   "id": "51b94b29",
   "metadata": {},
   "source": [
    "## Typecasting\n",
    "- Process of converting any object's type(i.e. the datatype)"
   ]
  },
  {
   "cell_type": "code",
   "execution_count": 51,
   "id": "de4ec98f",
   "metadata": {},
   "outputs": [
    {
     "name": "stdout",
     "output_type": "stream",
     "text": [
      "<map object at 0x7f954605cc70>\n"
     ]
    }
   ],
   "source": [
    "# Define a function that will take a number as a parameter and return the square of the number\n",
    "\n",
    "def square(num):\n",
    "    return num**num\n",
    "\n",
    "m = map(square, [1,2,3,4,5])\n",
    "print(m)"
   ]
  },
  {
   "cell_type": "code",
   "execution_count": 52,
   "id": "7036b605",
   "metadata": {},
   "outputs": [
    {
     "name": "stdout",
     "output_type": "stream",
     "text": [
      "[1, 4, 27, 256, 3125]\n"
     ]
    }
   ],
   "source": [
    "# Typecast m to a list\n",
    "print(list(m))"
   ]
  },
  {
   "cell_type": "code",
   "execution_count": 53,
   "id": "c89e1b10",
   "metadata": {},
   "outputs": [
    {
     "name": "stdout",
     "output_type": "stream",
     "text": [
      "[3, 7, 11, 15, 19]\n"
     ]
    }
   ],
   "source": [
    "# Add alements of two lists index-wise\n",
    "list1= [2,4,6,8,10]\n",
    "list2= [1,3,5,7,9]\n",
    "\n",
    "# define function to add two numbers\n",
    "def add(num1, num2):\n",
    "    return num1+num2\n",
    "\n",
    "m=map(add, list1, list2)\n",
    "print(list(m))"
   ]
  },
  {
   "cell_type": "code",
   "execution_count": 97,
   "id": "d9195a9a",
   "metadata": {},
   "outputs": [
    {
     "ename": "TypeError",
     "evalue": "'int' object is not iterable",
     "output_type": "error",
     "traceback": [
      "\u001b[0;31m---------------------------------------------------------------------------\u001b[0m",
      "\u001b[0;31mTypeError\u001b[0m                                 Traceback (most recent call last)",
      "\u001b[0;32m<ipython-input-97-cf2213dabb70>\u001b[0m in \u001b[0;36m<module>\u001b[0;34m\u001b[0m\n\u001b[1;32m     11\u001b[0m \u001b[0;34m\u001b[0m\u001b[0m\n\u001b[1;32m     12\u001b[0m \u001b[0mlist3_even\u001b[0m \u001b[0;34m=\u001b[0m \u001b[0mmap\u001b[0m\u001b[0;34m(\u001b[0m\u001b[0meven\u001b[0m\u001b[0;34m,\u001b[0m \u001b[0mlist3\u001b[0m\u001b[0;34m)\u001b[0m\u001b[0;34m\u001b[0m\u001b[0;34m\u001b[0m\u001b[0m\n\u001b[0;32m---> 13\u001b[0;31m \u001b[0mprint\u001b[0m\u001b[0;34m(\u001b[0m\u001b[0mset\u001b[0m\u001b[0;34m(\u001b[0m\u001b[0mlist3_even\u001b[0m\u001b[0;34m)\u001b[0m\u001b[0;34m)\u001b[0m\u001b[0;34m\u001b[0m\u001b[0;34m\u001b[0m\u001b[0m\n\u001b[0m",
      "\u001b[0;32m<ipython-input-97-cf2213dabb70>\u001b[0m in \u001b[0;36meven\u001b[0;34m(num)\u001b[0m\n\u001b[1;32m      5\u001b[0m     \u001b[0;31m#    return [value for value in list3 if value%2==0]\u001b[0m\u001b[0;34m\u001b[0m\u001b[0;34m\u001b[0m\u001b[0;34m\u001b[0m\u001b[0m\n\u001b[1;32m      6\u001b[0m     \u001b[0meven_3\u001b[0m \u001b[0;34m=\u001b[0m \u001b[0;34m[\u001b[0m\u001b[0;34m]\u001b[0m\u001b[0;34m\u001b[0m\u001b[0;34m\u001b[0m\u001b[0m\n\u001b[0;32m----> 7\u001b[0;31m     \u001b[0;32mfor\u001b[0m \u001b[0mvalue\u001b[0m \u001b[0;32min\u001b[0m \u001b[0mnum\u001b[0m\u001b[0;34m:\u001b[0m\u001b[0;34m\u001b[0m\u001b[0;34m\u001b[0m\u001b[0m\n\u001b[0m\u001b[1;32m      8\u001b[0m         \u001b[0;32mif\u001b[0m \u001b[0mvalue\u001b[0m\u001b[0;34m%\u001b[0m\u001b[0;36m2\u001b[0m\u001b[0;34m==\u001b[0m\u001b[0;36m0\u001b[0m\u001b[0;34m:\u001b[0m\u001b[0;34m\u001b[0m\u001b[0;34m\u001b[0m\u001b[0m\n\u001b[1;32m      9\u001b[0m             \u001b[0meven_3\u001b[0m\u001b[0;34m.\u001b[0m\u001b[0mappend\u001b[0m\u001b[0;34m(\u001b[0m\u001b[0mvalue\u001b[0m\u001b[0;34m)\u001b[0m\u001b[0;34m\u001b[0m\u001b[0;34m\u001b[0m\u001b[0m\n",
      "\u001b[0;31mTypeError\u001b[0m: 'int' object is not iterable"
     ]
    }
   ],
   "source": [
    "# get the even numbers from the list\n",
    "list3 = [5, 7, 8, 10, 11, 13, 15, 16, 17, 19, 20]\n",
    "\n",
    "def even(num):\n",
    "    #    return [value for value in list3 if value%2==0]\n",
    "    even_3 = []\n",
    "    for value in num:\n",
    "        if value%2==0:\n",
    "            even_3.append(value)\n",
    "    return even_3\n",
    "\n",
    "list3_even = map(even, list3)\n",
    "print(set(list3_even))"
   ]
  },
  {
   "cell_type": "code",
   "execution_count": 98,
   "id": "bf2f624e",
   "metadata": {},
   "outputs": [
    {
     "name": "stdout",
     "output_type": "stream",
     "text": [
      "[None, None, 8, 10, None, None, None, 16, None, None, 20]\n"
     ]
    }
   ],
   "source": [
    "# get the even numbers from the list\n",
    "# provided solution\n",
    "list3 = [5, 7, 8, 10, 11, 13, 15, 16, 17, 19, 20]\n",
    "\n",
    "def even(num):\n",
    "    if num%2==0:\n",
    "        return num\n",
    "\n",
    "list3_even = map(even, list3)\n",
    "print(list(list3_even))"
   ]
  },
  {
   "cell_type": "markdown",
   "id": "adf6f625",
   "metadata": {},
   "source": [
    "- Notice the 'None' elements - this is the disadvantage of map\n",
    "- Using the map function gives you an object that is the same length as the given iterable\n",
    "- alternative is filter( ) function\n",
    "\n",
    "## filter( )\n",
    "**syntax**: filter(function, iterable)\n",
    "- Built-in function - similar to map( )\n",
    "- Take two parameters\n",
    "    1. function\n",
    "    2. iterable\n",
    "- Function tests each element in iterable to be true or not\n",
    "- If function returns true for an element, filter( ) function selects that element - else skips element\n"
   ]
  },
  {
   "cell_type": "code",
   "execution_count": 99,
   "id": "4a9e7595",
   "metadata": {},
   "outputs": [
    {
     "name": "stdout",
     "output_type": "stream",
     "text": [
      "<filter object at 0x7f9545fa7c70>\n",
      "[8, 10, 16, 20]\n"
     ]
    }
   ],
   "source": [
    "# Get only even numbers from list using filter() function\n",
    "list3 = [5, 7, 8, 10, 11, 13, 15, 16, 17, 19, 20]\n",
    "\n",
    "def even(num):\n",
    "    if num%2==0:\n",
    "        return num\n",
    "\n",
    "filt_even = filter(even, list3)\n",
    "print(filt_even)\n",
    "print(list(filt_even))"
   ]
  },
  {
   "cell_type": "markdown",
   "id": "55bbfe3c",
   "metadata": {},
   "source": [
    "- Only elements that were True have been returned\n",
    "\n",
    "## Lambda function\n",
    "- Anonymous function = function that is defined without any name\n",
    "- Lambda functions defined as needed, inline - can't be called again\n",
    "- Can take any number of arguments but only has one expression\n",
    "\n",
    "**syntax**: lambda arguments: expression\n",
    "\n",
    "- in map( ) function, can replace name of function with an inline lamda function"
   ]
  },
  {
   "cell_type": "code",
   "execution_count": 101,
   "id": "be7c007c",
   "metadata": {},
   "outputs": [
    {
     "name": "stdout",
     "output_type": "stream",
     "text": [
      "<map object at 0x7f954605c8e0>\n",
      "[1, 4, 9, 16, 25]\n"
     ]
    }
   ],
   "source": [
    "# Use lambda function to create a list of squares of numbers in a list\n",
    "\n",
    "squares = map(lambda num: num**2, [1,2,3,4,5])\n",
    "print(squares)\n",
    "print(list(squares))"
   ]
  },
  {
   "cell_type": "code",
   "execution_count": 102,
   "id": "fb87f7fb",
   "metadata": {},
   "outputs": [
    {
     "name": "stdout",
     "output_type": "stream",
     "text": [
      "[3, 7, 11, 15, 19]\n"
     ]
    }
   ],
   "source": [
    "# Calculate the element-wise sum of two lists\n",
    "\n",
    "list1= [2,4,6,8,10]\n",
    "list2= [1,3,5,7,9]\n",
    "\n",
    "sum_list = map(lambda num1, num2: num1+num2, list1, list2)\n",
    "print(list(sum_list))"
   ]
  },
  {
   "cell_type": "code",
   "execution_count": 110,
   "id": "79decbef",
   "metadata": {},
   "outputs": [
    {
     "ename": "SyntaxError",
     "evalue": "invalid syntax (<ipython-input-110-6517e9b97003>, line 4)",
     "output_type": "error",
     "traceback": [
      "\u001b[0;36m  File \u001b[0;32m\"<ipython-input-110-6517e9b97003>\"\u001b[0;36m, line \u001b[0;32m4\u001b[0m\n\u001b[0;31m    l1_even = filter(lambda num: num if num%2==0, l1)\u001b[0m\n\u001b[0m                                                ^\u001b[0m\n\u001b[0;31mSyntaxError\u001b[0m\u001b[0;31m:\u001b[0m invalid syntax\n"
     ]
    }
   ],
   "source": [
    "# filter out even numbers from l1 = [5, 7, 8, 10, 11, 13, 15, 16, 17, 19, 20] using lambda()\n",
    "l1 = [5, 7, 8, 10, 11, 13, 15, 16, 17, 19, 20] \n",
    "\n",
    "l1_even = filter(lambda num: num if num%2==0, l1)\n",
    "print(list(l1_even))"
   ]
  },
  {
   "cell_type": "markdown",
   "id": "e27cb881",
   "metadata": {},
   "source": [
    "- **Error because we don't need an if statement in the expression**  \n",
    "- **filter( ) function runs the if statement implicitly**"
   ]
  },
  {
   "cell_type": "code",
   "execution_count": 111,
   "id": "624dd9c1",
   "metadata": {},
   "outputs": [
    {
     "name": "stdout",
     "output_type": "stream",
     "text": [
      "[8, 10, 16, 20]\n"
     ]
    }
   ],
   "source": [
    "l1 = [5, 7, 8, 10, 11, 13, 15, 16, 17, 19, 20] \n",
    "\n",
    "l1_even = filter(lambda num: num%2==0, l1) # expression will return True if the number is even\n",
    "print(list(l1_even))"
   ]
  },
  {
   "cell_type": "code",
   "execution_count": 112,
   "id": "7d82e60b",
   "metadata": {},
   "outputs": [
    {
     "name": "stdout",
     "output_type": "stream",
     "text": [
      "[False, True, False, False, True, False, True, False, True, False]\n"
     ]
    }
   ],
   "source": [
    "# Import the necessary dependencies\n",
    "import math\n",
    "\n",
    "# Define the scores variable\n",
    "scores = [66, 90, 68, 59, 76, 60, 88, 74, 81, 65]\n",
    "\n",
    "def is_A_student(score):\n",
    "    return score > 75\n",
    "\n",
    "over_75 = list(map(is_A_student, scores))\n",
    "print(over_75)"
   ]
  },
  {
   "cell_type": "code",
   "execution_count": 113,
   "id": "eaeafd8e",
   "metadata": {},
   "outputs": [
    {
     "ename": "SyntaxError",
     "evalue": "invalid syntax (<ipython-input-113-ae834ba2b712>, line 1)",
     "output_type": "error",
     "traceback": [
      "\u001b[0;36m  File \u001b[0;32m\"<ipython-input-113-ae834ba2b712>\"\u001b[0;36m, line \u001b[0;32m1\u001b[0m\n\u001b[0;31m    func = lambda x: return x\u001b[0m\n\u001b[0m                     ^\u001b[0m\n\u001b[0;31mSyntaxError\u001b[0m\u001b[0;31m:\u001b[0m invalid syntax\n"
     ]
    }
   ],
   "source": [
    "func = lambda x: return x\n",
    "print(func(10))"
   ]
  },
  {
   "cell_type": "code",
   "execution_count": 130,
   "id": "66286072",
   "metadata": {},
   "outputs": [
    {
     "data": {
      "text/plain": [
       "20.0"
      ]
     },
     "execution_count": 130,
     "metadata": {},
     "output_type": "execute_result"
    }
   ],
   "source": [
    "(lambda x: (x + 3) * 5 / 2)(5)\n",
    "# 5 is being passed into the function"
   ]
  },
  {
   "cell_type": "code",
   "execution_count": 118,
   "id": "5dd34f63",
   "metadata": {},
   "outputs": [
    {
     "ename": "SyntaxError",
     "evalue": "invalid syntax (<ipython-input-118-4d72f4718f37>, line 1)",
     "output_type": "error",
     "traceback": [
      "\u001b[0;36m  File \u001b[0;32m\"<ipython-input-118-4d72f4718f37>\"\u001b[0;36m, line \u001b[0;32m1\u001b[0m\n\u001b[0;31m    print([if i%2==0: i; else: i+1; for i in range(3)])\u001b[0m\n\u001b[0m           ^\u001b[0m\n\u001b[0;31mSyntaxError\u001b[0m\u001b[0;31m:\u001b[0m invalid syntax\n"
     ]
    }
   ],
   "source": [
    "print([if i%2==0: i; else: i+1; for i in range(3)])"
   ]
  },
  {
   "cell_type": "code",
   "execution_count": null,
   "id": "d3b6b410",
   "metadata": {},
   "outputs": [],
   "source": []
  }
 ],
 "metadata": {
  "kernelspec": {
   "display_name": "Python 3",
   "language": "python",
   "name": "python3"
  },
  "language_info": {
   "codemirror_mode": {
    "name": "ipython",
    "version": 3
   },
   "file_extension": ".py",
   "mimetype": "text/x-python",
   "name": "python",
   "nbconvert_exporter": "python",
   "pygments_lexer": "ipython3",
   "version": "3.8.8"
  }
 },
 "nbformat": 4,
 "nbformat_minor": 5
}
