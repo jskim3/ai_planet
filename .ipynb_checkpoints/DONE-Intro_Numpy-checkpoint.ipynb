{
 "cells": [
  {
   "cell_type": "markdown",
   "id": "3f27d297",
   "metadata": {},
   "source": [
    "# TOC\n",
    "<a href=\"#1\">Intro to Arrays, Vectors, and Matrices</a>  \n",
    "<a href=\"#2\">Attributes of an Array and creating basic arrays</a>  \n",
    "<a href=\"#3\">Basic methods on array and reshaping</a>\n",
    "<a href=\"#4\">Indexing and Slicing</a>\n",
    "\n",
    "<a id = '1'></a>\n",
    "# Introduction to Arrays, Vectors, and Matrices\n",
    "\n",
    "## Arrays in Python\n",
    "\n",
    "**List**: Ordered sequence of data\n",
    "- Can include any data type\n",
    "- Declared with square bracekts [ ]\n",
    "- Items separated by comma\n",
    "\n",
    "**Arrays**: Ordered sequence of data\n",
    "- Can only hold **one** data type (all same)\n",
    "- Help reduce the overal size of your code\n",
    "\n",
    "**List vs Array**: List can store different data types, but arrays can only store single data type\n",
    "\n",
    "## Vectors & Matrix\n",
    "\n",
    "**Vector**: A type of array that is one-dimensional (horizontal-row or vertical-column)\n",
    "\n",
    "**Matrix**: An arrangement of numbers into rows and columns\n",
    "- Can use row and column indices to identify position of an item in the matrix\n",
    "- *Shape* = #rows x #columns\n",
    "- e.g. 2x3 = 2D matrix; 2x3x2 = 3D matrix"
   ]
  },
  {
   "cell_type": "markdown",
   "id": "3ea591d2",
   "metadata": {},
   "source": [
    "# Python List and Numpy array\n",
    "- Numpy = Numerical Python\n",
    "- To use import numpy as np (np is an alias)\n",
    "\n",
    "**Array in NumPy**: a data structure\n",
    "- Holds collection of ordered elements\n",
    "- Only hold data of same type\n",
    "- Cheap in terms of time and memory\n",
    "\n",
    "**ndarray**: N-dimensional array\n",
    "- N = the number of dimensions (e.g. vector is 1D array)\n",
    "\n",
    "## Create Numpy Array from Python List"
   ]
  },
  {
   "cell_type": "code",
   "execution_count": 1,
   "id": "dd6b7a3e",
   "metadata": {},
   "outputs": [
    {
     "data": {
      "text/plain": [
       "[2, 4, 6, 8, 10]"
      ]
     },
     "execution_count": 1,
     "metadata": {},
     "output_type": "execute_result"
    }
   ],
   "source": [
    "# Initialize a Python List\n",
    "python_list = [2,4,6,8,10]\n",
    "\n",
    "# Display the list\n",
    "python_list"
   ]
  },
  {
   "cell_type": "code",
   "execution_count": 3,
   "id": "4fa160c8",
   "metadata": {},
   "outputs": [
    {
     "data": {
      "text/plain": [
       "array([ 2,  4,  6,  8, 10])"
      ]
     },
     "execution_count": 3,
     "metadata": {},
     "output_type": "execute_result"
    }
   ],
   "source": [
    "import numpy as np\n",
    "\n",
    "# Convert python_list to numpy array\n",
    "numpy_array1 = np.array(python_list)\n",
    "\n",
    "# Display numpy array\n",
    "numpy_array1"
   ]
  },
  {
   "cell_type": "markdown",
   "id": "1c0a676d",
   "metadata": {},
   "source": [
    "## Compare Python List and NumPy Array"
   ]
  },
  {
   "cell_type": "code",
   "execution_count": 9,
   "id": "d2d7b07b",
   "metadata": {},
   "outputs": [],
   "source": [
    "# Create two python lists\n",
    "X_list = list(range(100000))\n",
    "Y_list = list(range(100000))\n",
    "\n",
    "import numpy as np\n",
    "\n",
    "# Create two numpy arrays from above lists\n",
    "X = np.array(X_list)\n",
    "Y = np.array(Y_list)\n",
    "\n",
    "# Define a function to calculate element-wise sum of the two python lists\n",
    "def python_sum():\n",
    "    Z=[]\n",
    "    for i in range(len(X_list)):\n",
    "        Z.append(X_list[i] + Y_list[i])\n",
    "        \n",
    "# Define a function to calculate element-wise sum of the two numpy arrays\n",
    "def numpy_sum():\n",
    "    # in numpy can directly perform sum element-wise\n",
    "    Z = X + Y\n",
    "    \n"
   ]
  },
  {
   "cell_type": "code",
   "execution_count": 14,
   "id": "5ca7e12d",
   "metadata": {},
   "outputs": [
    {
     "name": "stdout",
     "output_type": "stream",
     "text": [
      "python_sum version:  17.093265918000043\n",
      "numpy_sum version:  0.09557241300001351\n"
     ]
    }
   ],
   "source": [
    "# import Time class from timeit Library\n",
    "from timeit import Timer\n",
    "\n",
    "timer_obj1 = Timer(\"python_sum()\", \"from __main__ import python_sum\")\n",
    "timer_obj2 = Timer(\"numpy_sum()\", \"from __main__ import numpy_sum\")\n",
    "\n",
    "print(\"python_sum version: \", timer_obj1.timeit(1000))\n",
    "print(\"numpy_sum version: \", timer_obj2.timeit(1000))"
   ]
  },
  {
   "cell_type": "markdown",
   "id": "12d2f11b",
   "metadata": {},
   "source": [
    "## Exercise - Coding Challenge\n",
    "Create a NumPy array fo the first five even numbers."
   ]
  },
  {
   "cell_type": "code",
   "execution_count": 77,
   "id": "8c68cab3",
   "metadata": {},
   "outputs": [
    {
     "name": "stdout",
     "output_type": "stream",
     "text": [
      "[ 2  4  6  8 10]\n",
      "nparray_it:  0.05394522300002791\n",
      "[2, 4, 6, 8, 10]\n",
      "pylist_it: 0.0014379919998646074\n"
     ]
    }
   ],
   "source": [
    "import numpy as np\n",
    "from itertools import count\n",
    "\n",
    "#track = 0\n",
    "#length = 5\n",
    "#print(\"initialize:\",even)\n",
    "\n",
    "def nparray_it():\n",
    "    track = 0\n",
    "    np_even = np.empty((1,0), dtype=int)\n",
    "#    print(np_even)\n",
    "    for i in count(1):\n",
    "#        print(\"i:\",i)\n",
    "#        print(\"track:\", track)\n",
    "        if track == 5:\n",
    "            break\n",
    "        else:\n",
    "            if i%2 == 0:\n",
    "                np_even = np.append(np_even,i)\n",
    "                track+=1\n",
    "    #            print(\"even: \", even)\n",
    "            else:\n",
    "                continue\n",
    "    return np_even\n",
    "\n",
    "def pylist_it():\n",
    "    track = 0\n",
    "    py_even = []\n",
    "    for i in count(1):\n",
    "    #    print(\"i:\",i)\n",
    "    #    print(\"track:\", track)\n",
    "        if track == 5:\n",
    "            break\n",
    "        else:\n",
    "            if i%2 == 0:\n",
    "                py_even.append(i)\n",
    "                track+=1\n",
    "    #            print(\"even: \", even)\n",
    "            else:\n",
    "                continue\n",
    "    return py_even\n",
    "            \n",
    "time_np = Timer(\"nparray_it()\", \"from __main__ import nparray_it\")\n",
    "time_py = Timer(\"pylist_it()\", \"from __main__ import pylist_it\")            \n",
    "\n",
    "print(nparray_it())\n",
    "\n",
    "print(\"nparray_it: \", time_np.timeit(1000))\n",
    "\n",
    "print(pylist_it())\n",
    "print(\"pylist_it:\", time_py.timeit(1000))\n",
    "\n"
   ]
  },
  {
   "cell_type": "markdown",
   "id": "56f12c5a",
   "metadata": {},
   "source": [
    "**With NumPy.**\n",
    "Appending process does not occur in the same array. Rather a new array is created and filled.\n",
    "\n",
    "**With Python.**\n",
    "Things are very different. The list filling process stays within the list itself, and no new lists are generated."
   ]
  },
  {
   "cell_type": "markdown",
   "id": "a2edf983",
   "metadata": {},
   "source": [
    "<a id = '2'></a>\n",
    "# Attributes of an Array and creating basic arrays\n",
    "\n",
    "\n",
    "## Attributes of an Array\n",
    "- Shape = number of dimensions and items\n",
    "- Dimensions = axes\n",
    "\n",
    "## Shape, Size and Data Type of an Array\n",
    "### Create a NumPy Array"
   ]
  },
  {
   "cell_type": "code",
   "execution_count": 78,
   "id": "11e14bde",
   "metadata": {},
   "outputs": [
    {
     "data": {
      "text/plain": [
       "array([[ 5,  6,  7],\n",
       "       [ 8,  9, 10],\n",
       "       [11, 12, 13],\n",
       "       [ 1,  2,  3]])"
      ]
     },
     "execution_count": 78,
     "metadata": {},
     "output_type": "execute_result"
    }
   ],
   "source": [
    "import numpy as np\n",
    "\n",
    "arr = np.array([[5,6,7], [8,9,10], [11,12,13], [1,2,3]])\n",
    "arr"
   ]
  },
  {
   "cell_type": "markdown",
   "id": "ffdabcdf",
   "metadata": {},
   "source": [
    "### Size of an array"
   ]
  },
  {
   "cell_type": "code",
   "execution_count": 79,
   "id": "1eb8758a",
   "metadata": {},
   "outputs": [
    {
     "data": {
      "text/plain": [
       "12"
      ]
     },
     "execution_count": 79,
     "metadata": {},
     "output_type": "execute_result"
    }
   ],
   "source": [
    "# .size returns total number of elements in array\n",
    "arr.size "
   ]
  },
  {
   "cell_type": "markdown",
   "id": "aa777abb",
   "metadata": {},
   "source": [
    "### Data types of arrays"
   ]
  },
  {
   "cell_type": "code",
   "execution_count": 80,
   "id": "d88ea5f5",
   "metadata": {},
   "outputs": [
    {
     "data": {
      "text/plain": [
       "dtype('int64')"
      ]
     },
     "execution_count": 80,
     "metadata": {},
     "output_type": "execute_result"
    }
   ],
   "source": [
    "# .dtype attribute returns the data type of the array\n",
    "arr.dtype"
   ]
  },
  {
   "cell_type": "markdown",
   "id": "5356a67f",
   "metadata": {},
   "source": [
    "### Shape of an array"
   ]
  },
  {
   "cell_type": "code",
   "execution_count": 82,
   "id": "670d6a15",
   "metadata": {},
   "outputs": [
    {
     "data": {
      "text/plain": [
       "(4, 3)"
      ]
     },
     "execution_count": 82,
     "metadata": {},
     "output_type": "execute_result"
    }
   ],
   "source": [
    "# .shape returns a tuple representing the number of items along each axis\n",
    "arr.shape"
   ]
  },
  {
   "cell_type": "markdown",
   "id": "9ae0b22f",
   "metadata": {},
   "source": [
    "### Dimension of an array"
   ]
  },
  {
   "cell_type": "code",
   "execution_count": 83,
   "id": "aa1e5e8c",
   "metadata": {},
   "outputs": [
    {
     "data": {
      "text/plain": [
       "2"
      ]
     },
     "execution_count": 83,
     "metadata": {},
     "output_type": "execute_result"
    }
   ],
   "source": [
    "# .ndim returns the number axes in the array\n",
    "arr.ndim"
   ]
  },
  {
   "cell_type": "markdown",
   "id": "02ead53c",
   "metadata": {},
   "source": [
    "### type( ) function\n",
    "Everything in Python is an object  \n",
    "type( ) is a Python function"
   ]
  },
  {
   "cell_type": "code",
   "execution_count": 85,
   "id": "5e1a9365",
   "metadata": {},
   "outputs": [
    {
     "data": {
      "text/plain": [
       "numpy.ndarray"
      ]
     },
     "execution_count": 85,
     "metadata": {},
     "output_type": "execute_result"
    }
   ],
   "source": [
    "# type() returns the type of object\n",
    "type(arr)"
   ]
  },
  {
   "cell_type": "markdown",
   "id": "6f770190",
   "metadata": {},
   "source": [
    "### Caution: dtype method on Python Lists\n",
    "Python Lists don't support the above attributes or methods supported by NumPy Arrays\n",
    "\n",
    "## Creating Basic NumPy Arrays\n",
    "### array( ): creates a numpy array"
   ]
  },
  {
   "cell_type": "code",
   "execution_count": 89,
   "id": "1c1a6431",
   "metadata": {},
   "outputs": [
    {
     "data": {
      "text/plain": [
       "array([[1, 2, 5, 7],\n",
       "       [5, 2, 7, 6],\n",
       "       [6, 2, 0, 8]])"
      ]
     },
     "execution_count": 89,
     "metadata": {},
     "output_type": "execute_result"
    }
   ],
   "source": [
    "# np.array() creates a numpy array\n",
    "arr = np.array([[1,2,5,7],[5,2,7,6],[6,2,0,8]])\n",
    "arr"
   ]
  },
  {
   "cell_type": "markdown",
   "id": "f774ccfb",
   "metadata": {},
   "source": [
    "### arange( ): create collection of continuous integers"
   ]
  },
  {
   "cell_type": "code",
   "execution_count": 91,
   "id": "bac8247c",
   "metadata": {},
   "outputs": [
    {
     "data": {
      "text/plain": [
       "array([0, 1, 2, 3, 4, 5, 6, 7, 8, 9])"
      ]
     },
     "execution_count": 91,
     "metadata": {},
     "output_type": "execute_result"
    }
   ],
   "source": [
    "# np.arange() will start a 0 to parameter (not including parameter)\n",
    "arr = np.arange(10)\n",
    "arr"
   ]
  },
  {
   "cell_type": "markdown",
   "id": "3f86c0c6",
   "metadata": {},
   "source": [
    "### zeros( ): creates a collection of zero values"
   ]
  },
  {
   "cell_type": "code",
   "execution_count": 101,
   "id": "86bb437b",
   "metadata": {},
   "outputs": [
    {
     "data": {
      "text/plain": [
       "array([[0, 0, 0],\n",
       "       [0, 0, 0]])"
      ]
     },
     "execution_count": 101,
     "metadata": {},
     "output_type": "execute_result"
    }
   ],
   "source": [
    "# np.zeros creates n-dimensional array of 0's\n",
    "# default is 1D\n",
    "# parameters (shape, dtype)\n",
    "arr = np.zeros((2,3),int)\n",
    "arr"
   ]
  },
  {
   "cell_type": "markdown",
   "id": "8c943bbe",
   "metadata": {},
   "source": [
    "### ones( ): creates a collection of one values"
   ]
  },
  {
   "cell_type": "code",
   "execution_count": 104,
   "id": "b1ed8364",
   "metadata": {},
   "outputs": [
    {
     "data": {
      "text/plain": [
       "array([[1, 1, 1],\n",
       "       [1, 1, 1]])"
      ]
     },
     "execution_count": 104,
     "metadata": {},
     "output_type": "execute_result"
    }
   ],
   "source": [
    "# np.ones creates an n-dimensional array of 1's\n",
    "# default is 1D\n",
    "# paraments (shape, dtype)\n",
    "arr = np.ones((2,3),int)\n",
    "arr"
   ]
  },
  {
   "cell_type": "markdown",
   "id": "8b35ce51",
   "metadata": {},
   "source": [
    "### linspace( ): generates values that are equally spaced from each other"
   ]
  },
  {
   "cell_type": "code",
   "execution_count": 107,
   "id": "0d087deb",
   "metadata": {},
   "outputs": [
    {
     "data": {
      "text/plain": [
       "array([ 5.  ,  6.25,  7.5 ,  8.75, 10.  ])"
      ]
     },
     "execution_count": 107,
     "metadata": {},
     "output_type": "execute_result"
    }
   ],
   "source": [
    "# np.linspace\n",
    "# parameters (start, stop, number of samples to generate, dtype)\n",
    "arr = np.linspace(start=5, stop=10, num=5)\n",
    "arr"
   ]
  },
  {
   "cell_type": "code",
   "execution_count": 115,
   "id": "d906e302",
   "metadata": {},
   "outputs": [
    {
     "data": {
      "text/plain": [
       "array([  1,   3,   5,   7,   9,  11,  13,  15,  17,  19,  21,  23,  25,\n",
       "        27,  29,  31,  33,  35,  37,  39,  41,  43,  45,  47,  49,  51,\n",
       "        53,  55,  57,  59,  61,  63,  65,  67,  69,  71,  73,  75,  77,\n",
       "        79,  81,  83,  85,  87,  89,  91,  93,  95,  97, 100])"
      ]
     },
     "execution_count": 115,
     "metadata": {},
     "output_type": "execute_result"
    }
   ],
   "source": [
    "arr= np.linspace(1, 100, dtype=int)\n",
    "arr"
   ]
  },
  {
   "cell_type": "markdown",
   "id": "7fe8c38b",
   "metadata": {},
   "source": [
    "## Coding Challenge\n",
    "Write a Python program to create a NumPy array based on the following list:\n",
    "\n",
    "list = [2, 5, 8, 6, 4, 12, 16, 15]\n",
    "\n",
    "1. What is the number of dimension of the created NumPy array?"
   ]
  },
  {
   "cell_type": "code",
   "execution_count": 118,
   "id": "67cdebf6",
   "metadata": {},
   "outputs": [
    {
     "name": "stdout",
     "output_type": "stream",
     "text": [
      "[ 2  5  8  6  4 12 16 15]\n",
      "# of dims: 1\n"
     ]
    }
   ],
   "source": [
    "import numpy as np\n",
    "\n",
    "list = [2,5,8,6,4,12,16,15]\n",
    "arr = np.array(list)\n",
    "print(arr)\n",
    "print(\"# of dims:\", np.ndim(arr))"
   ]
  },
  {
   "cell_type": "markdown",
   "id": "5d7e8e77",
   "metadata": {},
   "source": [
    "2. What statement will help you get a collection of 10 zeros in NumPy?"
   ]
  },
  {
   "cell_type": "code",
   "execution_count": 119,
   "id": "88e7d6c7",
   "metadata": {},
   "outputs": [
    {
     "name": "stdout",
     "output_type": "stream",
     "text": [
      "[0 0 0 0 0 0 0 0 0 0]\n",
      "[0. 0. 0. 0. 0. 0. 0. 0. 0. 0.]\n"
     ]
    }
   ],
   "source": [
    "arr_10 = np.array([0,0,0,0,0,0,0,0,0,0])\n",
    "arr_zeros = np.zeros(10)\n",
    "print(arr_10)\n",
    "print(arr_zeros)"
   ]
  },
  {
   "cell_type": "markdown",
   "id": "3b471791",
   "metadata": {},
   "source": [
    "3. Write a Python program to create an array of elements as per the below condition.\n",
    "- The array must start with 17\n",
    "- The array must end at 31\n",
    "- The values in the array must be equally spaced or linearly spaced\n",
    "- The array should have 50 samples/values in it."
   ]
  },
  {
   "cell_type": "code",
   "execution_count": 121,
   "id": "0ae15a09",
   "metadata": {},
   "outputs": [
    {
     "data": {
      "text/plain": [
       "array([17.        , 17.28571429, 17.57142857, 17.85714286, 18.14285714,\n",
       "       18.42857143, 18.71428571, 19.        , 19.28571429, 19.57142857,\n",
       "       19.85714286, 20.14285714, 20.42857143, 20.71428571, 21.        ,\n",
       "       21.28571429, 21.57142857, 21.85714286, 22.14285714, 22.42857143,\n",
       "       22.71428571, 23.        , 23.28571429, 23.57142857, 23.85714286,\n",
       "       24.14285714, 24.42857143, 24.71428571, 25.        , 25.28571429,\n",
       "       25.57142857, 25.85714286, 26.14285714, 26.42857143, 26.71428571,\n",
       "       27.        , 27.28571429, 27.57142857, 27.85714286, 28.14285714,\n",
       "       28.42857143, 28.71428571, 29.        , 29.28571429, 29.57142857,\n",
       "       29.85714286, 30.14285714, 30.42857143, 30.71428571, 31.        ])"
      ]
     },
     "execution_count": 121,
     "metadata": {},
     "output_type": "execute_result"
    }
   ],
   "source": [
    "arr = np.linspace(17,31)\n",
    "arr"
   ]
  },
  {
   "cell_type": "markdown",
   "id": "809b3f6e",
   "metadata": {},
   "source": [
    "<a id='3'></a>\n",
    "# Basic methods on array and reshaping\n",
    "## Add, Remove and Sort"
   ]
  },
  {
   "cell_type": "code",
   "execution_count": 126,
   "id": "237a2b90",
   "metadata": {},
   "outputs": [
    {
     "data": {
      "text/plain": [
       "array([2, 5, 7, 3, 4, 6])"
      ]
     },
     "execution_count": 126,
     "metadata": {},
     "output_type": "execute_result"
    }
   ],
   "source": [
    "arr = np.array([2,5,7,3,4,6])\n",
    "arr"
   ]
  },
  {
   "cell_type": "markdown",
   "id": "0fda75f2",
   "metadata": {},
   "source": [
    "### Adding an element to array or list: np.append( )\n",
    "Numpy array will always be returned"
   ]
  },
  {
   "cell_type": "code",
   "execution_count": 128,
   "id": "818af448",
   "metadata": {},
   "outputs": [
    {
     "data": {
      "text/plain": [
       "array([ 2,  5,  7,  3,  4,  6, 15])"
      ]
     },
     "execution_count": 128,
     "metadata": {},
     "output_type": "execute_result"
    }
   ],
   "source": [
    "# np.append adds value to end of array: np.append(array, value)\n",
    "np.append(arr,15)"
   ]
  },
  {
   "cell_type": "markdown",
   "id": "ca363b03",
   "metadata": {},
   "source": [
    "np.append(list, value) = numpy.ndarray"
   ]
  },
  {
   "cell_type": "code",
   "execution_count": 130,
   "id": "20722586",
   "metadata": {},
   "outputs": [
    {
     "data": {
      "text/plain": [
       "array([ 2,  5,  4,  6,  7, 10])"
      ]
     },
     "execution_count": 130,
     "metadata": {},
     "output_type": "execute_result"
    }
   ],
   "source": [
    "# np.append a python list to get a new numpy array\n",
    "l = [2,5,4,6,7]\n",
    "arr = np.append(l,10)\n",
    "arr"
   ]
  },
  {
   "cell_type": "code",
   "execution_count": 131,
   "id": "797774d3",
   "metadata": {},
   "outputs": [
    {
     "data": {
      "text/plain": [
       "numpy.ndarray"
      ]
     },
     "execution_count": 131,
     "metadata": {},
     "output_type": "execute_result"
    }
   ],
   "source": [
    "type(arr)"
   ]
  },
  {
   "cell_type": "code",
   "execution_count": 132,
   "id": "2bafee28",
   "metadata": {},
   "outputs": [
    {
     "data": {
      "text/plain": [
       "array([ 2,  5,  4,  6,  7, 10, 11, 22])"
      ]
     },
     "execution_count": 132,
     "metadata": {},
     "output_type": "execute_result"
    }
   ],
   "source": [
    "# add a list of elements\n",
    "np.append(arr, [11,22])"
   ]
  },
  {
   "cell_type": "markdown",
   "id": "4950f327",
   "metadata": {},
   "source": [
    "### CAUTION: arrary.append( ) does not work\n",
    "AttributeError: 'numpy.ndarray' object has no attribute 'append'\n",
    "\n",
    "### list.append( ) DOES work"
   ]
  },
  {
   "cell_type": "code",
   "execution_count": 134,
   "id": "a3640a18",
   "metadata": {},
   "outputs": [
    {
     "name": "stdout",
     "output_type": "stream",
     "text": [
      "[5, 10, 15, 20]\n"
     ]
    }
   ],
   "source": [
    "l = [5,10,15]\n",
    "l.append(20)\n",
    "print(l)"
   ]
  },
  {
   "cell_type": "markdown",
   "id": "2840b584",
   "metadata": {},
   "source": [
    "### Removing an element\n",
    "NumPy delete method removes an element: np.delete( )"
   ]
  },
  {
   "cell_type": "code",
   "execution_count": 137,
   "id": "652c32c9",
   "metadata": {},
   "outputs": [
    {
     "name": "stdout",
     "output_type": "stream",
     "text": [
      "[2 5 7 3 4 6]\n",
      "[2 7 3 4 6]\n"
     ]
    }
   ],
   "source": [
    "arr = np.array([2,5,7,3,4,6])\n",
    "print(arr)\n",
    "# np.delete(array, index)\n",
    "print(np.delete(arr, 1))"
   ]
  },
  {
   "cell_type": "markdown",
   "id": "87e5b2cb",
   "metadata": {},
   "source": [
    "np.delete( ) will also remove elemnt from Python list and return numpy.ndarray"
   ]
  },
  {
   "cell_type": "code",
   "execution_count": 142,
   "id": "b326587b",
   "metadata": {},
   "outputs": [
    {
     "name": "stdout",
     "output_type": "stream",
     "text": [
      "[2, 6, 4, 5, 3]\n",
      "<class 'list'>\n",
      "[2 4 5 3]\n",
      "<class 'numpy.ndarray'>\n"
     ]
    }
   ],
   "source": [
    "l = [2,6,4,5,3]\n",
    "print(l)\n",
    "print(type(l))\n",
    "deleted = np.delete(l,1)\n",
    "print(deleted)\n",
    "print(type(deleted))"
   ]
  },
  {
   "cell_type": "markdown",
   "id": "a3597117",
   "metadata": {},
   "source": [
    "### Sorting an Array\n",
    "np.sort will sort an array or list - default ascending  \n",
    "return numpy.ndarray"
   ]
  },
  {
   "cell_type": "code",
   "execution_count": 166,
   "id": "180e37ae",
   "metadata": {},
   "outputs": [
    {
     "data": {
      "text/plain": [
       "array([2, 5, 6, 3, 4, 6])"
      ]
     },
     "execution_count": 166,
     "metadata": {},
     "output_type": "execute_result"
    }
   ],
   "source": [
    "arr = np.array([2,5,6,3,4,6])\n",
    "arr"
   ]
  },
  {
   "cell_type": "code",
   "execution_count": 180,
   "id": "94266cab",
   "metadata": {},
   "outputs": [
    {
     "name": "stdout",
     "output_type": "stream",
     "text": [
      "np.sort(arr):  [2 3 4 5 6 6]\n"
     ]
    }
   ],
   "source": [
    "# np.sort method\n",
    "sort_method = np.sort(arr)\n",
    "print(\"np.sort(arr): \", sort_method)"
   ]
  },
  {
   "cell_type": "code",
   "execution_count": 182,
   "id": "98955247",
   "metadata": {},
   "outputs": [
    {
     "name": "stdout",
     "output_type": "stream",
     "text": [
      "arr.sort():  [2 3 4 5 6 6]\n"
     ]
    }
   ],
   "source": [
    "# array.sort() attribute\n",
    "arr.sort()\n",
    "print(\"arr.sort(): \", arr)"
   ]
  },
  {
   "cell_type": "code",
   "execution_count": 175,
   "id": "547c1112",
   "metadata": {},
   "outputs": [
    {
     "name": "stdout",
     "output_type": "stream",
     "text": [
      "l:  [9, 7, 5, 3, 1, 2, 4, 6, 8, 0]\n",
      "l is a  <class 'list'>\n"
     ]
    }
   ],
   "source": [
    "# LIST\n",
    "l = [9,7,5,3,1,2,4,6,8,0]\n",
    "print(\"l: \", l)\n",
    "print(\"l is a \", type(l))"
   ]
  },
  {
   "cell_type": "code",
   "execution_count": 177,
   "id": "f299c21b",
   "metadata": {},
   "outputs": [
    {
     "name": "stdout",
     "output_type": "stream",
     "text": [
      "list_sort_method:  [0 1 2 3 4 5 6 7 8 9]\n",
      "list_sort_method is a  <class 'numpy.ndarray'>\n"
     ]
    }
   ],
   "source": [
    "# np.sort() method\n",
    "list_sort_method = np.sort(l)\n",
    "print(\"list_sort_method: \", list_sort_method)\n",
    "print(\"list_sort_method is a \", type(list_sort_method))"
   ]
  },
  {
   "cell_type": "code",
   "execution_count": 185,
   "id": "aa4ac2e9",
   "metadata": {},
   "outputs": [
    {
     "name": "stdout",
     "output_type": "stream",
     "text": [
      "l.sort(): [0, 1, 2, 3, 4, 5, 6, 7, 8, 9]\n",
      "l.sort() type:  <class 'list'>\n"
     ]
    }
   ],
   "source": [
    "# l.sort() attribute\n",
    "l.sort()\n",
    "print(\"l.sort():\", l)\n",
    "print(\"l.sort() type: \",type(l))"
   ]
  },
  {
   "cell_type": "markdown",
   "id": "0ed93d18",
   "metadata": {},
   "source": [
    "## Reshaping an Array\n",
    "- np.reshape changes the shape of the array\n",
    "- only shape will change, not the data\n",
    "- **Caution**: when reshaping, the array you want to produce after reshaping needs to have the same number of elements as the original array  \n",
    "  e.g. original array = 24 elements then new array = 24 elements i.e. product of dimensions must = 24"
   ]
  },
  {
   "cell_type": "code",
   "execution_count": 149,
   "id": "6134cc4d",
   "metadata": {},
   "outputs": [
    {
     "data": {
      "text/plain": [
       "array([ 0,  1,  2,  3,  4,  5,  6,  7,  8,  9, 10, 11, 12, 13, 14, 15, 16,\n",
       "       17, 18, 19, 20, 21, 22, 23])"
      ]
     },
     "execution_count": 149,
     "metadata": {},
     "output_type": "execute_result"
    }
   ],
   "source": [
    "# creating array with 24 elements\n",
    "arr = np.arange(24)\n",
    "arr"
   ]
  },
  {
   "cell_type": "code",
   "execution_count": 151,
   "id": "61fb4c24",
   "metadata": {},
   "outputs": [
    {
     "data": {
      "text/plain": [
       "array([[ 0,  1,  2,  3],\n",
       "       [ 4,  5,  6,  7],\n",
       "       [ 8,  9, 10, 11],\n",
       "       [12, 13, 14, 15],\n",
       "       [16, 17, 18, 19],\n",
       "       [20, 21, 22, 23]])"
      ]
     },
     "execution_count": 151,
     "metadata": {},
     "output_type": "execute_result"
    }
   ],
   "source": [
    "# np.reshape(array, dimensions)\n",
    "arr64 = np.reshape(arr, (6,4))\n",
    "arr64"
   ]
  },
  {
   "cell_type": "code",
   "execution_count": 154,
   "id": "70f829a6",
   "metadata": {},
   "outputs": [
    {
     "data": {
      "text/plain": [
       "array([[ 0,  1,  2,  3,  4,  5,  6,  7],\n",
       "       [ 8,  9, 10, 11, 12, 13, 14, 15],\n",
       "       [16, 17, 18, 19, 20, 21, 22, 23]])"
      ]
     },
     "execution_count": 154,
     "metadata": {},
     "output_type": "execute_result"
    }
   ],
   "source": [
    "arr38 = np.reshape(arr, (3,8))\n",
    "arr38"
   ]
  },
  {
   "cell_type": "markdown",
   "id": "500263c3",
   "metadata": {},
   "source": [
    "### Reshaping a Python List\n",
    "np.reshape works on Python List but returns numpy.ndarray"
   ]
  },
  {
   "cell_type": "code",
   "execution_count": 159,
   "id": "db2e8c92",
   "metadata": {},
   "outputs": [
    {
     "name": "stdout",
     "output_type": "stream",
     "text": [
      "l type:  <class 'list'>\n",
      "reshaped l:  [[0 1 2 3 4]\n",
      " [5 6 7 8 9]]\n",
      "re_l type:  <class 'numpy.ndarray'>\n"
     ]
    }
   ],
   "source": [
    "l = [0,1,2,3,4,5,6,7,8,9]\n",
    "print(\"l type: \", type(l))\n",
    "re_l = np.reshape(l, (2,5))\n",
    "print(\"reshaped l: \", re_l)\n",
    "print(\"re_l type: \", type(re_l))"
   ]
  },
  {
   "cell_type": "markdown",
   "id": "43699400",
   "metadata": {},
   "source": [
    "### Using reshape( ) directly on Array\n",
    "- array.reshape(dimensions)"
   ]
  },
  {
   "cell_type": "code",
   "execution_count": 160,
   "id": "0b88331a",
   "metadata": {},
   "outputs": [
    {
     "data": {
      "text/plain": [
       "array([ 0,  1,  2,  3,  4,  5,  6,  7,  8,  9, 10, 11, 12, 13, 14, 15, 16,\n",
       "       17, 18, 19])"
      ]
     },
     "execution_count": 160,
     "metadata": {},
     "output_type": "execute_result"
    }
   ],
   "source": [
    "arr = np.arange(20)\n",
    "arr"
   ]
  },
  {
   "cell_type": "code",
   "execution_count": 162,
   "id": "4a1bfb6a",
   "metadata": {},
   "outputs": [
    {
     "data": {
      "text/plain": [
       "array([[ 0,  1,  2,  3,  4],\n",
       "       [ 5,  6,  7,  8,  9],\n",
       "       [10, 11, 12, 13, 14],\n",
       "       [15, 16, 17, 18, 19]])"
      ]
     },
     "execution_count": 162,
     "metadata": {},
     "output_type": "execute_result"
    }
   ],
   "source": [
    "re_arr = arr.reshape(4,5)\n",
    "re_arr"
   ]
  },
  {
   "cell_type": "markdown",
   "id": "97449512",
   "metadata": {},
   "source": [
    "**CAUTION** list.reshape( ) throws AttributeError\n",
    "- 'list' object has no 'reshape' atttribute"
   ]
  },
  {
   "cell_type": "markdown",
   "id": "920b54ae",
   "metadata": {},
   "source": [
    "## Coding Challenge\n",
    "1. Create a NumPy array (there must be first 16 numbers starting from 0 to 16 (exclusive)) using a function arange(). Select the correct array"
   ]
  },
  {
   "cell_type": "code",
   "execution_count": 195,
   "id": "f9cce638",
   "metadata": {},
   "outputs": [
    {
     "data": {
      "text/plain": [
       "array([[ 0,  1,  2,  3],\n",
       "       [ 4,  5,  6,  7],\n",
       "       [ 8,  9, 10, 11],\n",
       "       [12, 13, 14, 15]])"
      ]
     },
     "execution_count": 195,
     "metadata": {},
     "output_type": "execute_result"
    }
   ],
   "source": [
    "arr = np.arange(16)\n",
    "arr.reshape(4,4)"
   ]
  },
  {
   "cell_type": "markdown",
   "id": "96a4d892",
   "metadata": {},
   "source": [
    "2. Consider the given Python list and follow the steps below:\n",
    "\n",
    "L = [10, 2, 7, 8, 3, 22, 54, 12, 13, 46, 23, 25, 41]\n",
    "\n",
    "- Convert this Python list to NumPy array\n",
    "- Sort the array\n",
    "- Delete the 5th element from the array (Note: Python indexing starts from 0, so if we say the first element, Python will  take it as 0th element)\n",
    "\n",
    "Select the correct array after deletion."
   ]
  },
  {
   "cell_type": "code",
   "execution_count": 196,
   "id": "35fcf0cc",
   "metadata": {},
   "outputs": [
    {
     "data": {
      "text/plain": [
       "array([10,  2,  7,  8,  3, 22, 54, 12, 13, 46, 23, 25, 41])"
      ]
     },
     "execution_count": 196,
     "metadata": {},
     "output_type": "execute_result"
    }
   ],
   "source": [
    "import numpy as np\n",
    "L = [10, 2, 7, 8, 3, 22, 54, 12, 13, 46, 23, 25, 41]\n",
    "\n",
    "# convert list to np array\n",
    "arr = np.array(L)"
   ]
  },
  {
   "cell_type": "code",
   "execution_count": 197,
   "id": "7595253d",
   "metadata": {},
   "outputs": [
    {
     "data": {
      "text/plain": [
       "array([ 2,  3,  7,  8, 10, 12, 13, 22, 23, 25, 41, 46, 54])"
      ]
     },
     "execution_count": 197,
     "metadata": {},
     "output_type": "execute_result"
    }
   ],
   "source": [
    "# sort array\n",
    "arr.sort()\n",
    "arr"
   ]
  },
  {
   "cell_type": "code",
   "execution_count": 198,
   "id": "ad9ab5b1",
   "metadata": {},
   "outputs": [
    {
     "data": {
      "text/plain": [
       "array([ 2,  3,  7,  8, 12, 13, 22, 23, 25, 41, 46, 54])"
      ]
     },
     "execution_count": 198,
     "metadata": {},
     "output_type": "execute_result"
    }
   ],
   "source": [
    "# delete 5th element\n",
    "deleted = np.delete(arr, 4)\n",
    "deleted"
   ]
  },
  {
   "cell_type": "markdown",
   "id": "0cf43e8c",
   "metadata": {},
   "source": [
    "3. Consider the Python list (L) from question 2 (the one defined in the question) and follow the steps below:\n",
    "\n",
    "- Add 53 at the end of the list\n",
    "- Reshape it into a shape of (2, 7)"
   ]
  },
  {
   "cell_type": "code",
   "execution_count": 214,
   "id": "ac7e662e",
   "metadata": {},
   "outputs": [
    {
     "name": "stdout",
     "output_type": "stream",
     "text": [
      "[10, 2, 7, 8, 3, 22, 54, 12, 13, 46, 23, 25, 41]\n",
      "13\n"
     ]
    }
   ],
   "source": [
    "L = [10, 2, 7, 8, 3, 22, 54, 12, 13, 46, 23, 25, 41]\n",
    "\n",
    "print(L)\n",
    "print(len(L))"
   ]
  },
  {
   "cell_type": "code",
   "execution_count": 215,
   "id": "b6a5eb06",
   "metadata": {},
   "outputs": [
    {
     "name": "stdout",
     "output_type": "stream",
     "text": [
      "[10, 2, 7, 8, 3, 22, 54, 12, 13, 46, 23, 25, 41, 53]\n",
      "14\n"
     ]
    }
   ],
   "source": [
    "L.append(53)\n",
    "print(L)\n",
    "print(len(L))"
   ]
  },
  {
   "cell_type": "code",
   "execution_count": 217,
   "id": "61c19b93",
   "metadata": {},
   "outputs": [
    {
     "name": "stdout",
     "output_type": "stream",
     "text": [
      "[[10  2  7  8  3 22 54]\n",
      " [12 13 46 23 25 41 53]]\n"
     ]
    }
   ],
   "source": [
    "re_L = np.reshape(L, (2,7))\n",
    "print(re_L)"
   ]
  },
  {
   "cell_type": "markdown",
   "id": "dfdff30f",
   "metadata": {},
   "source": [
    "<a id ='4'></a>\n",
    "# Indexing and Slicing\n",
    "## Positive Indexing\n",
    "Python begins indexing at 0  \n",
    "- If you want to get the nth element from an array, you should extract element that is present at index (n-1).\n",
    "\n",
    "### Positive Single Indexing in an Array\n",
    "array[index]"
   ]
  },
  {
   "cell_type": "code",
   "execution_count": 218,
   "id": "65611eac",
   "metadata": {},
   "outputs": [
    {
     "data": {
      "text/plain": [
       "40"
      ]
     },
     "execution_count": 218,
     "metadata": {},
     "output_type": "execute_result"
    }
   ],
   "source": [
    "arr = [10,20,30,40]\n",
    "arr[3]"
   ]
  },
  {
   "cell_type": "markdown",
   "id": "3c6a378e",
   "metadata": {},
   "source": [
    "### Positive Single Indexing in Python Nested List"
   ]
  },
  {
   "cell_type": "code",
   "execution_count": 223,
   "id": "774ae680",
   "metadata": {},
   "outputs": [
    {
     "data": {
      "text/plain": [
       "4"
      ]
     },
     "execution_count": 223,
     "metadata": {},
     "output_type": "execute_result"
    }
   ],
   "source": [
    "# Create python list\n",
    "python_list = [[2,4,6],[8,10,12]]\n",
    "\n",
    "# Get 4\n",
    "# list[first index][second index]\n",
    "# python_list[0] = [2,4,6] then index[1] of that gets you 4\n",
    "python_list[0][1]"
   ]
  },
  {
   "cell_type": "markdown",
   "id": "abfd4b59",
   "metadata": {},
   "source": [
    "### Positive Single Indexing in a NumPy Array"
   ]
  },
  {
   "cell_type": "code",
   "execution_count": 225,
   "id": "d034ce75",
   "metadata": {},
   "outputs": [
    {
     "data": {
      "text/plain": [
       "array([[ 2,  4,  6],\n",
       "       [ 8, 10, 12]])"
      ]
     },
     "execution_count": 225,
     "metadata": {},
     "output_type": "execute_result"
    }
   ],
   "source": [
    "# Create 2D Numpy Array\n",
    "arr_2d = np.array(python_list)\n",
    "arr_2d"
   ]
  },
  {
   "cell_type": "code",
   "execution_count": 226,
   "id": "858e1379",
   "metadata": {},
   "outputs": [
    {
     "data": {
      "text/plain": [
       "array([2, 4, 6])"
      ]
     },
     "execution_count": 226,
     "metadata": {},
     "output_type": "execute_result"
    }
   ],
   "source": [
    "arr_2d[0]"
   ]
  },
  {
   "cell_type": "code",
   "execution_count": 227,
   "id": "a28dd622",
   "metadata": {},
   "outputs": [
    {
     "data": {
      "text/plain": [
       "4"
      ]
     },
     "execution_count": 227,
     "metadata": {},
     "output_type": "execute_result"
    }
   ],
   "source": [
    "arr_2d[0,1]"
   ]
  },
  {
   "cell_type": "code",
   "execution_count": 229,
   "id": "0ca8c5c2",
   "metadata": {},
   "outputs": [
    {
     "data": {
      "text/plain": [
       "4"
      ]
     },
     "execution_count": 229,
     "metadata": {},
     "output_type": "execute_result"
    }
   ],
   "source": [
    "arr_2d[0][1]"
   ]
  },
  {
   "cell_type": "markdown",
   "id": "84f50fd0",
   "metadata": {},
   "source": [
    "### Positive Index Intervals in a NumPy Array\n",
    "Use semicolon (:) while indexing to get slices of elements from NumPy array  \n",
    "  \n",
    "array[start:stop]\n",
    "- start inclusive\n",
    "- stop exclusive"
   ]
  },
  {
   "cell_type": "code",
   "execution_count": 230,
   "id": "6d05a769",
   "metadata": {},
   "outputs": [
    {
     "data": {
      "text/plain": [
       "array([[ 2,  4,  6],\n",
       "       [ 8, 10, 12]])"
      ]
     },
     "execution_count": 230,
     "metadata": {},
     "output_type": "execute_result"
    }
   ],
   "source": [
    "arr_2d"
   ]
  },
  {
   "cell_type": "code",
   "execution_count": 231,
   "id": "cae0a0dd",
   "metadata": {},
   "outputs": [
    {
     "data": {
      "text/plain": [
       "array([2, 4])"
      ]
     },
     "execution_count": 231,
     "metadata": {},
     "output_type": "execute_result"
    }
   ],
   "source": [
    "arr_2d[0,0:2]"
   ]
  },
  {
   "cell_type": "code",
   "execution_count": 236,
   "id": "4d0d8855",
   "metadata": {},
   "outputs": [],
   "source": [
    "num_arr = np.arange(16)\n",
    "num_arr = num_arr.reshape(4,4)"
   ]
  },
  {
   "cell_type": "code",
   "execution_count": 237,
   "id": "3c40290e",
   "metadata": {},
   "outputs": [
    {
     "data": {
      "text/plain": [
       "array([[ 6,  7],\n",
       "       [10, 11]])"
      ]
     },
     "execution_count": 237,
     "metadata": {},
     "output_type": "execute_result"
    }
   ],
   "source": [
    "num_arr[1:3, 2:4]"
   ]
  },
  {
   "cell_type": "markdown",
   "id": "95647bf1",
   "metadata": {},
   "source": [
    "## Negative Indexing\n",
    "\n",
    "### Using Negative Single Index\n",
    "Last element in array has negative index = -1"
   ]
  },
  {
   "cell_type": "code",
   "execution_count": 238,
   "id": "3e0bd5f7",
   "metadata": {},
   "outputs": [
    {
     "data": {
      "text/plain": [
       "30"
      ]
     },
     "execution_count": 238,
     "metadata": {},
     "output_type": "execute_result"
    }
   ],
   "source": [
    "arr = np.array([10,20,30,40])\n",
    "arr[-2]"
   ]
  },
  {
   "cell_type": "code",
   "execution_count": 240,
   "id": "be11c677",
   "metadata": {},
   "outputs": [
    {
     "data": {
      "text/plain": [
       "array([[10, 20],\n",
       "       [30, 40]])"
      ]
     },
     "execution_count": 240,
     "metadata": {},
     "output_type": "execute_result"
    }
   ],
   "source": [
    "arr = arr.reshape(2,2)\n",
    "arr"
   ]
  },
  {
   "cell_type": "code",
   "execution_count": 241,
   "id": "36029b49",
   "metadata": {},
   "outputs": [
    {
     "data": {
      "text/plain": [
       "40"
      ]
     },
     "execution_count": 241,
     "metadata": {},
     "output_type": "execute_result"
    }
   ],
   "source": [
    "arr[-1,-1]"
   ]
  },
  {
   "cell_type": "markdown",
   "id": "7bd9c06e",
   "metadata": {},
   "source": [
    "### Negative Index Intervals"
   ]
  },
  {
   "cell_type": "code",
   "execution_count": 243,
   "id": "42fc4397",
   "metadata": {},
   "outputs": [
    {
     "data": {
      "text/plain": [
       "array([[ 0,  1,  2,  3],\n",
       "       [ 4,  5,  6,  7],\n",
       "       [ 8,  9, 10, 11],\n",
       "       [12, 13, 14, 15]])"
      ]
     },
     "execution_count": 243,
     "metadata": {},
     "output_type": "execute_result"
    }
   ],
   "source": [
    "num_arr = np.arange(16)\n",
    "num_arr = num_arr.reshape(4,4)\n",
    "num_arr"
   ]
  },
  {
   "cell_type": "code",
   "execution_count": 244,
   "id": "965cfacc",
   "metadata": {},
   "outputs": [
    {
     "data": {
      "text/plain": [
       "array([[ 6,  7],\n",
       "       [10, 11]])"
      ]
     },
     "execution_count": 244,
     "metadata": {},
     "output_type": "execute_result"
    }
   ],
   "source": [
    "# positive indexing\n",
    "num_arr[1:3, 2:4]"
   ]
  },
  {
   "cell_type": "code",
   "execution_count": 251,
   "id": "69d027e6",
   "metadata": {},
   "outputs": [
    {
     "data": {
      "text/plain": [
       "array([[2],\n",
       "       [6]])"
      ]
     },
     "execution_count": 251,
     "metadata": {},
     "output_type": "execute_result"
    }
   ],
   "source": [
    "# negative indexing\n",
    "num_arr[-4:-2, -2:-1]"
   ]
  },
  {
   "cell_type": "code",
   "execution_count": 256,
   "id": "426b4eb6",
   "metadata": {},
   "outputs": [
    {
     "data": {
      "text/plain": [
       "array([[ 6,  7],\n",
       "       [10, 11]])"
      ]
     },
     "execution_count": 256,
     "metadata": {},
     "output_type": "execute_result"
    }
   ],
   "source": [
    "num_arr[-3:-1, -2:]"
   ]
  },
  {
   "cell_type": "markdown",
   "id": "4016c6af",
   "metadata": {},
   "source": [
    "## Striding\n",
    "### Striding in Python\n",
    "The steps to be taken while moving in a direction  \n",
    "\n",
    "When slicing [start_index **:** stop_index **:** stride/step]  \n",
    "**Default** stride = 1"
   ]
  },
  {
   "cell_type": "code",
   "execution_count": 257,
   "id": "419ee3c8",
   "metadata": {},
   "outputs": [
    {
     "data": {
      "text/plain": [
       "array([[ 0,  1,  2,  3],\n",
       "       [ 4,  5,  6,  7],\n",
       "       [ 8,  9, 10, 11],\n",
       "       [12, 13, 14, 15]])"
      ]
     },
     "execution_count": 257,
     "metadata": {},
     "output_type": "execute_result"
    }
   ],
   "source": [
    "num_arr"
   ]
  },
  {
   "cell_type": "code",
   "execution_count": 259,
   "id": "8d1e8cbc",
   "metadata": {},
   "outputs": [
    {
     "data": {
      "text/plain": [
       "array([[ 0,  1,  2,  3],\n",
       "       [ 8,  9, 10, 11]])"
      ]
     },
     "execution_count": 259,
     "metadata": {},
     "output_type": "execute_result"
    }
   ],
   "source": [
    "# Select first and third row\n",
    "num_arr[::2]"
   ]
  },
  {
   "cell_type": "markdown",
   "id": "a6ee00cc",
   "metadata": {},
   "source": [
    "## Coding Challenge\n",
    "1. Write a Python program to do the following task.  \n",
    "- Use the NumPy library to create an array (say arr) of the first 25 (exclusive) integers starting from 0.\n",
    "- Reshape the array into shape (5, 5).\n",
    "\n",
    "Select the elements present in first two rows (i.e. row 0 and row 1) and last two columns (i.e. column 3 and column 4)"
   ]
  },
  {
   "cell_type": "code",
   "execution_count": 260,
   "id": "be271ef3",
   "metadata": {},
   "outputs": [
    {
     "data": {
      "text/plain": [
       "array([[ 0,  1,  2,  3,  4],\n",
       "       [ 5,  6,  7,  8,  9],\n",
       "       [10, 11, 12, 13, 14],\n",
       "       [15, 16, 17, 18, 19],\n",
       "       [20, 21, 22, 23, 24]])"
      ]
     },
     "execution_count": 260,
     "metadata": {},
     "output_type": "execute_result"
    }
   ],
   "source": [
    "arr = np.arange(25)\n",
    "re_arr = arr.reshape(5,5)\n",
    "re_arr"
   ]
  },
  {
   "cell_type": "code",
   "execution_count": 261,
   "id": "313a1bf7",
   "metadata": {},
   "outputs": [
    {
     "data": {
      "text/plain": [
       "array([[3, 4],\n",
       "       [8, 9]])"
      ]
     },
     "execution_count": 261,
     "metadata": {},
     "output_type": "execute_result"
    }
   ],
   "source": [
    "# Select first two rows and last two columns\n",
    "re_arr[0:2,-2:]"
   ]
  },
  {
   "cell_type": "markdown",
   "id": "a8103045",
   "metadata": {},
   "source": [
    "2. From the array created in question 1 (i.e. 5 x 5 array), select all the elements at evenly positioned columns and oddly positioned rows. Use stride concept here."
   ]
  },
  {
   "cell_type": "code",
   "execution_count": 269,
   "id": "4c7fc6bb",
   "metadata": {},
   "outputs": [
    {
     "data": {
      "text/plain": [
       "array([[ 5,  7,  9],\n",
       "       [15, 17, 19]])"
      ]
     },
     "execution_count": 269,
     "metadata": {},
     "output_type": "execute_result"
    }
   ],
   "source": [
    "re_arr[1::2, ::2]"
   ]
  },
  {
   "cell_type": "code",
   "execution_count": null,
   "id": "d444b154",
   "metadata": {},
   "outputs": [],
   "source": []
  }
 ],
 "metadata": {
  "kernelspec": {
   "display_name": "Python 3",
   "language": "python",
   "name": "python3"
  },
  "language_info": {
   "codemirror_mode": {
    "name": "ipython",
    "version": 3
   },
   "file_extension": ".py",
   "mimetype": "text/x-python",
   "name": "python",
   "nbconvert_exporter": "python",
   "pygments_lexer": "ipython3",
   "version": "3.8.8"
  }
 },
 "nbformat": 4,
 "nbformat_minor": 5
}
