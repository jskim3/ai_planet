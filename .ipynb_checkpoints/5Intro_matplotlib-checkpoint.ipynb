{
 "cells": [
  {
   "cell_type": "markdown",
   "id": "b9833e97",
   "metadata": {},
   "source": [
    "# What, Why and How of Data Visualization\n",
    "## What is Data Visualization?\n",
    "- Data visualization is the representation of data or information in a graph, chart, or other visual format.\n",
    "- It communicates relationships of the data with images\n",
    "\n",
    "## Why Data Visualization?\n",
    "- Easier to identify patterns, trends and outliers\n",
    "- Easier to gain insights\n",
    "- Objective: to make it very easy and relevant for people to understand the data and make a quick decision\n",
    "\n",
    "## Data Visualization in Python\n",
    "Some popular plotting libraries:\n",
    "- Matplotlib\n",
    "- Pandas Visualization\n",
    "- Seaborn\n",
    "- ggplot\n",
    "- Plotly\n",
    "- Bokeh\n",
    "- Altair\n",
    "\n",
    "# Matplotlib\n",
    "- Most popular Python plotting library\n",
    "- Useful for those working with Python and NumPy\n",
    "- Low-level library with a MATLAB-like interface which offers lots of freedom at the cost of having to write more code.\n",
    "\n",
    "## Installation\n",
    "- The Anaconda distribution of Python and Google Colab come with Matplotlib pre-installed, and no further installation steps are necessary.\n",
    "- However, if you're not using any of those, you can install it by running a simple pip command in your terminal: pip install matplotlib\n",
    "\n",
    "### Pyplot\n",
    "The most used module of Matplotlib is Pyplot which is Matplotlib's plotting framework.   \n",
    "  \n",
    "Each pyplot function makes some change to a figure: e.g., creates a figure, creates a plotting area in a figure, plots some lines in a plotting area, decorates the plot with labels, etc.\n",
    "\n",
    "## Importing matplotlib\n",
    "- Many modules in matplotlib, but for plotting purposes, only import pyplot\n"
   ]
  },
  {
   "cell_type": "code",
   "execution_count": 1,
   "id": "97bb6258",
   "metadata": {},
   "outputs": [],
   "source": [
    "import matplotlib.pyplot as plt"
   ]
  },
  {
   "cell_type": "markdown",
   "id": "f75f4e5c",
   "metadata": {},
   "source": [
    "## Matplotlib Chart\n",
    "Made up of two main components:\n",
    "- **The axes**: the lines that delimit the area of the chart (i.e. sub-figure)\n",
    "- **The figure**: where we draw the axes, titles, and elements that come out of the area of the axes\n",
    "  \n",
    "*Note*: Unlike plural of axis, **axes** in Matplotlib is the whole rectangular box containing the axis lines, ticks, and labels\n",
    "<img src=\"./plot_img.png\"/>\n",
    "\n",
    "# Setting things up\n",
    "- Even if already installed, must import the libraries you want to use"
   ]
  },
  {
   "cell_type": "code",
   "execution_count": 2,
   "id": "2de577c8",
   "metadata": {},
   "outputs": [],
   "source": [
    "import numpy as np # for array-related operations\n",
    "import pandas as pd # for working with CSV files\n",
    "import matplotlib.pyplot as plt # data visualization"
   ]
  },
  {
   "cell_type": "markdown",
   "id": "d3019f59",
   "metadata": {},
   "source": [
    "## About the Dataset\n",
    "**Dataset Name**: Standard Metropolitan Dataset  \n",
    "**Dataset Description**:\n",
    "\n",
    "- It contains data of 99 standard metropolitan areas in the US, i.e., 99 row entries.\n",
    "- The dataset provides information on 11 variables for each area for the period 1976-1977.\n",
    "- The areas have been divided into 4 geographic regions: \n",
    "    - 1=North-East\n",
    "    - 2=North-Central\n",
    "    - 3=South\n",
    "    - 4=West\n",
    "- The variables provided are listed in the table below:\n",
    "  \n",
    "<img src=\"./std_metro_dataset_variables.png\"/>\n",
    "\n",
    "## Objective\n",
    "Find the crime rate of each area\n",
    "\n",
    "## Load the dataset\n",
    "CSV of the dataset: https://raw.githubusercontent.com/dphi-official/Datasets/master/Standard_Metropolitan_Areas_Data-data.csv"
   ]
  },
  {
   "cell_type": "code",
   "execution_count": 3,
   "id": "f2644b53",
   "metadata": {},
   "outputs": [
    {
     "data": {
      "text/html": [
       "<div>\n",
       "<style scoped>\n",
       "    .dataframe tbody tr th:only-of-type {\n",
       "        vertical-align: middle;\n",
       "    }\n",
       "\n",
       "    .dataframe tbody tr th {\n",
       "        vertical-align: top;\n",
       "    }\n",
       "\n",
       "    .dataframe thead th {\n",
       "        text-align: right;\n",
       "    }\n",
       "</style>\n",
       "<table border=\"1\" class=\"dataframe\">\n",
       "  <thead>\n",
       "    <tr style=\"text-align: right;\">\n",
       "      <th></th>\n",
       "      <th>land_area</th>\n",
       "      <th>percent_city</th>\n",
       "      <th>percent_senior</th>\n",
       "      <th>physicians</th>\n",
       "      <th>hospital_beds</th>\n",
       "      <th>graduates</th>\n",
       "      <th>work_force</th>\n",
       "      <th>income</th>\n",
       "      <th>region</th>\n",
       "      <th>crime_rate</th>\n",
       "    </tr>\n",
       "  </thead>\n",
       "  <tbody>\n",
       "    <tr>\n",
       "      <th>0</th>\n",
       "      <td>1384</td>\n",
       "      <td>78.1</td>\n",
       "      <td>12.3</td>\n",
       "      <td>25627</td>\n",
       "      <td>69678</td>\n",
       "      <td>50.1</td>\n",
       "      <td>4083.9</td>\n",
       "      <td>72100</td>\n",
       "      <td>1</td>\n",
       "      <td>75.55</td>\n",
       "    </tr>\n",
       "    <tr>\n",
       "      <th>1</th>\n",
       "      <td>3719</td>\n",
       "      <td>43.9</td>\n",
       "      <td>9.4</td>\n",
       "      <td>13326</td>\n",
       "      <td>43292</td>\n",
       "      <td>53.9</td>\n",
       "      <td>3305.9</td>\n",
       "      <td>54542</td>\n",
       "      <td>2</td>\n",
       "      <td>56.03</td>\n",
       "    </tr>\n",
       "    <tr>\n",
       "      <th>2</th>\n",
       "      <td>3553</td>\n",
       "      <td>37.4</td>\n",
       "      <td>10.7</td>\n",
       "      <td>9724</td>\n",
       "      <td>33731</td>\n",
       "      <td>50.6</td>\n",
       "      <td>2066.3</td>\n",
       "      <td>33216</td>\n",
       "      <td>1</td>\n",
       "      <td>41.32</td>\n",
       "    </tr>\n",
       "    <tr>\n",
       "      <th>3</th>\n",
       "      <td>3916</td>\n",
       "      <td>29.9</td>\n",
       "      <td>8.8</td>\n",
       "      <td>6402</td>\n",
       "      <td>24167</td>\n",
       "      <td>52.2</td>\n",
       "      <td>1966.7</td>\n",
       "      <td>32906</td>\n",
       "      <td>2</td>\n",
       "      <td>67.38</td>\n",
       "    </tr>\n",
       "    <tr>\n",
       "      <th>4</th>\n",
       "      <td>2480</td>\n",
       "      <td>31.5</td>\n",
       "      <td>10.5</td>\n",
       "      <td>8502</td>\n",
       "      <td>16751</td>\n",
       "      <td>66.1</td>\n",
       "      <td>1514.5</td>\n",
       "      <td>26573</td>\n",
       "      <td>4</td>\n",
       "      <td>80.19</td>\n",
       "    </tr>\n",
       "  </tbody>\n",
       "</table>\n",
       "</div>"
      ],
      "text/plain": [
       "   land_area  percent_city  percent_senior  physicians  hospital_beds  \\\n",
       "0       1384          78.1            12.3       25627          69678   \n",
       "1       3719          43.9             9.4       13326          43292   \n",
       "2       3553          37.4            10.7        9724          33731   \n",
       "3       3916          29.9             8.8        6402          24167   \n",
       "4       2480          31.5            10.5        8502          16751   \n",
       "\n",
       "   graduates  work_force  income  region  crime_rate  \n",
       "0       50.1      4083.9   72100       1       75.55  \n",
       "1       53.9      3305.9   54542       2       56.03  \n",
       "2       50.6      2066.3   33216       1       41.32  \n",
       "3       52.2      1966.7   32906       2       67.38  \n",
       "4       66.1      1514.5   26573       4       80.19  "
      ]
     },
     "execution_count": 3,
     "metadata": {},
     "output_type": "execute_result"
    }
   ],
   "source": [
    "x = pd.read_csv(\"https://raw.githubusercontent.com/dphi-official/Datasets/master/Standard_Metropolitan_Areas_Data-data.csv\")\n",
    "x.head()"
   ]
  },
  {
   "cell_type": "code",
   "execution_count": 4,
   "id": "bdf4ee12",
   "metadata": {},
   "outputs": [
    {
     "data": {
      "text/html": [
       "<div>\n",
       "<style scoped>\n",
       "    .dataframe tbody tr th:only-of-type {\n",
       "        vertical-align: middle;\n",
       "    }\n",
       "\n",
       "    .dataframe tbody tr th {\n",
       "        vertical-align: top;\n",
       "    }\n",
       "\n",
       "    .dataframe thead th {\n",
       "        text-align: right;\n",
       "    }\n",
       "</style>\n",
       "<table border=\"1\" class=\"dataframe\">\n",
       "  <thead>\n",
       "    <tr style=\"text-align: right;\">\n",
       "      <th></th>\n",
       "      <th>land_area</th>\n",
       "      <th>percent_city</th>\n",
       "      <th>percent_senior</th>\n",
       "      <th>physicians</th>\n",
       "      <th>hospital_beds</th>\n",
       "      <th>graduates</th>\n",
       "      <th>work_force</th>\n",
       "      <th>income</th>\n",
       "      <th>region</th>\n",
       "      <th>crime_rate</th>\n",
       "    </tr>\n",
       "  </thead>\n",
       "  <tbody>\n",
       "    <tr>\n",
       "      <th>count</th>\n",
       "      <td>99.000000</td>\n",
       "      <td>99.000000</td>\n",
       "      <td>99.000000</td>\n",
       "      <td>99.000000</td>\n",
       "      <td>99.000000</td>\n",
       "      <td>99.000000</td>\n",
       "      <td>99.000000</td>\n",
       "      <td>99.000000</td>\n",
       "      <td>99.000000</td>\n",
       "      <td>99.000000</td>\n",
       "    </tr>\n",
       "    <tr>\n",
       "      <th>mean</th>\n",
       "      <td>2615.727273</td>\n",
       "      <td>42.518182</td>\n",
       "      <td>9.781818</td>\n",
       "      <td>1828.333333</td>\n",
       "      <td>6345.868687</td>\n",
       "      <td>54.463636</td>\n",
       "      <td>449.366667</td>\n",
       "      <td>6762.505051</td>\n",
       "      <td>2.494949</td>\n",
       "      <td>55.643030</td>\n",
       "    </tr>\n",
       "    <tr>\n",
       "      <th>std</th>\n",
       "      <td>3045.826210</td>\n",
       "      <td>17.348277</td>\n",
       "      <td>2.524547</td>\n",
       "      <td>3192.199763</td>\n",
       "      <td>9136.202716</td>\n",
       "      <td>7.773286</td>\n",
       "      <td>610.990885</td>\n",
       "      <td>10393.349660</td>\n",
       "      <td>1.013921</td>\n",
       "      <td>13.470943</td>\n",
       "    </tr>\n",
       "    <tr>\n",
       "      <th>min</th>\n",
       "      <td>47.000000</td>\n",
       "      <td>13.400000</td>\n",
       "      <td>3.900000</td>\n",
       "      <td>140.000000</td>\n",
       "      <td>481.000000</td>\n",
       "      <td>30.300000</td>\n",
       "      <td>66.900000</td>\n",
       "      <td>769.000000</td>\n",
       "      <td>1.000000</td>\n",
       "      <td>23.320000</td>\n",
       "    </tr>\n",
       "    <tr>\n",
       "      <th>25%</th>\n",
       "      <td>1408.000000</td>\n",
       "      <td>30.100000</td>\n",
       "      <td>8.350000</td>\n",
       "      <td>459.000000</td>\n",
       "      <td>2390.000000</td>\n",
       "      <td>50.250000</td>\n",
       "      <td>150.300000</td>\n",
       "      <td>2003.000000</td>\n",
       "      <td>2.000000</td>\n",
       "      <td>46.115000</td>\n",
       "    </tr>\n",
       "    <tr>\n",
       "      <th>50%</th>\n",
       "      <td>1951.000000</td>\n",
       "      <td>39.500000</td>\n",
       "      <td>9.700000</td>\n",
       "      <td>774.000000</td>\n",
       "      <td>3472.000000</td>\n",
       "      <td>54.000000</td>\n",
       "      <td>257.200000</td>\n",
       "      <td>3510.000000</td>\n",
       "      <td>3.000000</td>\n",
       "      <td>56.060000</td>\n",
       "    </tr>\n",
       "    <tr>\n",
       "      <th>75%</th>\n",
       "      <td>2890.500000</td>\n",
       "      <td>52.600000</td>\n",
       "      <td>10.750000</td>\n",
       "      <td>1911.500000</td>\n",
       "      <td>6386.500000</td>\n",
       "      <td>58.300000</td>\n",
       "      <td>436.500000</td>\n",
       "      <td>6283.500000</td>\n",
       "      <td>3.000000</td>\n",
       "      <td>63.860000</td>\n",
       "    </tr>\n",
       "    <tr>\n",
       "      <th>max</th>\n",
       "      <td>27293.000000</td>\n",
       "      <td>100.000000</td>\n",
       "      <td>21.800000</td>\n",
       "      <td>25627.000000</td>\n",
       "      <td>69678.000000</td>\n",
       "      <td>72.800000</td>\n",
       "      <td>4083.900000</td>\n",
       "      <td>72100.000000</td>\n",
       "      <td>4.000000</td>\n",
       "      <td>85.620000</td>\n",
       "    </tr>\n",
       "  </tbody>\n",
       "</table>\n",
       "</div>"
      ],
      "text/plain": [
       "          land_area  percent_city  percent_senior    physicians  \\\n",
       "count     99.000000     99.000000       99.000000     99.000000   \n",
       "mean    2615.727273     42.518182        9.781818   1828.333333   \n",
       "std     3045.826210     17.348277        2.524547   3192.199763   \n",
       "min       47.000000     13.400000        3.900000    140.000000   \n",
       "25%     1408.000000     30.100000        8.350000    459.000000   \n",
       "50%     1951.000000     39.500000        9.700000    774.000000   \n",
       "75%     2890.500000     52.600000       10.750000   1911.500000   \n",
       "max    27293.000000    100.000000       21.800000  25627.000000   \n",
       "\n",
       "       hospital_beds  graduates   work_force        income     region  \\\n",
       "count      99.000000  99.000000    99.000000     99.000000  99.000000   \n",
       "mean     6345.868687  54.463636   449.366667   6762.505051   2.494949   \n",
       "std      9136.202716   7.773286   610.990885  10393.349660   1.013921   \n",
       "min       481.000000  30.300000    66.900000    769.000000   1.000000   \n",
       "25%      2390.000000  50.250000   150.300000   2003.000000   2.000000   \n",
       "50%      3472.000000  54.000000   257.200000   3510.000000   3.000000   \n",
       "75%      6386.500000  58.300000   436.500000   6283.500000   3.000000   \n",
       "max     69678.000000  72.800000  4083.900000  72100.000000   4.000000   \n",
       "\n",
       "       crime_rate  \n",
       "count   99.000000  \n",
       "mean    55.643030  \n",
       "std     13.470943  \n",
       "min     23.320000  \n",
       "25%     46.115000  \n",
       "50%     56.060000  \n",
       "75%     63.860000  \n",
       "max     85.620000  "
      ]
     },
     "execution_count": 4,
     "metadata": {},
     "output_type": "execute_result"
    }
   ],
   "source": [
    "x.describe()"
   ]
  },
  {
   "cell_type": "code",
   "execution_count": 5,
   "id": "5e6a7819",
   "metadata": {},
   "outputs": [
    {
     "name": "stdout",
     "output_type": "stream",
     "text": [
      "<class 'pandas.core.frame.DataFrame'>\n",
      "RangeIndex: 99 entries, 0 to 98\n",
      "Data columns (total 10 columns):\n",
      " #   Column          Non-Null Count  Dtype  \n",
      "---  ------          --------------  -----  \n",
      " 0   land_area       99 non-null     int64  \n",
      " 1   percent_city    99 non-null     float64\n",
      " 2   percent_senior  99 non-null     float64\n",
      " 3   physicians      99 non-null     int64  \n",
      " 4   hospital_beds   99 non-null     int64  \n",
      " 5   graduates       99 non-null     float64\n",
      " 6   work_force      99 non-null     float64\n",
      " 7   income          99 non-null     int64  \n",
      " 8   region          99 non-null     int64  \n",
      " 9   crime_rate      99 non-null     float64\n",
      "dtypes: float64(5), int64(5)\n",
      "memory usage: 7.9 KB\n"
     ]
    }
   ],
   "source": [
    "x.info()"
   ]
  },
  {
   "cell_type": "markdown",
   "id": "f51fd905",
   "metadata": {},
   "source": [
    "# Basic Plots I - Scatter Plot, Line Plot\n",
    "## Scatter Plot\n",
    "### What is a Scatter Plot?\n",
    "- Uses dots to represent values for different numeric values\n",
    "- Position of each dot on the horizontal and vertical axis indicates values for an individual data point\n",
    "- Used to ovserve relationship between variables\n",
    "\n",
    "### Create a Scatter Plot: plt.scatter( )\n",
    "- **syntax**: plt.scatter(x-axis values, y-axis values )"
   ]
  },
  {
   "cell_type": "code",
   "execution_count": 7,
   "id": "4b893391",
   "metadata": {},
   "outputs": [
    {
     "data": {
      "text/plain": [
       "Index(['land_area', 'percent_city', 'percent_senior', 'physicians',\n",
       "       'hospital_beds', 'graduates', 'work_force', 'income', 'region',\n",
       "       'crime_rate'],\n",
       "      dtype='object')"
      ]
     },
     "execution_count": 7,
     "metadata": {},
     "output_type": "execute_result"
    }
   ],
   "source": [
    "# dispaly column names\n",
    "x.columns"
   ]
  },
  {
   "cell_type": "code",
   "execution_count": 8,
   "id": "2cee3751",
   "metadata": {},
   "outputs": [
    {
     "data": {
      "image/png": "[encoded data removed]",
      "text/plain": [
       "<Figure size 432x288 with 1 Axes>"
      ]
     },
     "metadata": {
      "needs_background": "light"
     },
     "output_type": "display_data"
    }
   ],
   "source": [
    "# Plot a scatter plot of x dataset\n",
    "# X axis: crime rate\n",
    "# Y axis: percent_senior\n",
    "plt.scatter(x.crime_rate, x.percent_senior)\n",
    "plt.show()"
   ]
  },
  {
   "cell_type": "markdown",
   "id": "ae928fd5",
   "metadata": {},
   "source": [
    "### Is plt.show( ) always required?\n",
    "- Required if matplotlib is used in a terminal, scripts or specialized IDEs (e.g. VS Code, Pycharm, Spyder)\n",
    "- Optional in iPython shell or notebook (e.g. Jupyter notebook)\n",
    "- plt.show( ) does a lot under the hood to interacte with system's interactive graphical backend"
   ]
  },
  {
   "cell_type": "code",
   "execution_count": 10,
   "id": "968e8288",
   "metadata": {},
   "outputs": [
    {
     "data": {
      "text/plain": [
       "<matplotlib.collections.PathCollection at 0x7fa77662c3a0>"
      ]
     },
     "execution_count": 10,
     "metadata": {},
     "output_type": "execute_result"
    },
    {
     "data": {
      "image/png": "[encoded data removed]",
      "text/plain": [
       "<Figure size 432x288 with 1 Axes>"
      ]
     },
     "metadata": {
      "needs_background": "light"
     },
     "output_type": "display_data"
    }
   ],
   "source": [
    "# Without plt.show( )\n",
    "plt.scatter(x.crime_rate, x.percent_senior)"
   ]
  },
  {
   "cell_type": "markdown",
   "id": "38ca6f6d",
   "metadata": {},
   "source": [
    "**Without plt.show( )**:\n",
    "- Figure output object is returned:\n",
    "<matplotlib.collections.PathCollection at 0x7fa77662c3a0>\n",
    "\n",
    "\n",
    "### Applications of Scatter Plot\n",
    "- Identify patterns in data\n",
    "- Can divide data points into groups on how closely sets of points cluster together\n",
    "- Identify unexpected gaps or outliers in data\n",
    "- Useful if you want to segment data into different parts, likes categorizing users into different groups"
   ]
  },
  {
   "cell_type": "markdown",
   "id": "b01625b3",
   "metadata": {},
   "source": [
    "## Line Plot\n",
    "### What is a Line Plot?\n",
    "- Used to represent data over a continuous time span\n",
    "- Can show trend of a variable over time\n",
    "- Data values plotted as points then connected by lines segments\n",
    "\n",
    "### Create a Line Plot: plt.plot( )\n",
    "- **syntax**: plt.plot(x axis values, y axis value)"
   ]
  },
  {
   "cell_type": "code",
   "execution_count": 12,
   "id": "41f7a82f",
   "metadata": {},
   "outputs": [
    {
     "data": {
      "image/png": "[encoded data removed]",
      "text/plain": [
       "<Figure size 432x288 with 1 Axes>"
      ]
     },
     "metadata": {
      "needs_background": "light"
     },
     "output_type": "display_data"
    }
   ],
   "source": [
    "# pass 2 arguments: X and Y points\n",
    "# X axis: work_force\n",
    "# Y axis: income\n",
    "plt.plot(x.work_force, x.income)\n",
    "plt.show()"
   ]
  },
  {
   "cell_type": "markdown",
   "id": "0bdabf15",
   "metadata": {},
   "source": [
    "**Line to connect each pair of consecutive points automatically drawn by matplotlib**\n",
    "\n",
    "### Creating a Line Plot (with a single argument)"
   ]
  },
  {
   "cell_type": "code",
   "execution_count": 13,
   "id": "3501f215",
   "metadata": {},
   "outputs": [
    {
     "data": {
      "image/png": "[encoded data removed]",
      "text/plain": [
       "<Figure size 432x288 with 1 Axes>"
      ]
     },
     "metadata": {
      "needs_background": "light"
     },
     "output_type": "display_data"
    }
   ],
   "source": [
    "plt.plot([1,2,3,4])\n",
    "plt.show()"
   ]
  },
  {
   "cell_type": "markdown",
   "id": "c19dcc9e",
   "metadata": {},
   "source": [
    "- .plot( ) function assumes list of *n* elements is a sequence of *y* vlaues\n",
    "- *x* values will be automatically generated as a range of *n* elements starting from 0\n",
    "- i.e. lists will have same length\n",
    "\n",
    "### Applications of Line Plot\n",
    "- Show pattern of dependent varialbe over time (e.g. share price, weather recordings, etc.)\n",
    "\n",
    "# Basic Plots II - Histogram, Bar Plot, Pie Chart\n",
    "## Histogram\n",
    "A graphical display of data using bars of different heights\n",
    "\n",
    "### Parts of a Histogram\n",
    "- **The title**: Describes info included in the histogram\n",
    "- **X-axis**: Intervals that show the scale of values which the measurements fall under. Intervals are called **bins**\n",
    "- **Y-axis**: The number of times the values occured (frequency) for each each interval on X-axis\n",
    "- **The bars**: \n",
    "    - **Height**: Shows the numboer of times the values occured within the interval\n",
    "    - **Width**: Shows the covered interval\n",
    "\n",
    "### Create a Histogram: <a href=\"https://matplotlib.org/stable/api/_as_gen/matplotlib.pyplot.hist.html\" target=\"_blank\">plt.hist( )</a>\n",
    "- **syntax**: plt.hist(x, bins)\n",
    "\n",
    "**Parameters**:\n",
    "- **x: (n,) array or sequence of (n,) arrays**: Input values, this takes single array or sequence of arrays - not required to be same lenght\n",
    "- **bins: int or sequence or str, default=None**: \n",
    "    - *int* defines number of equal-width bins in the range\n",
    "    - *sequence* defines bin edges, including left edge of first bin and right edge of last bin so bins may be unequally spaced. All but last bin is half-open.  \n",
    "    If you pass: [1,2,3,4] - there will be 3 bins\n",
    "        - 1st bin = [1,2] - includes 1, excludes 2\n",
    "        - 2nd bin = [2,3] - includes 2, excludes 3\n",
    "        - 3rd bin = [3,4] - includes 3 and 4"
   ]
  },
  {
   "cell_type": "code",
   "execution_count": 20,
   "id": "3c4fcafd",
   "metadata": {},
   "outputs": [
    {
     "data": {
      "image/png": "[encoded data removed]",
      "text/plain": [
       "<Figure size 432x288 with 1 Axes>"
      ]
     },
     "metadata": {
      "needs_background": "light"
     },
     "output_type": "display_data"
    }
   ],
   "source": [
    "# Histogram of percent_senior\n",
    "plt.hist(x.percent_senior)\n",
    "plt.show()"
   ]
  },
  {
   "cell_type": "markdown",
   "id": "2a8a2d9e",
   "metadata": {},
   "source": [
    "### Applications of Histogram\n",
    "- Common plot to look at continuous variables\n",
    "- Good for showing general distributional features of dataset variables.\n",
    "    - Can see peaks of distribution\n",
    "    - Skewed vs symmetric distribution\n",
    "    - Identify outliers\n",
    "    \n",
    "# Bar Plot\n",
    "Common plot to show data associate with categorical variables\n",
    "- Can be horizontal or vertical\n",
    "- *Nominal*: order doesn't matter (e.g. sector)\n",
    "- *Ordinal*: order has meaning (e.g. age)\n",
    "\n",
    "### Create a Vertical  Bar Plot: plt.bar( )\n",
    "- **syntax**: plt.bar(x-axis categories, y-axis values)"
   ]
  },
  {
   "cell_type": "code",
   "execution_count": 22,
   "id": "6227c1a7",
   "metadata": {},
   "outputs": [
    {
     "data": {
      "image/png": "[encoded data removed]",
      "text/plain": [
       "<Figure size 432x288 with 1 Axes>"
      ]
     },
     "metadata": {
      "needs_background": "light"
     },
     "output_type": "display_data"
    }
   ],
   "source": [
    "# Vertical bar plot of crime rate within regions\n",
    "# X-axis: region\n",
    "# Y-axis: crime_rate\n",
    "plt.bar(x.region, x.crime_rate)\n",
    "plt.show()"
   ]
  },
  {
   "cell_type": "markdown",
   "id": "df49ae4e",
   "metadata": {},
   "source": [
    "### Create a Horizontal Bar Plot: plt.barh( )\n",
    "- **syntax**: plt.barh(y-axis categories, x-axis values)"
   ]
  },
  {
   "cell_type": "code",
   "execution_count": 23,
   "id": "9054e07b",
   "metadata": {},
   "outputs": [
    {
     "data": {
      "image/png": "[encoded data removed]",
      "text/plain": [
       "<Figure size 432x288 with 1 Axes>"
      ]
     },
     "metadata": {
      "needs_background": "light"
     },
     "output_type": "display_data"
    }
   ],
   "source": [
    "# Horizontal bar plot of crimer rate within regions\n",
    "# X-axis: crime_rate\n",
    "# Y-axis: region\n",
    "plt.barh(x.region, x.crime_rate)\n",
    "plt.show()"
   ]
  },
  {
   "cell_type": "markdown",
   "id": "f95c3e0e",
   "metadata": {},
   "source": [
    "### Bar Charts with multiple quantities\n",
    "- Allows comparison of quantities across variables\n",
    "<img src=\"./mult_bar.png\"/>\n",
    "\n",
    "### Stacked Bar Charts\n",
    "- Stacks different groups on top of each other\n",
    "- Height of resulting bar shows combined results of the groups\n",
    "<img src=\"stack_bar.png\"/>\n",
    "\n",
    "### Applications of Bar Charts\n",
    "- Match things between different groups\n",
    "- Traces changes over time\n",
    "\n",
    "### Bar Chart vs Histogram\n",
    "- **Bar Charts**: Categorical data\n",
    "- **Histograms**: Continuous data\n",
    "<img src=\"bar_vs_hist.png\"/>\n",
    "\n",
    "## Pie Chart\n",
    "A circular statistical graphic which is divided into slices(wedges) to illustrate numerical proportion\n",
    "\n",
    "### Parameters of a pie chart\n",
    "- **x**: Wedge sizes\n",
    "- **labels**: Sequence of strings providing the labels for each wedge\n",
    "- **colors**: Sequence of colors through which pie chart will cycle. If None, will use the colors in the currently active cycle.\n",
    "- **autopct**: string, used to label the wedges with their numeric value\n",
    "    - Label placed inside wedge\n",
    "    - **Format**: string will be **fmt%pct**\n",
    "\n",
    "Can also pass arugments to customize Pie Chart such as:\n",
    "- Show shadow: shadow: bool, default:False\n",
    "- Explode a wedge: explode: len(x) which specifies the fraction of the radius with which to offset each wedge\n",
    "- Tilt at an angle\n",
    "\n",
    "### Create a Pie Chart: <a href=\"https://matplotlib.org/stable/api/_as_gen/matplotlib.axes.Axes.pie.html#matplotlib.axes.Axes.pie\" target=\"_blank\">plt.pie( )</a>\n",
    "- **syntax**: plt.pie(x, labels=None, colors=None, autopct=None)"
   ]
  },
  {
   "cell_type": "code",
   "execution_count": 24,
   "id": "1e143b54",
   "metadata": {},
   "outputs": [
    {
     "data": {
      "image/png": "[encoded data removed]",
      "text/plain": [
       "<Figure size 432x288 with 1 Axes>"
      ]
     },
     "metadata": {},
     "output_type": "display_data"
    }
   ],
   "source": [
    "firms = ['Firm A', 'Firm B', 'Firm C', 'Firm D', 'Firm E']\n",
    "market_share = [20,25,15,10,20]\n",
    "\n",
    "# Explode Firm B to emphasize\n",
    "Explode = [0,0.1,0,0,0]\n",
    "\n",
    "# autopct controls how the percentages are displayed in wedges\n",
    "# format: %1.1f%%\n",
    "    # dispaly only 1 decimal place\n",
    "    # \n",
    "plt.pie(market_share, explode=Explode, labels=firms, autopct='%1.1f%%')\n",
    "plt.show()"
   ]
  },
  {
   "cell_type": "markdown",
   "id": "bf15a1e0",
   "metadata": {},
   "source": [
    "### Applications of Pie Charts\n",
    "- Best used when trying to work out the composition of something\n",
    "- Good for categorical data\n",
    "- Good when comparing areas of growth within a business (e.g. turnover, profit, exposure)\n",
    "- Example: How much money spent in different areas\n",
    "\n",
    "# Pyplot Formatting\n",
    "Example dataset: https://raw.githubusercontent.com/dphi-official/Datasets/master/Standard_Metropolitan_Areas_Data-data.csv"
   ]
  },
  {
   "cell_type": "code",
   "execution_count": 3,
   "id": "3d434013",
   "metadata": {},
   "outputs": [
    {
     "data": {
      "text/plain": [
       "Index(['land_area', 'percent_city', 'percent_senior', 'physicians',\n",
       "       'hospital_beds', 'graduates', 'work_force', 'income', 'region',\n",
       "       'crime_rate'],\n",
       "      dtype='object')"
      ]
     },
     "execution_count": 3,
     "metadata": {},
     "output_type": "execute_result"
    }
   ],
   "source": [
    "import pandas as pd\n",
    "import numpy as np\n",
    "import matplotlib.pyplot as plt\n",
    "\n",
    "x = pd.read_csv(\"https://raw.githubusercontent.com/dphi-official/Datasets/master/Standard_Metropolitan_Areas_Data-data.csv\")\n",
    "x.columns"
   ]
  },
  {
   "cell_type": "markdown",
   "id": "7d536171",
   "metadata": {},
   "source": [
    "## Plotting consecutive plots\n",
    "Call corresponding graphing functions and display each figure consecutively"
   ]
  },
  {
   "cell_type": "code",
   "execution_count": 29,
   "id": "9951c9fc",
   "metadata": {},
   "outputs": [
    {
     "data": {
      "image/png": "[encoded data removed]",
      "text/plain": [
       "<Figure size 432x288 with 1 Axes>"
      ]
     },
     "metadata": {
      "needs_background": "light"
     },
     "output_type": "display_data"
    },
    {
     "data": {
      "image/png": "[encoded data removed]",
      "text/plain": [
       "<Figure size 432x288 with 1 Axes>"
      ]
     },
     "metadata": {
      "needs_background": "light"
     },
     "output_type": "display_data"
    }
   ],
   "source": [
    "# First plot: income vs workforce, color red\n",
    "plt.plot(x.work_force, x.income, color='r')\n",
    "plt.show()\n",
    "\n",
    "# Second plot: income vs physicians\n",
    "plt.plot(x.physicians, x.income)\n",
    "plt.show()"
   ]
  },
  {
   "cell_type": "markdown",
   "id": "e0240b4f",
   "metadata": {},
   "source": [
    "### Combining the 2 plots into 1\n",
    "Place plt.show( ) after both figure calls (i.e. don't put after first figure call)"
   ]
  },
  {
   "cell_type": "code",
   "execution_count": 31,
   "id": "768d2020",
   "metadata": {},
   "outputs": [
    {
     "data": {
      "image/png": "[encoded data removed]",
      "text/plain": [
       "<Figure size 432x288 with 1 Axes>"
      ]
     },
     "metadata": {
      "needs_background": "light"
     },
     "output_type": "display_data"
    }
   ],
   "source": [
    "# plot income vs workforce and physicians on same plot\n",
    "plt.plot(x.work_force, x.income, color='r')\n",
    "plt.plot(x.physicians, x.income)\n",
    "plt.show()"
   ]
  },
  {
   "cell_type": "markdown",
   "id": "4f3c54f4",
   "metadata": {},
   "source": [
    "## Making the plots descriptive\n",
    "Make plots easy to understand using Title, Labels and Legends\n",
    "\n",
    "### Adding a Title: plt.title( )\n",
    "- Summarizes what the graph itself depicts\n",
    "- Proper form: \"y-axis variable vs x-axis variable\""
   ]
  },
  {
   "cell_type": "code",
   "execution_count": 32,
   "id": "8722f6e8",
   "metadata": {},
   "outputs": [
    {
     "data": {
      "image/png": "[encoded data removed]",
      "text/plain": [
       "<Figure size 432x288 with 1 Axes>"
      ]
     },
     "metadata": {
      "needs_background": "light"
     },
     "output_type": "display_data"
    }
   ],
   "source": [
    "# Scatter plot: crime rate vs percent senior\n",
    "plt.scatter(x.percent_senior, x.crime_rate)\n",
    "\n",
    "# Add title\n",
    "plt.title('Plot of Crime Rate vs Percent Senior')\n",
    "plt.show()"
   ]
  },
  {
   "cell_type": "markdown",
   "id": "3c0b79f1",
   "metadata": {},
   "source": [
    "### Adding Labels: plt.xlabel( ), plt.ylabel( )\n",
    "- Axis labels are variable names or descriptions that represent a particular axis"
   ]
  },
  {
   "cell_type": "code",
   "execution_count": 33,
   "id": "a8cae7ab",
   "metadata": {},
   "outputs": [
    {
     "data": {
      "image/png": "[encoded data removed]",
      "text/plain": [
       "<Figure size 432x288 with 1 Axes>"
      ]
     },
     "metadata": {
      "needs_background": "light"
     },
     "output_type": "display_data"
    }
   ],
   "source": [
    "# Plot crime rate vs percent senior\n",
    "plt.scatter(x.percent_senior, x.crime_rate)\n",
    "\n",
    "# Add title\n",
    "plt.title('Plot of Crime Rate vs Percent Senior')\n",
    "\n",
    "# Add x-axis label\n",
    "plt.xlabel('Percent Senior')\n",
    "\n",
    "# Add y-axis label\n",
    "plt.ylabel('Crime Rate')\n",
    "plt.show()"
   ]
  },
  {
   "cell_type": "markdown",
   "id": "23e8fb08",
   "metadata": {},
   "source": [
    "### Adding a Legend: plt.legend( )\n",
    "- Must pass a **label=** parameter when creating the plot\n",
    "- Area describing the elements of the graph\n",
    "- Indicates what variable each color/pattern represents"
   ]
  },
  {
   "cell_type": "code",
   "execution_count": 36,
   "id": "3d3e87cf",
   "metadata": {},
   "outputs": [
    {
     "data": {
      "image/png": "[encoded data removed]",
      "text/plain": [
       "<Figure size 432x288 with 1 Axes>"
      ]
     },
     "metadata": {
      "needs_background": "light"
     },
     "output_type": "display_data"
    }
   ],
   "source": [
    "# Plot income vs work_force and physcians\n",
    "plt.plot(x.work_force, x.income, label = 'work force')\n",
    "plt.plot(x.physicians, x.income, label = 'physicians')\n",
    "\n",
    "# Add a title\n",
    "plt.title('Plot of Income Work Force and Physicians')\n",
    "\n",
    "# Add axis labels\n",
    "plt.ylabel('Income')\n",
    "plt.xlabel('Count?')\n",
    "\n",
    "# Add a legend\n",
    "plt.legend()\n",
    "plt.show()"
   ]
  },
  {
   "cell_type": "markdown",
   "id": "75a4f33f",
   "metadata": {},
   "source": [
    "## Formatting the plots\n",
    "### Changing Colors: color=\n",
    "- Use the color keyword which accepts a string argument representing color\n",
    "- Color can be represented in variety of ways:\n",
    "    - color name\n",
    "    - short color code (rgbcmyk)\n",
    "    - grayscale values 0 to 1\n",
    "    - hex code (#RRGGBB from 00 to FF)\n",
    "    - RGB tuple, values 0 to 1\n",
    "    - all HTML color names supported\n",
    "- If no color is specified, Matplotlib will automatically cycle through a set of default colors for multiple lines"
   ]
  },
  {
   "cell_type": "code",
   "execution_count": 43,
   "id": "db25e374",
   "metadata": {},
   "outputs": [
    {
     "data": {
      "image/png": "[encoded data removed]",
      "text/plain": [
       "<Figure size 432x288 with 1 Axes>"
      ]
     },
     "metadata": {
      "needs_background": "light"
     },
     "output_type": "display_data"
    }
   ],
   "source": [
    "# specify by color name\n",
    "plt.plot(x.physicians, x.income, color='blue')\n",
    "\n",
    "# short color code (rgbcmyk)\n",
    "#plt.plot(x.work_force, x.income, color='c')\n",
    "\n",
    "# grayscale between 0 and 1\n",
    "plt.plot(x.hospital_beds, x.income, color='0.75')\n",
    "\n",
    "# Hex code\n",
    "#plt.plot(x.work_force, x.income, color='#FFDD44')\n",
    "\n",
    "# RGB tuple\n",
    "#plt.plot(x.work_force, x.income, color=(1.0,0.2,0.3))\n",
    "\n",
    "# HTML color name\n",
    "plt.plot(x.work_force, x.income, color='chartreuse')\n",
    "plt.show()"
   ]
  },
  {
   "cell_type": "markdown",
   "id": "73654133",
   "metadata": {},
   "source": [
    "### Changing Line Styles: linestyle =\n",
    "- Solid: 'solid' or '-'\n",
    "- Dashed: 'dashed' or '--'\n",
    "- Dotted: 'dotted' or ':'\n",
    "- Dash/dot combo: 'dashdot' or '-.\" \n"
   ]
  },
  {
   "cell_type": "code",
   "execution_count": 47,
   "id": "1470d93d",
   "metadata": {},
   "outputs": [
    {
     "data": {
      "image/png": "[encoded data removed]",
      "text/plain": [
       "<Figure size 432x288 with 1 Axes>"
      ]
     },
     "metadata": {
      "needs_background": "light"
     },
     "output_type": "display_data"
    }
   ],
   "source": [
    "plt.plot(x.work_force, x.income, linestyle='-.')\n",
    "plt.xlabel('Work Force')\n",
    "plt.ylabel('Income')\n",
    "plt.show()"
   ]
  },
  {
   "cell_type": "markdown",
   "id": "2aaea74b",
   "metadata": {},
   "source": [
    "### Adding Markers: marker=\n",
    "Add markers to a line plot to distinguish multiple lines (i.e. different markers) or highlight particular data points\n",
    "- circualr: 'o'\n",
    "- crosses: 'x'\n",
    "- triangles: '^'"
   ]
  },
  {
   "cell_type": "code",
   "execution_count": 51,
   "id": "e5d3fc7e",
   "metadata": {},
   "outputs": [
    {
     "data": {
      "image/png": "[encoded data removed]",
      "text/plain": [
       "<Figure size 432x288 with 1 Axes>"
      ]
     },
     "metadata": {
      "needs_background": "light"
     },
     "output_type": "display_data"
    }
   ],
   "source": []
  },
  {
   "cell_type": "markdown",
   "id": "d59676bb",
   "metadata": {},
   "source": [
    "### Combining the 3 formatting options"
   ]
  },
  {
   "cell_type": "code",
   "execution_count": 52,
   "id": "0c0237ed",
   "metadata": {},
   "outputs": [
    {
     "data": {
      "image/png": "[encoded data removed]",
      "text/plain": [
       "<Figure size 432x288 with 1 Axes>"
      ]
     },
     "metadata": {
      "needs_background": "light"
     },
     "output_type": "display_data"
    }
   ],
   "source": [
    "plt.plot(x.work_force, x.income, color='chartreuse', linestyle='--', marker='^')\n",
    "plt.xlabel('Work Force')\n",
    "plt.ylabel('Income')\n",
    "plt.show()"
   ]
  },
  {
   "cell_type": "markdown",
   "id": "e1a6c137",
   "metadata": {},
   "source": [
    "### Shortcut to combine: 'linecolormarker'"
   ]
  },
  {
   "cell_type": "code",
   "execution_count": 53,
   "id": "db5df1bd",
   "metadata": {},
   "outputs": [
    {
     "data": {
      "image/png": "[encoded data removed]",
      "text/plain": [
       "<Figure size 432x288 with 1 Axes>"
      ]
     },
     "metadata": {
      "needs_background": "light"
     },
     "output_type": "display_data"
    }
   ],
   "source": [
    "plt.plot(x.work_force, x.income, '--ro')\n",
    "plt.xlabel('Work Force')\n",
    "plt.ylabel('Income')\n",
    "plt.show()"
   ]
  },
  {
   "cell_type": "markdown",
   "id": "dd7d55b1",
   "metadata": {},
   "source": [
    "### Scatter Plot with plot function\n",
    "plt.plot( ) can produce scatter plots by not including linestyle in shortcut"
   ]
  },
  {
   "cell_type": "code",
   "execution_count": 54,
   "id": "6c20823c",
   "metadata": {},
   "outputs": [
    {
     "data": {
      "image/png": "[encoded data removed]",
      "text/plain": [
       "<Figure size 432x288 with 1 Axes>"
      ]
     },
     "metadata": {
      "needs_background": "light"
     },
     "output_type": "display_data"
    }
   ],
   "source": [
    "plt.plot(x.work_force, x.income, 'ro')\n",
    "plt.xlabel('Work Force')\n",
    "plt.ylabel('Income')\n",
    "plt.show()"
   ]
  },
  {
   "cell_type": "code",
   "execution_count": 55,
   "id": "1708a1a1",
   "metadata": {},
   "outputs": [
    {
     "data": {
      "image/png": "[encoded data removed]",
      "text/plain": [
       "<Figure size 432x288 with 1 Axes>"
      ]
     },
     "metadata": {
      "needs_background": "light"
     },
     "output_type": "display_data"
    }
   ],
   "source": [
    "# scatter plot with green x's\n",
    "plt.plot(x.work_force, x.income, 'gx')\n",
    "plt.xlabel('Work Force')\n",
    "plt.ylabel('Income')\n",
    "plt.show()"
   ]
  },
  {
   "cell_type": "markdown",
   "id": "64e6d254",
   "metadata": {},
   "source": [
    "### Change line width: linewidth="
   ]
  },
  {
   "cell_type": "code",
   "execution_count": 56,
   "id": "62cd1c91",
   "metadata": {},
   "outputs": [
    {
     "data": {
      "image/png": "[encoded data removed]",
      "text/plain": [
       "<Figure size 432x288 with 1 Axes>"
      ]
     },
     "metadata": {
      "needs_background": "light"
     },
     "output_type": "display_data"
    }
   ],
   "source": [
    "plt.plot(x.work_force, x.income, 'go--', linewidth=3)\n",
    "plt.xlabel('Work Force')\n",
    "plt.ylabel('Income')\n",
    "plt.show()"
   ]
  },
  {
   "cell_type": "markdown",
   "id": "5124a244",
   "metadata": {},
   "source": [
    "## Changing the size of plots: plt.figure(figsize=( ))\n",
    "- **syntax**: plt.figure(figsize=(new_width_pixels, new_height_pixels)"
   ]
  },
  {
   "cell_type": "code",
   "execution_count": 4,
   "id": "6148bc2a",
   "metadata": {},
   "outputs": [
    {
     "data": {
      "image/png": "[encoded data removed]",
      "text/plain": [
       "<Figure size 864x360 with 1 Axes>"
      ]
     },
     "metadata": {
      "needs_background": "light"
     },
     "output_type": "display_data"
    }
   ],
   "source": [
    "import matplotlib.pyplot as plt\n",
    "import pandas as pd\n",
    "import numpy as np\n",
    "\n",
    "# Create a 12x5 plot\n",
    "plt.figure(figsize=(12,5)) \n",
    "\n",
    "plt.plot(x.work_force, x.income, 'go--', linewidth=2)\n",
    "plt.xlabel('Work Force')\n",
    "plt.ylabel('Income')\n",
    "plt.show()"
   ]
  },
  {
   "cell_type": "markdown",
   "id": "70d55e5f",
   "metadata": {},
   "source": [
    "## Multiple Plots in one figure:\n",
    "- plt.subplot(row,col,index) is used to add multiple plots in one figure. It takes three arguments:\n",
    "    1. nrows: number of row in the figure\n",
    "    2. ncols: number of columns in the figure\n",
    "    3. index: index of the plot\n",
    "- The function subplot creates a figure and a set of subplots.\n",
    "- It is a wrapper function to make it convenient to create common layouts of subplots, including enclosing figure object, in a single call\n",
    "- suptitle: Title for subplots\n",
    "- .subplot( ) returns a figure and an Axes object or an array of Axes objects\n",
    "\n",
    "### <a href=\"./subplot_vs_subplots.ipynb\">plt.subplot( ) vs plt.subplots( )</a>\n",
    "- If using plt.subplot( ): will need to define each object with plt.funtion( )\n",
    "- If using plt.subplots( ): will use fig and ax to define objects\n",
    "\n",
    "\n",
    "### Changing Plot Size\n",
    "Calling plt.subplots( ) function without any parameters returns a Figure object and one Axes object:"
   ]
  },
  {
   "cell_type": "code",
   "execution_count": 7,
   "id": "8099b058",
   "metadata": {},
   "outputs": [
    {
     "name": "stdout",
     "output_type": "stream",
     "text": [
      "Figure(432x288) AxesSubplot(0.125,0.125;0.775x0.755)\n"
     ]
    },
    {
     "data": {
      "image/png": "[encoded data removed]",
      "text/plain": [
       "<Figure size 432x288 with 1 Axes>"
      ]
     },
     "metadata": {
      "needs_background": "light"
     },
     "output_type": "display_data"
    }
   ],
   "source": [
    "fig, ax = plt.subplots( )\n",
    "print(fig, ax)"
   ]
  },
  {
   "cell_type": "markdown",
   "id": "22b6fd79",
   "metadata": {},
   "source": [
    "### 1 row and 2 columns - Method 1: .subplot( )\n",
    "- state-based method\n",
    "- each object/characteristic must be defined with plt."
   ]
  },
  {
   "cell_type": "code",
   "execution_count": 9,
   "id": "b12be91d",
   "metadata": {},
   "outputs": [
    {
     "data": {
      "image/png": "[encoded data removed]",
      "text/plain": [
       "<Figure size 432x288 with 2 Axes>"
      ]
     },
     "metadata": {
      "needs_background": "light"
     },
     "output_type": "display_data"
    }
   ],
   "source": [
    "# create/mark space in row 1, col 1 (of an area that is 1 row, 2 cols)\n",
    "plt.subplot(1,2,1)\n",
    "# plot - action\n",
    "plt.plot(x.work_force, x.income, \"go\")\n",
    "# place a title above created subplot\n",
    "plt.title(\"Income vs Work Force\")\n",
    "\n",
    "# create/mark space in row 1, col 2 (of an area that is 1 row, 2 cols)\n",
    "plt.subplot(1,2,2)\n",
    "# plot - action\n",
    "plt.plot(x.hospital_beds, x.income, \"r^\")\n",
    "# place title above create subplot\n",
    "plt.title(\"Income vs Hospital Beds \")\n",
    "\n",
    "# Add a centered title above both plots - describe who 1 x 2 area\n",
    "plt.suptitle(\"Sub Plots\")\n",
    "plt.show()"
   ]
  },
  {
   "cell_type": "markdown",
   "id": "599abd89",
   "metadata": {},
   "source": [
    "### 1 row and 2 columns - Method 2: subplots(nrows, ncols)\n",
    "- object-oriented method\n",
    "- add descriptions to the figure spaces using *fig* and *ax* variables (we define the variables, but *fig* and *ax* are standard)"
   ]
  },
  {
   "cell_type": "code",
   "execution_count": 10,
   "id": "1a0a06d9",
   "metadata": {},
   "outputs": [
    {
     "data": {
      "image/png": "[encoded data removed]",
      "text/plain": [
       "<Figure size 432x288 with 2 Axes>"
      ]
     },
     "metadata": {
      "needs_background": "light"
     },
     "output_type": "display_data"
    }
   ],
   "source": [
    "# Example with different variables\n",
    "fog, (a1,a2) = plt.subplots(1,2)"
   ]
  },
  {
   "cell_type": "code",
   "execution_count": 20,
   "id": "ab31823c",
   "metadata": {},
   "outputs": [
    {
     "data": {
      "image/png": "[encoded data removed]",
      "text/plain": [
       "<Figure size 432x288 with 2 Axes>"
      ]
     },
     "metadata": {
      "needs_background": "light"
     },
     "output_type": "display_data"
    }
   ],
   "source": [
    "# create the figure containing 1 row and 2 columns of axes\n",
    "fig, (ax1, ax2) = plt.subplots(1,2)\n",
    "\n",
    "# adding centered title to figure\n",
    "fig.suptitle('Horizonatally stacked subplots')\n",
    "# plot and title first subplot\n",
    "ax1.plot(x.work_force, x.income, \"go\")\n",
    "ax1.set_title(\"Income vs Work Force\")\n",
    "\n",
    "# add titles to subplots\n",
    "ax2.plot(x.hospital_beds, x.income, \"r^\")\n",
    "ax2.set_title(\"Income vs Hospital Beds\")\n",
    "plt.show()"
   ]
  },
  {
   "cell_type": "markdown",
   "id": "207fdd68",
   "metadata": {},
   "source": [
    "## Overlapping values: \n",
    "- add **plt.tight_layout**\n",
    "- for plt.subplots(sharey=True) will allow the plots to share a y-axis\n"
   ]
  },
  {
   "cell_type": "code",
   "execution_count": 13,
   "id": "7772daa2",
   "metadata": {},
   "outputs": [
    {
     "data": {
      "image/png": "[encoded data removed]",
      "text/plain": [
       "<Figure size 432x288 with 2 Axes>"
      ]
     },
     "metadata": {
      "needs_background": "light"
     },
     "output_type": "display_data"
    }
   ],
   "source": [
    "# create the figure containing 1 row and 2 columns of axes\n",
    "fig, (ax1, ax2) = plt.subplots(1,2, sharey=True)\n",
    "\n",
    "# adding centered title to figure\n",
    "fig.suptitle('Horizonatally stacked subplots')\n",
    "# plot and title first subplot\n",
    "ax1.plot(x.work_force, x.income, \"go\")\n",
    "ax1.set_title(\"Income vs Work Force\")\n",
    "\n",
    "# add titles to subplots\n",
    "ax2.plot(x.hospital_beds, x.income, \"r^\")\n",
    "ax2.set_title(\"Income vs Hospital Beds\")\n",
    "\n",
    "plt.show()"
   ]
  },
  {
   "cell_type": "markdown",
   "id": "516f2c3a",
   "metadata": {},
   "source": [
    "### 2 rows and 1 Column - .subplot( ) method"
   ]
  },
  {
   "cell_type": "code",
   "execution_count": 18,
   "id": "742883d3",
   "metadata": {},
   "outputs": [
    {
     "data": {
      "image/png": "[encoded data removed]",
      "text/plain": [
       "<Figure size 432x288 with 2 Axes>"
      ]
     },
     "metadata": {
      "needs_background": "light"
     },
     "output_type": "display_data"
    }
   ],
   "source": [
    "plt.subplot(2,1,1)\n",
    "plt.plot(x.work_force, x.income, \"go\")\n",
    "plt.title('Income vs Work Force')\n",
    "\n",
    "plt.subplot(2,1,2)\n",
    "plt.plot(x.hospital_beds, x.income, \"r^\")\n",
    "plt.title('Income vs Hospital Beds')\n",
    "\n",
    "# add figure label\n",
    "plt.suptitle('Vertically Stacked Subplots - Method .subplot( )')\n",
    "# prevent overlapping\n",
    "plt.tight_layout()\n",
    "plt.show()"
   ]
  },
  {
   "cell_type": "markdown",
   "id": "6fd74b22",
   "metadata": {},
   "source": [
    "### 2 rows and 2 columns - .subplots( ) method"
   ]
  },
  {
   "cell_type": "code",
   "execution_count": 27,
   "id": "55dd6d9d",
   "metadata": {},
   "outputs": [
    {
     "data": {
      "image/png": "[encoded data removed]",
      "text/plain": [
       "<Figure size 432x432 with 4 Axes>"
      ]
     },
     "metadata": {
      "needs_background": "light"
     },
     "output_type": "display_data"
    }
   ],
   "source": [
    "# creating grid of 2 rows, 2 columns in a 6x6 figure size\n",
    "fig, ax = plt.subplots(nrows=2,ncols=2, figsize=(6,6))\n",
    "\n",
    "fig.suptitle('Same plots - different colors')\n",
    "\n",
    "# use indexing to plot each subplot in the desired location\n",
    "# top left\n",
    "ax[0,0].plot(x.work_force, x.income, \"go\")\n",
    "ax[0,0].set_title(\"Green [0,0]\")\n",
    "\n",
    "# top right\n",
    "ax[0,1].plot(x.work_force, x.income, \"ro\")\n",
    "ax[0,1].set_title(\"Red [0,1]\")\n",
    "\n",
    "# bottom left\n",
    "ax[1,0].plot(x.work_force, x.income, \"co\")\n",
    "ax[1,0].set_title(\"Cyan [1,0]\")\n",
    "\n",
    "# bottom right\n",
    "ax[1,1].plot(x.work_force, x.income, \"bo\")\n",
    "ax[1,1].set_title(\"Blue [1,1]\")\n",
    "\n",
    "# stop overlap\n",
    "plt.tight_layout()\n",
    "\n",
    "plt.show()"
   ]
  },
  {
   "cell_type": "markdown",
   "id": "99c865c5",
   "metadata": {},
   "source": [
    "## Pyplot: Exercise\n",
    "This question uses the SMA Dataset: https://raw.githubusercontent.com/dphi-official/Datasets/master/Standard_Metropolitan_Areas_Data-data.csv "
   ]
  },
  {
   "cell_type": "code",
   "execution_count": 163,
   "id": "cb262e34",
   "metadata": {},
   "outputs": [
    {
     "name": "stdout",
     "output_type": "stream",
     "text": [
      "<class 'pandas.core.frame.DataFrame'>\n",
      "RangeIndex: 99 entries, 0 to 98\n",
      "Data columns (total 10 columns):\n",
      " #   Column          Non-Null Count  Dtype  \n",
      "---  ------          --------------  -----  \n",
      " 0   land_area       99 non-null     int64  \n",
      " 1   percent_city    99 non-null     float64\n",
      " 2   percent_senior  99 non-null     float64\n",
      " 3   physicians      99 non-null     int64  \n",
      " 4   hospital_beds   99 non-null     int64  \n",
      " 5   graduates       99 non-null     float64\n",
      " 6   work_force      99 non-null     float64\n",
      " 7   income          99 non-null     int64  \n",
      " 8   region          99 non-null     int64  \n",
      " 9   crime_rate      99 non-null     float64\n",
      "dtypes: float64(5), int64(5)\n",
      "memory usage: 7.9 KB\n"
     ]
    }
   ],
   "source": [
    "import numpy as np\n",
    "import pandas as pd\n",
    "import matplotlib.pyplot as plt\n",
    "\n",
    "sma = pd.read_csv('https://raw.githubusercontent.com/dphi-official/Datasets/master/Standard_Metropolitan_Areas_Data-data.csv')\n",
    "sma.info()"
   ]
  },
  {
   "cell_type": "code",
   "execution_count": 32,
   "id": "9d471852",
   "metadata": {},
   "outputs": [
    {
     "data": {
      "text/html": [
       "<div>\n",
       "<style scoped>\n",
       "    .dataframe tbody tr th:only-of-type {\n",
       "        vertical-align: middle;\n",
       "    }\n",
       "\n",
       "    .dataframe tbody tr th {\n",
       "        vertical-align: top;\n",
       "    }\n",
       "\n",
       "    .dataframe thead th {\n",
       "        text-align: right;\n",
       "    }\n",
       "</style>\n",
       "<table border=\"1\" class=\"dataframe\">\n",
       "  <thead>\n",
       "    <tr style=\"text-align: right;\">\n",
       "      <th></th>\n",
       "      <th>land_area</th>\n",
       "      <th>percent_city</th>\n",
       "      <th>percent_senior</th>\n",
       "      <th>physicians</th>\n",
       "      <th>hospital_beds</th>\n",
       "      <th>graduates</th>\n",
       "      <th>work_force</th>\n",
       "      <th>income</th>\n",
       "      <th>region</th>\n",
       "      <th>crime_rate</th>\n",
       "    </tr>\n",
       "  </thead>\n",
       "  <tbody>\n",
       "    <tr>\n",
       "      <th>count</th>\n",
       "      <td>99.000000</td>\n",
       "      <td>99.000000</td>\n",
       "      <td>99.000000</td>\n",
       "      <td>99.000000</td>\n",
       "      <td>99.000000</td>\n",
       "      <td>99.000000</td>\n",
       "      <td>99.000000</td>\n",
       "      <td>99.000000</td>\n",
       "      <td>99.000000</td>\n",
       "      <td>99.000000</td>\n",
       "    </tr>\n",
       "    <tr>\n",
       "      <th>mean</th>\n",
       "      <td>2615.727273</td>\n",
       "      <td>42.518182</td>\n",
       "      <td>9.781818</td>\n",
       "      <td>1828.333333</td>\n",
       "      <td>6345.868687</td>\n",
       "      <td>54.463636</td>\n",
       "      <td>449.366667</td>\n",
       "      <td>6762.505051</td>\n",
       "      <td>2.494949</td>\n",
       "      <td>55.643030</td>\n",
       "    </tr>\n",
       "    <tr>\n",
       "      <th>std</th>\n",
       "      <td>3045.826210</td>\n",
       "      <td>17.348277</td>\n",
       "      <td>2.524547</td>\n",
       "      <td>3192.199763</td>\n",
       "      <td>9136.202716</td>\n",
       "      <td>7.773286</td>\n",
       "      <td>610.990885</td>\n",
       "      <td>10393.349660</td>\n",
       "      <td>1.013921</td>\n",
       "      <td>13.470943</td>\n",
       "    </tr>\n",
       "    <tr>\n",
       "      <th>min</th>\n",
       "      <td>47.000000</td>\n",
       "      <td>13.400000</td>\n",
       "      <td>3.900000</td>\n",
       "      <td>140.000000</td>\n",
       "      <td>481.000000</td>\n",
       "      <td>30.300000</td>\n",
       "      <td>66.900000</td>\n",
       "      <td>769.000000</td>\n",
       "      <td>1.000000</td>\n",
       "      <td>23.320000</td>\n",
       "    </tr>\n",
       "    <tr>\n",
       "      <th>25%</th>\n",
       "      <td>1408.000000</td>\n",
       "      <td>30.100000</td>\n",
       "      <td>8.350000</td>\n",
       "      <td>459.000000</td>\n",
       "      <td>2390.000000</td>\n",
       "      <td>50.250000</td>\n",
       "      <td>150.300000</td>\n",
       "      <td>2003.000000</td>\n",
       "      <td>2.000000</td>\n",
       "      <td>46.115000</td>\n",
       "    </tr>\n",
       "    <tr>\n",
       "      <th>50%</th>\n",
       "      <td>1951.000000</td>\n",
       "      <td>39.500000</td>\n",
       "      <td>9.700000</td>\n",
       "      <td>774.000000</td>\n",
       "      <td>3472.000000</td>\n",
       "      <td>54.000000</td>\n",
       "      <td>257.200000</td>\n",
       "      <td>3510.000000</td>\n",
       "      <td>3.000000</td>\n",
       "      <td>56.060000</td>\n",
       "    </tr>\n",
       "    <tr>\n",
       "      <th>75%</th>\n",
       "      <td>2890.500000</td>\n",
       "      <td>52.600000</td>\n",
       "      <td>10.750000</td>\n",
       "      <td>1911.500000</td>\n",
       "      <td>6386.500000</td>\n",
       "      <td>58.300000</td>\n",
       "      <td>436.500000</td>\n",
       "      <td>6283.500000</td>\n",
       "      <td>3.000000</td>\n",
       "      <td>63.860000</td>\n",
       "    </tr>\n",
       "    <tr>\n",
       "      <th>max</th>\n",
       "      <td>27293.000000</td>\n",
       "      <td>100.000000</td>\n",
       "      <td>21.800000</td>\n",
       "      <td>25627.000000</td>\n",
       "      <td>69678.000000</td>\n",
       "      <td>72.800000</td>\n",
       "      <td>4083.900000</td>\n",
       "      <td>72100.000000</td>\n",
       "      <td>4.000000</td>\n",
       "      <td>85.620000</td>\n",
       "    </tr>\n",
       "  </tbody>\n",
       "</table>\n",
       "</div>"
      ],
      "text/plain": [
       "          land_area  percent_city  percent_senior    physicians  \\\n",
       "count     99.000000     99.000000       99.000000     99.000000   \n",
       "mean    2615.727273     42.518182        9.781818   1828.333333   \n",
       "std     3045.826210     17.348277        2.524547   3192.199763   \n",
       "min       47.000000     13.400000        3.900000    140.000000   \n",
       "25%     1408.000000     30.100000        8.350000    459.000000   \n",
       "50%     1951.000000     39.500000        9.700000    774.000000   \n",
       "75%     2890.500000     52.600000       10.750000   1911.500000   \n",
       "max    27293.000000    100.000000       21.800000  25627.000000   \n",
       "\n",
       "       hospital_beds  graduates   work_force        income     region  \\\n",
       "count      99.000000  99.000000    99.000000     99.000000  99.000000   \n",
       "mean     6345.868687  54.463636   449.366667   6762.505051   2.494949   \n",
       "std      9136.202716   7.773286   610.990885  10393.349660   1.013921   \n",
       "min       481.000000  30.300000    66.900000    769.000000   1.000000   \n",
       "25%      2390.000000  50.250000   150.300000   2003.000000   2.000000   \n",
       "50%      3472.000000  54.000000   257.200000   3510.000000   3.000000   \n",
       "75%      6386.500000  58.300000   436.500000   6283.500000   3.000000   \n",
       "max     69678.000000  72.800000  4083.900000  72100.000000   4.000000   \n",
       "\n",
       "       crime_rate  \n",
       "count   99.000000  \n",
       "mean    55.643030  \n",
       "std     13.470943  \n",
       "min     23.320000  \n",
       "25%     46.115000  \n",
       "50%     56.060000  \n",
       "75%     63.860000  \n",
       "max     85.620000  "
      ]
     },
     "execution_count": 32,
     "metadata": {},
     "output_type": "execute_result"
    }
   ],
   "source": [
    "sma.describe()"
   ]
  },
  {
   "cell_type": "code",
   "execution_count": 34,
   "id": "b3c2fa6f",
   "metadata": {},
   "outputs": [
    {
     "data": {
      "text/plain": [
       "3    36\n",
       "2    25\n",
       "1    21\n",
       "4    17\n",
       "Name: region, dtype: int64"
      ]
     },
     "execution_count": 34,
     "metadata": {},
     "output_type": "execute_result"
    }
   ],
   "source": [
    "sma.region.value_counts()"
   ]
  },
  {
   "cell_type": "code",
   "execution_count": 46,
   "id": "7d6da131",
   "metadata": {},
   "outputs": [
    {
     "data": {
      "text/html": [
       "<div>\n",
       "<style scoped>\n",
       "    .dataframe tbody tr th:only-of-type {\n",
       "        vertical-align: middle;\n",
       "    }\n",
       "\n",
       "    .dataframe tbody tr th {\n",
       "        vertical-align: top;\n",
       "    }\n",
       "\n",
       "    .dataframe thead th {\n",
       "        text-align: right;\n",
       "    }\n",
       "</style>\n",
       "<table border=\"1\" class=\"dataframe\">\n",
       "  <thead>\n",
       "    <tr style=\"text-align: right;\">\n",
       "      <th></th>\n",
       "      <th>land_area</th>\n",
       "      <th>percent_city</th>\n",
       "      <th>percent_senior</th>\n",
       "      <th>physicians</th>\n",
       "      <th>hospital_beds</th>\n",
       "      <th>graduates</th>\n",
       "      <th>work_force</th>\n",
       "      <th>income</th>\n",
       "      <th>region</th>\n",
       "      <th>crime_rate</th>\n",
       "    </tr>\n",
       "  </thead>\n",
       "  <tbody>\n",
       "    <tr>\n",
       "      <th>land_area</th>\n",
       "      <td>1.000000</td>\n",
       "      <td>-0.077320</td>\n",
       "      <td>0.092226</td>\n",
       "      <td>0.085054</td>\n",
       "      <td>0.081034</td>\n",
       "      <td>0.088728</td>\n",
       "      <td>0.135792</td>\n",
       "      <td>0.111404</td>\n",
       "      <td>0.292392</td>\n",
       "      <td>0.293907</td>\n",
       "    </tr>\n",
       "    <tr>\n",
       "      <th>percent_city</th>\n",
       "      <td>-0.077320</td>\n",
       "      <td>1.000000</td>\n",
       "      <td>-0.250995</td>\n",
       "      <td>0.067391</td>\n",
       "      <td>0.052898</td>\n",
       "      <td>0.076720</td>\n",
       "      <td>0.016011</td>\n",
       "      <td>0.019235</td>\n",
       "      <td>0.235880</td>\n",
       "      <td>0.159596</td>\n",
       "    </tr>\n",
       "    <tr>\n",
       "      <th>percent_senior</th>\n",
       "      <td>0.092226</td>\n",
       "      <td>-0.250995</td>\n",
       "      <td>1.000000</td>\n",
       "      <td>0.056454</td>\n",
       "      <td>0.083775</td>\n",
       "      <td>-0.155695</td>\n",
       "      <td>0.035240</td>\n",
       "      <td>0.046073</td>\n",
       "      <td>-0.242811</td>\n",
       "      <td>-0.177992</td>\n",
       "    </tr>\n",
       "    <tr>\n",
       "      <th>physicians</th>\n",
       "      <td>0.085054</td>\n",
       "      <td>0.067391</td>\n",
       "      <td>0.056454</td>\n",
       "      <td>1.000000</td>\n",
       "      <td>0.974241</td>\n",
       "      <td>0.049500</td>\n",
       "      <td>0.965597</td>\n",
       "      <td>0.976209</td>\n",
       "      <td>-0.140961</td>\n",
       "      <td>0.187763</td>\n",
       "    </tr>\n",
       "    <tr>\n",
       "      <th>hospital_beds</th>\n",
       "      <td>0.081034</td>\n",
       "      <td>0.052898</td>\n",
       "      <td>0.083775</td>\n",
       "      <td>0.974241</td>\n",
       "      <td>1.000000</td>\n",
       "      <td>-0.003892</td>\n",
       "      <td>0.967913</td>\n",
       "      <td>0.974416</td>\n",
       "      <td>-0.220305</td>\n",
       "      <td>0.109799</td>\n",
       "    </tr>\n",
       "    <tr>\n",
       "      <th>graduates</th>\n",
       "      <td>0.088728</td>\n",
       "      <td>0.076720</td>\n",
       "      <td>-0.155695</td>\n",
       "      <td>0.049500</td>\n",
       "      <td>-0.003892</td>\n",
       "      <td>1.000000</td>\n",
       "      <td>0.044054</td>\n",
       "      <td>0.045578</td>\n",
       "      <td>0.246226</td>\n",
       "      <td>0.290880</td>\n",
       "    </tr>\n",
       "    <tr>\n",
       "      <th>work_force</th>\n",
       "      <td>0.135792</td>\n",
       "      <td>0.016011</td>\n",
       "      <td>0.035240</td>\n",
       "      <td>0.965597</td>\n",
       "      <td>0.967913</td>\n",
       "      <td>0.044054</td>\n",
       "      <td>1.000000</td>\n",
       "      <td>0.996735</td>\n",
       "      <td>-0.144022</td>\n",
       "      <td>0.175945</td>\n",
       "    </tr>\n",
       "    <tr>\n",
       "      <th>income</th>\n",
       "      <td>0.111404</td>\n",
       "      <td>0.019235</td>\n",
       "      <td>0.046073</td>\n",
       "      <td>0.976209</td>\n",
       "      <td>0.974416</td>\n",
       "      <td>0.045578</td>\n",
       "      <td>0.996735</td>\n",
       "      <td>1.000000</td>\n",
       "      <td>-0.152016</td>\n",
       "      <td>0.175797</td>\n",
       "    </tr>\n",
       "    <tr>\n",
       "      <th>region</th>\n",
       "      <td>0.292392</td>\n",
       "      <td>0.235880</td>\n",
       "      <td>-0.242811</td>\n",
       "      <td>-0.140961</td>\n",
       "      <td>-0.220305</td>\n",
       "      <td>0.246226</td>\n",
       "      <td>-0.144022</td>\n",
       "      <td>-0.152016</td>\n",
       "      <td>1.000000</td>\n",
       "      <td>0.636192</td>\n",
       "    </tr>\n",
       "    <tr>\n",
       "      <th>crime_rate</th>\n",
       "      <td>0.293907</td>\n",
       "      <td>0.159596</td>\n",
       "      <td>-0.177992</td>\n",
       "      <td>0.187763</td>\n",
       "      <td>0.109799</td>\n",
       "      <td>0.290880</td>\n",
       "      <td>0.175945</td>\n",
       "      <td>0.175797</td>\n",
       "      <td>0.636192</td>\n",
       "      <td>1.000000</td>\n",
       "    </tr>\n",
       "  </tbody>\n",
       "</table>\n",
       "</div>"
      ],
      "text/plain": [
       "                land_area  percent_city  percent_senior  physicians  \\\n",
       "land_area        1.000000     -0.077320        0.092226    0.085054   \n",
       "percent_city    -0.077320      1.000000       -0.250995    0.067391   \n",
       "percent_senior   0.092226     -0.250995        1.000000    0.056454   \n",
       "physicians       0.085054      0.067391        0.056454    1.000000   \n",
       "hospital_beds    0.081034      0.052898        0.083775    0.974241   \n",
       "graduates        0.088728      0.076720       -0.155695    0.049500   \n",
       "work_force       0.135792      0.016011        0.035240    0.965597   \n",
       "income           0.111404      0.019235        0.046073    0.976209   \n",
       "region           0.292392      0.235880       -0.242811   -0.140961   \n",
       "crime_rate       0.293907      0.159596       -0.177992    0.187763   \n",
       "\n",
       "                hospital_beds  graduates  work_force    income    region  \\\n",
       "land_area            0.081034   0.088728    0.135792  0.111404  0.292392   \n",
       "percent_city         0.052898   0.076720    0.016011  0.019235  0.235880   \n",
       "percent_senior       0.083775  -0.155695    0.035240  0.046073 -0.242811   \n",
       "physicians           0.974241   0.049500    0.965597  0.976209 -0.140961   \n",
       "hospital_beds        1.000000  -0.003892    0.967913  0.974416 -0.220305   \n",
       "graduates           -0.003892   1.000000    0.044054  0.045578  0.246226   \n",
       "work_force           0.967913   0.044054    1.000000  0.996735 -0.144022   \n",
       "income               0.974416   0.045578    0.996735  1.000000 -0.152016   \n",
       "region              -0.220305   0.246226   -0.144022 -0.152016  1.000000   \n",
       "crime_rate           0.109799   0.290880    0.175945  0.175797  0.636192   \n",
       "\n",
       "                crime_rate  \n",
       "land_area         0.293907  \n",
       "percent_city      0.159596  \n",
       "percent_senior   -0.177992  \n",
       "physicians        0.187763  \n",
       "hospital_beds     0.109799  \n",
       "graduates         0.290880  \n",
       "work_force        0.175945  \n",
       "income            0.175797  \n",
       "region            0.636192  \n",
       "crime_rate        1.000000  "
      ]
     },
     "execution_count": 46,
     "metadata": {},
     "output_type": "execute_result"
    }
   ],
   "source": [
    "# Show correlation table\n",
    "sma.corr()"
   ]
  },
  {
   "cell_type": "code",
   "execution_count": 57,
   "id": "fd97faf5",
   "metadata": {},
   "outputs": [
    {
     "data": {
      "text/html": [
       "<div>\n",
       "<style scoped>\n",
       "    .dataframe tbody tr th:only-of-type {\n",
       "        vertical-align: middle;\n",
       "    }\n",
       "\n",
       "    .dataframe tbody tr th {\n",
       "        vertical-align: top;\n",
       "    }\n",
       "\n",
       "    .dataframe thead th {\n",
       "        text-align: right;\n",
       "    }\n",
       "</style>\n",
       "<table border=\"1\" class=\"dataframe\">\n",
       "  <thead>\n",
       "    <tr style=\"text-align: right;\">\n",
       "      <th></th>\n",
       "      <th>land_area</th>\n",
       "      <th>percent_city</th>\n",
       "      <th>percent_senior</th>\n",
       "      <th>physicians</th>\n",
       "      <th>hospital_beds</th>\n",
       "      <th>graduates</th>\n",
       "      <th>work_force</th>\n",
       "      <th>income</th>\n",
       "      <th>region</th>\n",
       "      <th>crime_rate</th>\n",
       "    </tr>\n",
       "  </thead>\n",
       "  <tbody>\n",
       "    <tr>\n",
       "      <th>4</th>\n",
       "      <td>2480</td>\n",
       "      <td>31.5</td>\n",
       "      <td>10.5</td>\n",
       "      <td>8502</td>\n",
       "      <td>16751</td>\n",
       "      <td>66.1</td>\n",
       "      <td>1514.5</td>\n",
       "      <td>26573</td>\n",
       "      <td>4</td>\n",
       "      <td>80.19</td>\n",
       "    </tr>\n",
       "    <tr>\n",
       "      <th>13</th>\n",
       "      <td>782</td>\n",
       "      <td>28.4</td>\n",
       "      <td>7.8</td>\n",
       "      <td>3119</td>\n",
       "      <td>8656</td>\n",
       "      <td>70.5</td>\n",
       "      <td>915.2</td>\n",
       "      <td>12591</td>\n",
       "      <td>4</td>\n",
       "      <td>63.20</td>\n",
       "    </tr>\n",
       "    <tr>\n",
       "      <th>14</th>\n",
       "      <td>4226</td>\n",
       "      <td>38.1</td>\n",
       "      <td>9.8</td>\n",
       "      <td>3285</td>\n",
       "      <td>5392</td>\n",
       "      <td>67.8</td>\n",
       "      <td>699.8</td>\n",
       "      <td>10918</td>\n",
       "      <td>4</td>\n",
       "      <td>64.05</td>\n",
       "    </tr>\n",
       "    <tr>\n",
       "      <th>18</th>\n",
       "      <td>27293</td>\n",
       "      <td>25.3</td>\n",
       "      <td>12.3</td>\n",
       "      <td>2018</td>\n",
       "      <td>6323</td>\n",
       "      <td>57.4</td>\n",
       "      <td>510.6</td>\n",
       "      <td>7399</td>\n",
       "      <td>4</td>\n",
       "      <td>76.03</td>\n",
       "    </tr>\n",
       "    <tr>\n",
       "      <th>20</th>\n",
       "      <td>9155</td>\n",
       "      <td>53.8</td>\n",
       "      <td>11.1</td>\n",
       "      <td>2280</td>\n",
       "      <td>6450</td>\n",
       "      <td>60.1</td>\n",
       "      <td>575.2</td>\n",
       "      <td>7766</td>\n",
       "      <td>4</td>\n",
       "      <td>85.62</td>\n",
       "    </tr>\n",
       "    <tr>\n",
       "      <th>25</th>\n",
       "      <td>3434</td>\n",
       "      <td>28.9</td>\n",
       "      <td>8.3</td>\n",
       "      <td>1844</td>\n",
       "      <td>3215</td>\n",
       "      <td>65.1</td>\n",
       "      <td>422.6</td>\n",
       "      <td>5909</td>\n",
       "      <td>4</td>\n",
       "      <td>77.94</td>\n",
       "    </tr>\n",
       "    <tr>\n",
       "      <th>33</th>\n",
       "      <td>596</td>\n",
       "      <td>100.0</td>\n",
       "      <td>6.0</td>\n",
       "      <td>1260</td>\n",
       "      <td>2819</td>\n",
       "      <td>66.0</td>\n",
       "      <td>319.9</td>\n",
       "      <td>5181</td>\n",
       "      <td>4</td>\n",
       "      <td>64.98</td>\n",
       "    </tr>\n",
       "    <tr>\n",
       "      <th>53</th>\n",
       "      <td>5966</td>\n",
       "      <td>39.5</td>\n",
       "      <td>9.6</td>\n",
       "      <td>737</td>\n",
       "      <td>1907</td>\n",
       "      <td>52.7</td>\n",
       "      <td>246.6</td>\n",
       "      <td>3007</td>\n",
       "      <td>4</td>\n",
       "      <td>80.94</td>\n",
       "    </tr>\n",
       "    <tr>\n",
       "      <th>54</th>\n",
       "      <td>1863</td>\n",
       "      <td>50.4</td>\n",
       "      <td>7.7</td>\n",
       "      <td>674</td>\n",
       "      <td>2989</td>\n",
       "      <td>63.8</td>\n",
       "      <td>194.8</td>\n",
       "      <td>2747</td>\n",
       "      <td>4</td>\n",
       "      <td>53.76</td>\n",
       "    </tr>\n",
       "    <tr>\n",
       "      <th>59</th>\n",
       "      <td>1676</td>\n",
       "      <td>36.6</td>\n",
       "      <td>9.2</td>\n",
       "      <td>505</td>\n",
       "      <td>3297</td>\n",
       "      <td>60.7</td>\n",
       "      <td>156.3</td>\n",
       "      <td>2689</td>\n",
       "      <td>4</td>\n",
       "      <td>57.37</td>\n",
       "    </tr>\n",
       "    <tr>\n",
       "      <th>67</th>\n",
       "      <td>8152</td>\n",
       "      <td>22.3</td>\n",
       "      <td>9.1</td>\n",
       "      <td>405</td>\n",
       "      <td>1254</td>\n",
       "      <td>51.7</td>\n",
       "      <td>165.6</td>\n",
       "      <td>2257</td>\n",
       "      <td>4</td>\n",
       "      <td>78.10</td>\n",
       "    </tr>\n",
       "    <tr>\n",
       "      <th>73</th>\n",
       "      <td>1758</td>\n",
       "      <td>56.8</td>\n",
       "      <td>11.5</td>\n",
       "      <td>565</td>\n",
       "      <td>2081</td>\n",
       "      <td>65.3</td>\n",
       "      <td>131.2</td>\n",
       "      <td>1939</td>\n",
       "      <td>4</td>\n",
       "      <td>56.06</td>\n",
       "    </tr>\n",
       "    <tr>\n",
       "      <th>74</th>\n",
       "      <td>1412</td>\n",
       "      <td>39.2</td>\n",
       "      <td>11.3</td>\n",
       "      <td>436</td>\n",
       "      <td>1837</td>\n",
       "      <td>49.4</td>\n",
       "      <td>154.2</td>\n",
       "      <td>2098</td>\n",
       "      <td>4</td>\n",
       "      <td>82.68</td>\n",
       "    </tr>\n",
       "    <tr>\n",
       "      <th>81</th>\n",
       "      <td>2710</td>\n",
       "      <td>63.7</td>\n",
       "      <td>6.2</td>\n",
       "      <td>357</td>\n",
       "      <td>1277</td>\n",
       "      <td>72.8</td>\n",
       "      <td>110.9</td>\n",
       "      <td>1639</td>\n",
       "      <td>4</td>\n",
       "      <td>63.10</td>\n",
       "    </tr>\n",
       "    <tr>\n",
       "      <th>84</th>\n",
       "      <td>2737</td>\n",
       "      <td>45.0</td>\n",
       "      <td>10.5</td>\n",
       "      <td>602</td>\n",
       "      <td>1462</td>\n",
       "      <td>71.3</td>\n",
       "      <td>131.4</td>\n",
       "      <td>1980</td>\n",
       "      <td>4</td>\n",
       "      <td>63.44</td>\n",
       "    </tr>\n",
       "    <tr>\n",
       "      <th>93</th>\n",
       "      <td>4552</td>\n",
       "      <td>54.4</td>\n",
       "      <td>9.1</td>\n",
       "      <td>329</td>\n",
       "      <td>719</td>\n",
       "      <td>61.9</td>\n",
       "      <td>118.0</td>\n",
       "      <td>1386</td>\n",
       "      <td>4</td>\n",
       "      <td>62.63</td>\n",
       "    </tr>\n",
       "    <tr>\n",
       "      <th>94</th>\n",
       "      <td>1511</td>\n",
       "      <td>38.7</td>\n",
       "      <td>10.7</td>\n",
       "      <td>348</td>\n",
       "      <td>1093</td>\n",
       "      <td>50.4</td>\n",
       "      <td>127.2</td>\n",
       "      <td>1452</td>\n",
       "      <td>4</td>\n",
       "      <td>70.66</td>\n",
       "    </tr>\n",
       "  </tbody>\n",
       "</table>\n",
       "</div>"
      ],
      "text/plain": [
       "    land_area  percent_city  percent_senior  physicians  hospital_beds  \\\n",
       "4        2480          31.5            10.5        8502          16751   \n",
       "13        782          28.4             7.8        3119           8656   \n",
       "14       4226          38.1             9.8        3285           5392   \n",
       "18      27293          25.3            12.3        2018           6323   \n",
       "20       9155          53.8            11.1        2280           6450   \n",
       "25       3434          28.9             8.3        1844           3215   \n",
       "33        596         100.0             6.0        1260           2819   \n",
       "53       5966          39.5             9.6         737           1907   \n",
       "54       1863          50.4             7.7         674           2989   \n",
       "59       1676          36.6             9.2         505           3297   \n",
       "67       8152          22.3             9.1         405           1254   \n",
       "73       1758          56.8            11.5         565           2081   \n",
       "74       1412          39.2            11.3         436           1837   \n",
       "81       2710          63.7             6.2         357           1277   \n",
       "84       2737          45.0            10.5         602           1462   \n",
       "93       4552          54.4             9.1         329            719   \n",
       "94       1511          38.7            10.7         348           1093   \n",
       "\n",
       "    graduates  work_force  income  region  crime_rate  \n",
       "4        66.1      1514.5   26573       4       80.19  \n",
       "13       70.5       915.2   12591       4       63.20  \n",
       "14       67.8       699.8   10918       4       64.05  \n",
       "18       57.4       510.6    7399       4       76.03  \n",
       "20       60.1       575.2    7766       4       85.62  \n",
       "25       65.1       422.6    5909       4       77.94  \n",
       "33       66.0       319.9    5181       4       64.98  \n",
       "53       52.7       246.6    3007       4       80.94  \n",
       "54       63.8       194.8    2747       4       53.76  \n",
       "59       60.7       156.3    2689       4       57.37  \n",
       "67       51.7       165.6    2257       4       78.10  \n",
       "73       65.3       131.2    1939       4       56.06  \n",
       "74       49.4       154.2    2098       4       82.68  \n",
       "81       72.8       110.9    1639       4       63.10  \n",
       "84       71.3       131.4    1980       4       63.44  \n",
       "93       61.9       118.0    1386       4       62.63  \n",
       "94       50.4       127.2    1452       4       70.66  "
      ]
     },
     "execution_count": 57,
     "metadata": {},
     "output_type": "execute_result"
    }
   ],
   "source": [
    "# Conditional selection using pandas\n",
    "sma[sma.region == 4]"
   ]
  },
  {
   "cell_type": "code",
   "execution_count": 72,
   "id": "74bd1824",
   "metadata": {},
   "outputs": [
    {
     "name": "stdout",
     "output_type": "stream",
     "text": [
      "4     False\n",
      "13    False\n",
      "14    False\n",
      "18    False\n",
      "20     True\n",
      "25    False\n",
      "33    False\n",
      "53    False\n",
      "54    False\n",
      "59    False\n",
      "67    False\n",
      "73    False\n",
      "74    False\n",
      "81    False\n",
      "84    False\n",
      "93    False\n",
      "94    False\n",
      "Name: crime_rate, dtype: bool\n"
     ]
    },
    {
     "data": {
      "text/plain": [
       "False    16\n",
       "True      1\n",
       "Name: crime_rate, dtype: int64"
      ]
     },
     "execution_count": 72,
     "metadata": {},
     "output_type": "execute_result"
    }
   ],
   "source": [
    "a = sma[sma.region==4]\n",
    "b = a.crime_rate.isin([85.62])\n",
    "print(b)\n",
    "b.value_counts()"
   ]
  },
  {
   "cell_type": "code",
   "execution_count": 101,
   "id": "28264651",
   "metadata": {},
   "outputs": [
    {
     "data": {
      "text/plain": [
       "False    98\n",
       "True      1\n",
       "dtype: int64"
      ]
     },
     "execution_count": 101,
     "metadata": {},
     "output_type": "execute_result"
    }
   ],
   "source": [
    "# Use parentheses to isolate actions\n",
    "# filter by region == 4\n",
    "# filter by crime rate == 85.62\n",
    "# create a boolean series where both are true\n",
    "# return the value counts for the resulting series\n",
    "\n",
    "((sma['region']==4) & (sma['crime_rate']==85.62)).value_counts()\n"
   ]
  },
  {
   "cell_type": "code",
   "execution_count": 108,
   "id": "51059ac2",
   "metadata": {},
   "outputs": [
    {
     "data": {
      "text/plain": [
       "Text(0, 0.5, 'Crime Rate')"
      ]
     },
     "execution_count": 108,
     "metadata": {},
     "output_type": "execute_result"
    },
    {
     "data": {
      "image/png": "[encoded data removed]",
      "text/plain": [
       "<Figure size 432x288 with 1 Axes>"
      ]
     },
     "metadata": {
      "needs_background": "light"
     },
     "output_type": "display_data"
    }
   ],
   "source": [
    "# line plot land area and crime rate\n",
    "plt.plot(sma.land_area, sma.crime_rate)\n",
    "plt.xlabel('Land Area')\n",
    "plt.ylabel('Crime Rate')\n",
    "\n"
   ]
  },
  {
   "cell_type": "code",
   "execution_count": 164,
   "id": "cdf85e23",
   "metadata": {},
   "outputs": [
    {
     "data": {
      "text/plain": [
       "Text(0, 0.5, 'hospital beds')"
      ]
     },
     "execution_count": 164,
     "metadata": {},
     "output_type": "execute_result"
    },
    {
     "data": {
      "image/png": "[encoded data removed]",
      "text/plain": [
       "<Figure size 432x288 with 1 Axes>"
      ]
     },
     "metadata": {
      "needs_background": "light"
     },
     "output_type": "display_data"
    }
   ],
   "source": [
    "# scatter plot hospital beds (y) vs physicians (x)\n",
    "plt.scatter(x.physicians, x.hospital_beds, edgecolors='white')\n",
    "plt.xlabel('physicians')\n",
    "plt.ylabel('hospital beds')"
   ]
  },
  {
   "cell_type": "code",
   "execution_count": 158,
   "id": "6afa5885",
   "metadata": {},
   "outputs": [
    {
     "data": {
      "text/plain": [
       "Text(0, 0.5, 'Frequency')"
      ]
     },
     "execution_count": 158,
     "metadata": {},
     "output_type": "execute_result"
    },
    {
     "data": {
      "image/png": "[encoded data removed]",
      "text/plain": [
       "<Figure size 432x288 with 1 Axes>"
      ]
     },
     "metadata": {
      "needs_background": "light"
     },
     "output_type": "display_data"
    }
   ],
   "source": [
    "# bar plot of geographic regions\n",
    "a = sma.sort_values(by='region')\n",
    "cnt = a.region.value_counts()\n",
    "cnt.sort_index().plot.bar(color=['blue', 'orange', 'green', 'red'])\n",
    "#plt.bar(sma.region, cnt,color=['blue', 'orange', 'green', 'red'])\n",
    "plt.xlabel('Geographic region')\n",
    "plt.ylabel('Frequency')\n",
    "\n",
    "#sma.sort_values(by='region').region.value_counts().plot.bar()"
   ]
  },
  {
   "cell_type": "code",
   "execution_count": 162,
   "id": "7b7db055",
   "metadata": {},
   "outputs": [
    {
     "data": {
      "image/png": "[encoded data removed]",
      "text/plain": [
       "<Figure size 432x288 with 1 Axes>"
      ]
     },
     "metadata": {
      "needs_background": "light"
     },
     "output_type": "display_data"
    }
   ],
   "source": [
    "# Distribution of income\n",
    "plt.hist(sma.income)\n",
    "plt.title('Total income in 1976 in millions of dollars')\n",
    "plt.xlabel('Income')\n",
    "plt.ylabel('Frequency')\n",
    "plt.show()"
   ]
  },
  {
   "cell_type": "code",
   "execution_count": 165,
   "id": "f5a57f5f",
   "metadata": {},
   "outputs": [
    {
     "data": {
      "text/html": [
       "<div>\n",
       "<style scoped>\n",
       "    .dataframe tbody tr th:only-of-type {\n",
       "        vertical-align: middle;\n",
       "    }\n",
       "\n",
       "    .dataframe tbody tr th {\n",
       "        vertical-align: top;\n",
       "    }\n",
       "\n",
       "    .dataframe thead th {\n",
       "        text-align: right;\n",
       "    }\n",
       "</style>\n",
       "<table border=\"1\" class=\"dataframe\">\n",
       "  <thead>\n",
       "    <tr style=\"text-align: right;\">\n",
       "      <th></th>\n",
       "      <th>land_area</th>\n",
       "      <th>percent_city</th>\n",
       "      <th>percent_senior</th>\n",
       "      <th>physicians</th>\n",
       "      <th>hospital_beds</th>\n",
       "      <th>graduates</th>\n",
       "      <th>work_force</th>\n",
       "      <th>income</th>\n",
       "      <th>region</th>\n",
       "      <th>crime_rate</th>\n",
       "    </tr>\n",
       "  </thead>\n",
       "  <tbody>\n",
       "    <tr>\n",
       "      <th>0</th>\n",
       "      <td>1384</td>\n",
       "      <td>78.1</td>\n",
       "      <td>12.3</td>\n",
       "      <td>25627</td>\n",
       "      <td>69678</td>\n",
       "      <td>50.1</td>\n",
       "      <td>4083.9</td>\n",
       "      <td>72100</td>\n",
       "      <td>1</td>\n",
       "      <td>75.55</td>\n",
       "    </tr>\n",
       "  </tbody>\n",
       "</table>\n",
       "</div>"
      ],
      "text/plain": [
       "   land_area  percent_city  percent_senior  physicians  hospital_beds  \\\n",
       "0       1384          78.1            12.3       25627          69678   \n",
       "\n",
       "   graduates  work_force  income  region  crime_rate  \n",
       "0       50.1      4083.9   72100       1       75.55  "
      ]
     },
     "execution_count": 165,
     "metadata": {},
     "output_type": "execute_result"
    }
   ],
   "source": [
    "sma[sma.physicians > 25000]"
   ]
  },
  {
   "cell_type": "code",
   "execution_count": null,
   "id": "90ce0c17",
   "metadata": {},
   "outputs": [],
   "source": []
  }
 ],
 "metadata": {
  "kernelspec": {
   "display_name": "Python 3",
   "language": "python",
   "name": "python3"
  },
  "language_info": {
   "codemirror_mode": {
    "name": "ipython",
    "version": 3
   },
   "file_extension": ".py",
   "mimetype": "text/x-python",
   "name": "python",
   "nbconvert_exporter": "python",
   "pygments_lexer": "ipython3",
   "version": "3.8.8"
  }
 },
 "nbformat": 4,
 "nbformat_minor": 5
}
