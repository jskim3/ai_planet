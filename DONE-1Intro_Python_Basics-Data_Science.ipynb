{
 "cells": [
  {
   "cell_type": "markdown",
   "id": "36208ba9",
   "metadata": {},
   "source": [
    "##  Introduction to Python Basics for Data Science\n",
    "\n",
    "###  Coding Challenge 1\n",
    "1. Consider two numbers, a = 5, b = 16. Write a Python program to print the sum of these two numbers.\n",
    "2. Write a Python program to take a number from the user as input and print the cube of the number."
   ]
  },
  {
   "cell_type": "code",
   "execution_count": 3,
   "id": "5221b99d",
   "metadata": {},
   "outputs": [
    {
     "name": "stdout",
     "output_type": "stream",
     "text": [
      "21\n"
     ]
    }
   ],
   "source": [
    "# 1. Consider two numbers, a = 5, b = 16. Write a Python program to print the sum of these two numbers.\n",
    "\n",
    "a = 5\n",
    "b = 16\n",
    "print(a+b)"
   ]
  },
  {
   "cell_type": "code",
   "execution_count": 8,
   "id": "f88e9016",
   "metadata": {},
   "outputs": [
    {
     "name": "stdout",
     "output_type": "stream",
     "text": [
      "Type a number: 5\n",
      "The cube of the number is 125\n"
     ]
    }
   ],
   "source": [
    "# 2. Write a Python program to take a number from the user as input and print the cube of the number.\n",
    "\n",
    "number = input('Type a number: ')\n",
    "print('The cube of the number is', int(number)**3)"
   ]
  },
  {
   "cell_type": "markdown",
   "id": "27526479",
   "metadata": {},
   "source": [
    ".sort()  \n",
    "default ascending order  \n",
    "descending: pass parameter reverse = True  "
   ]
  },
  {
   "cell_type": "code",
   "execution_count": 14,
   "id": "7cb31e8a",
   "metadata": {},
   "outputs": [
    {
     "name": "stdout",
     "output_type": "stream",
     "text": [
      "[9, 2, 5, 1]\n",
      "[1, 2, 5, 9]\n",
      "[9, 5, 2, 1]\n"
     ]
    }
   ],
   "source": [
    "list1 = [9,2,5,1]\n",
    "print(list1)\n",
    "\n",
    "# Sort ascending\n",
    "list1.sort()\n",
    "print(list1)\n",
    "\n",
    "# Sort descending\n",
    "list1.sort(reverse=True)\n",
    "print(list1)"
   ]
  },
  {
   "cell_type": "code",
   "execution_count": 16,
   "id": "8b86feed",
   "metadata": {},
   "outputs": [
    {
     "name": "stdout",
     "output_type": "stream",
     "text": [
      "[1]\n",
      "[1]\n"
     ]
    }
   ],
   "source": [
    "print(list1[-1:])\n",
    "print(list1[3:])"
   ]
  },
  {
   "cell_type": "code",
   "execution_count": 20,
   "id": "152f5630",
   "metadata": {},
   "outputs": [
    {
     "name": "stdout",
     "output_type": "stream",
     "text": [
      "[]\n"
     ]
    }
   ],
   "source": [
    "lst=[]*3\n",
    "print(lst)"
   ]
  },
  {
   "cell_type": "code",
   "execution_count": 21,
   "id": "19346899",
   "metadata": {},
   "outputs": [
    {
     "ename": "NameError",
     "evalue": "name 'size' is not defined",
     "output_type": "error",
     "traceback": [
      "\u001b[0;31m---------------------------------------------------------------------------\u001b[0m",
      "\u001b[0;31mNameError\u001b[0m                                 Traceback (most recent call last)",
      "\u001b[0;32m<ipython-input-21-a8901a30448b>\u001b[0m in \u001b[0;36m<module>\u001b[0;34m\u001b[0m\n\u001b[1;32m      1\u001b[0m \u001b[0md\u001b[0m \u001b[0;34m=\u001b[0m \u001b[0;34m{\u001b[0m\u001b[0;34m\"john\"\u001b[0m\u001b[0;34m:\u001b[0m\u001b[0;36m40\u001b[0m\u001b[0;34m,\u001b[0m \u001b[0;34m\"peter\"\u001b[0m\u001b[0;34m:\u001b[0m\u001b[0;36m45\u001b[0m\u001b[0;34m}\u001b[0m\u001b[0;34m\u001b[0m\u001b[0;34m\u001b[0m\u001b[0m\n\u001b[0;32m----> 2\u001b[0;31m \u001b[0msize\u001b[0m\u001b[0;34m(\u001b[0m\u001b[0md\u001b[0m\u001b[0;34m)\u001b[0m\u001b[0;34m\u001b[0m\u001b[0;34m\u001b[0m\u001b[0m\n\u001b[0m",
      "\u001b[0;31mNameError\u001b[0m: name 'size' is not defined"
     ]
    }
   ],
   "source": [
    "d = {\"john\":40, \"peter\":45}\n",
    "size(d)"
   ]
  },
  {
   "cell_type": "code",
   "execution_count": 22,
   "id": "c60dd040",
   "metadata": {},
   "outputs": [
    {
     "ename": "AttributeError",
     "evalue": "'dict' object has no attribute 'len'",
     "output_type": "error",
     "traceback": [
      "\u001b[0;31m---------------------------------------------------------------------------\u001b[0m",
      "\u001b[0;31mAttributeError\u001b[0m                            Traceback (most recent call last)",
      "\u001b[0;32m<ipython-input-22-bdd46d5cadbc>\u001b[0m in \u001b[0;36m<module>\u001b[0;34m\u001b[0m\n\u001b[0;32m----> 1\u001b[0;31m \u001b[0md\u001b[0m\u001b[0;34m.\u001b[0m\u001b[0mlen\u001b[0m\u001b[0;34m(\u001b[0m\u001b[0;34m)\u001b[0m\u001b[0;34m\u001b[0m\u001b[0;34m\u001b[0m\u001b[0m\n\u001b[0m",
      "\u001b[0;31mAttributeError\u001b[0m: 'dict' object has no attribute 'len'"
     ]
    }
   ],
   "source": [
    "d.len()"
   ]
  },
  {
   "cell_type": "code",
   "execution_count": 23,
   "id": "5ba3182e",
   "metadata": {},
   "outputs": [
    {
     "data": {
      "text/plain": [
       "2"
      ]
     },
     "execution_count": 23,
     "metadata": {},
     "output_type": "execute_result"
    }
   ],
   "source": [
    "len(d)"
   ]
  },
  {
   "cell_type": "code",
   "execution_count": 27,
   "id": "15b3a118",
   "metadata": {},
   "outputs": [
    {
     "name": "stdout",
     "output_type": "stream",
     "text": [
      "<class 'str'>\n",
      "<class 'list'>\n",
      "<class 'tuple'>\n"
     ]
    }
   ],
   "source": [
    "tup = (\"orange\")\n",
    "print(type(tup))\n",
    "\n",
    "lst = [\"orange\"]\n",
    "print(type(lst))\n",
    "\n",
    "tup = (\"orange\", 1)\n",
    "print(type(tup))"
   ]
  },
  {
   "cell_type": "code",
   "execution_count": 31,
   "id": "68ea11c9",
   "metadata": {},
   "outputs": [
    {
     "name": "stdout",
     "output_type": "stream",
     "text": [
      "[4]\n",
      "[3, 7, 8, 6, 1, 2]\n",
      "[3, [7, 8], 8, 6, 1, 2]\n"
     ]
    }
   ],
   "source": [
    "lst = [3,4,6,1,2]\n",
    "print(lst[1:2])\n",
    "lst[1:2] = [7,8]\n",
    "print(lst)\n",
    "lst[1] = [7,8]\n",
    "print(lst)"
   ]
  },
  {
   "cell_type": "code",
   "execution_count": 33,
   "id": "1f3bc815",
   "metadata": {},
   "outputs": [
    {
     "name": "stdout",
     "output_type": "stream",
     "text": [
      "-133\n"
     ]
    }
   ],
   "source": [
    "L1 = [10, 20, 30, 25, 32, 45, 50]\n",
    "L2 = [80, 70, 78, 55, 62]\n",
    "S1 = sum(L1)\n",
    "S2 = sum(L2)\n",
    "print(S1-S2)"
   ]
  },
  {
   "cell_type": "code",
   "execution_count": 37,
   "id": "a19e280c",
   "metadata": {},
   "outputs": [
    {
     "name": "stdout",
     "output_type": "stream",
     "text": [
      "3 2\n",
      "Sum: 5\n",
      "5 16\n",
      "<built-in function sum>\n"
     ]
    }
   ],
   "source": [
    "def add_numbers( a = 7,  b = 8):\n",
    "    print(a, b)\n",
    "    sum = a + b\n",
    "    print('Sum:', sum)\n",
    "    \n",
    "add_numbers(b=2, a=3)\n",
    "print(a, b)\n",
    "print(sum)\n"
   ]
  },
  {
   "cell_type": "code",
   "execution_count": null,
   "id": "142807c2",
   "metadata": {},
   "outputs": [],
   "source": []
  }
 ],
 "metadata": {
  "kernelspec": {
   "display_name": "Python 3",
   "language": "python",
   "name": "python3"
  },
  "language_info": {
   "codemirror_mode": {
    "name": "ipython",
    "version": 3
   },
   "file_extension": ".py",
   "mimetype": "text/x-python",
   "name": "python",
   "nbconvert_exporter": "python",
   "pygments_lexer": "ipython3",
   "version": "3.8.8"
  }
 },
 "nbformat": 4,
 "nbformat_minor": 5
}
